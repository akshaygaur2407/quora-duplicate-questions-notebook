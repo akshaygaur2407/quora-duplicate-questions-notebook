{
  "metadata": {
    "kernelspec": {
      "language": "python",
      "display_name": "Python 3",
      "name": "python3"
    },
    "language_info": {
      "name": "python",
      "version": "3.7.12",
      "mimetype": "text/x-python",
      "codemirror_mode": {
        "name": "ipython",
        "version": 3
      },
      "pygments_lexer": "ipython3",
      "nbconvert_exporter": "python",
      "file_extension": ".py"
    },
    "colab": {
      "name": "quora question duplicate notebook.ipynb",
      "provenance": [],
      "collapsed_sections": []
    },
    "accelerator": "GPU",
    "widgets": {
      "application/vnd.jupyter.widget-state+json": {
        "9ea645f3986e488481de7b8ca3258d7a": {
          "model_module": "@jupyter-widgets/controls",
          "model_name": "HBoxModel",
          "model_module_version": "1.5.0",
          "state": {
            "_view_name": "HBoxView",
            "_dom_classes": [],
            "_model_name": "HBoxModel",
            "_view_module": "@jupyter-widgets/controls",
            "_model_module_version": "1.5.0",
            "_view_count": null,
            "_view_module_version": "1.5.0",
            "box_style": "",
            "layout": "IPY_MODEL_2cd0003c552e4d7bb7cb2118b625d6e7",
            "_model_module": "@jupyter-widgets/controls",
            "children": [
              "IPY_MODEL_99e047ed4fe44933816e58a440f5ee89",
              "IPY_MODEL_6111bd306836421ea6efc2e430a425ca",
              "IPY_MODEL_5359ad3892a64eabb4994a8033f0181b"
            ]
          }
        },
        "2cd0003c552e4d7bb7cb2118b625d6e7": {
          "model_module": "@jupyter-widgets/base",
          "model_name": "LayoutModel",
          "model_module_version": "1.2.0",
          "state": {
            "_view_name": "LayoutView",
            "grid_template_rows": null,
            "right": null,
            "justify_content": null,
            "_view_module": "@jupyter-widgets/base",
            "overflow": null,
            "_model_module_version": "1.2.0",
            "_view_count": null,
            "flex_flow": null,
            "width": null,
            "min_width": null,
            "border": null,
            "align_items": null,
            "bottom": null,
            "_model_module": "@jupyter-widgets/base",
            "top": null,
            "grid_column": null,
            "overflow_y": null,
            "overflow_x": null,
            "grid_auto_flow": null,
            "grid_area": null,
            "grid_template_columns": null,
            "flex": null,
            "_model_name": "LayoutModel",
            "justify_items": null,
            "grid_row": null,
            "max_height": null,
            "align_content": null,
            "visibility": null,
            "align_self": null,
            "height": null,
            "min_height": null,
            "padding": null,
            "grid_auto_rows": null,
            "grid_gap": null,
            "max_width": null,
            "order": null,
            "_view_module_version": "1.2.0",
            "grid_template_areas": null,
            "object_position": null,
            "object_fit": null,
            "grid_auto_columns": null,
            "margin": null,
            "display": null,
            "left": null
          }
        },
        "99e047ed4fe44933816e58a440f5ee89": {
          "model_module": "@jupyter-widgets/controls",
          "model_name": "HTMLModel",
          "model_module_version": "1.5.0",
          "state": {
            "_view_name": "HTMLView",
            "style": "IPY_MODEL_4c45d984c2da44e895405ea9a48ac218",
            "_dom_classes": [],
            "description": "",
            "_model_name": "HTMLModel",
            "placeholder": "​",
            "_view_module": "@jupyter-widgets/controls",
            "_model_module_version": "1.5.0",
            "value": "Downloading: 100%",
            "_view_count": null,
            "_view_module_version": "1.5.0",
            "description_tooltip": null,
            "_model_module": "@jupyter-widgets/controls",
            "layout": "IPY_MODEL_df7743debe644388920baa1599cbdb68"
          }
        },
        "6111bd306836421ea6efc2e430a425ca": {
          "model_module": "@jupyter-widgets/controls",
          "model_name": "FloatProgressModel",
          "model_module_version": "1.5.0",
          "state": {
            "_view_name": "ProgressView",
            "style": "IPY_MODEL_4118abe074ae47d8a51a65e4c45cf9c0",
            "_dom_classes": [],
            "description": "",
            "_model_name": "FloatProgressModel",
            "bar_style": "success",
            "max": 433,
            "_view_module": "@jupyter-widgets/controls",
            "_model_module_version": "1.5.0",
            "value": 433,
            "_view_count": null,
            "_view_module_version": "1.5.0",
            "orientation": "horizontal",
            "min": 0,
            "description_tooltip": null,
            "_model_module": "@jupyter-widgets/controls",
            "layout": "IPY_MODEL_b87374ad74e241d59f15eff206f9d61d"
          }
        },
        "5359ad3892a64eabb4994a8033f0181b": {
          "model_module": "@jupyter-widgets/controls",
          "model_name": "HTMLModel",
          "model_module_version": "1.5.0",
          "state": {
            "_view_name": "HTMLView",
            "style": "IPY_MODEL_2a9306828735470f9a6c4213c9e068a8",
            "_dom_classes": [],
            "description": "",
            "_model_name": "HTMLModel",
            "placeholder": "​",
            "_view_module": "@jupyter-widgets/controls",
            "_model_module_version": "1.5.0",
            "value": " 433/433 [00:00&lt;00:00, 4.24kB/s]",
            "_view_count": null,
            "_view_module_version": "1.5.0",
            "description_tooltip": null,
            "_model_module": "@jupyter-widgets/controls",
            "layout": "IPY_MODEL_307d89492e614f0097ed23dfbc1b1023"
          }
        },
        "4c45d984c2da44e895405ea9a48ac218": {
          "model_module": "@jupyter-widgets/controls",
          "model_name": "DescriptionStyleModel",
          "model_module_version": "1.5.0",
          "state": {
            "_view_name": "StyleView",
            "_model_name": "DescriptionStyleModel",
            "description_width": "",
            "_view_module": "@jupyter-widgets/base",
            "_model_module_version": "1.5.0",
            "_view_count": null,
            "_view_module_version": "1.2.0",
            "_model_module": "@jupyter-widgets/controls"
          }
        },
        "df7743debe644388920baa1599cbdb68": {
          "model_module": "@jupyter-widgets/base",
          "model_name": "LayoutModel",
          "model_module_version": "1.2.0",
          "state": {
            "_view_name": "LayoutView",
            "grid_template_rows": null,
            "right": null,
            "justify_content": null,
            "_view_module": "@jupyter-widgets/base",
            "overflow": null,
            "_model_module_version": "1.2.0",
            "_view_count": null,
            "flex_flow": null,
            "width": null,
            "min_width": null,
            "border": null,
            "align_items": null,
            "bottom": null,
            "_model_module": "@jupyter-widgets/base",
            "top": null,
            "grid_column": null,
            "overflow_y": null,
            "overflow_x": null,
            "grid_auto_flow": null,
            "grid_area": null,
            "grid_template_columns": null,
            "flex": null,
            "_model_name": "LayoutModel",
            "justify_items": null,
            "grid_row": null,
            "max_height": null,
            "align_content": null,
            "visibility": null,
            "align_self": null,
            "height": null,
            "min_height": null,
            "padding": null,
            "grid_auto_rows": null,
            "grid_gap": null,
            "max_width": null,
            "order": null,
            "_view_module_version": "1.2.0",
            "grid_template_areas": null,
            "object_position": null,
            "object_fit": null,
            "grid_auto_columns": null,
            "margin": null,
            "display": null,
            "left": null
          }
        },
        "4118abe074ae47d8a51a65e4c45cf9c0": {
          "model_module": "@jupyter-widgets/controls",
          "model_name": "ProgressStyleModel",
          "model_module_version": "1.5.0",
          "state": {
            "_view_name": "StyleView",
            "_model_name": "ProgressStyleModel",
            "description_width": "",
            "_view_module": "@jupyter-widgets/base",
            "_model_module_version": "1.5.0",
            "_view_count": null,
            "_view_module_version": "1.2.0",
            "bar_color": null,
            "_model_module": "@jupyter-widgets/controls"
          }
        },
        "b87374ad74e241d59f15eff206f9d61d": {
          "model_module": "@jupyter-widgets/base",
          "model_name": "LayoutModel",
          "model_module_version": "1.2.0",
          "state": {
            "_view_name": "LayoutView",
            "grid_template_rows": null,
            "right": null,
            "justify_content": null,
            "_view_module": "@jupyter-widgets/base",
            "overflow": null,
            "_model_module_version": "1.2.0",
            "_view_count": null,
            "flex_flow": null,
            "width": null,
            "min_width": null,
            "border": null,
            "align_items": null,
            "bottom": null,
            "_model_module": "@jupyter-widgets/base",
            "top": null,
            "grid_column": null,
            "overflow_y": null,
            "overflow_x": null,
            "grid_auto_flow": null,
            "grid_area": null,
            "grid_template_columns": null,
            "flex": null,
            "_model_name": "LayoutModel",
            "justify_items": null,
            "grid_row": null,
            "max_height": null,
            "align_content": null,
            "visibility": null,
            "align_self": null,
            "height": null,
            "min_height": null,
            "padding": null,
            "grid_auto_rows": null,
            "grid_gap": null,
            "max_width": null,
            "order": null,
            "_view_module_version": "1.2.0",
            "grid_template_areas": null,
            "object_position": null,
            "object_fit": null,
            "grid_auto_columns": null,
            "margin": null,
            "display": null,
            "left": null
          }
        },
        "2a9306828735470f9a6c4213c9e068a8": {
          "model_module": "@jupyter-widgets/controls",
          "model_name": "DescriptionStyleModel",
          "model_module_version": "1.5.0",
          "state": {
            "_view_name": "StyleView",
            "_model_name": "DescriptionStyleModel",
            "description_width": "",
            "_view_module": "@jupyter-widgets/base",
            "_model_module_version": "1.5.0",
            "_view_count": null,
            "_view_module_version": "1.2.0",
            "_model_module": "@jupyter-widgets/controls"
          }
        },
        "307d89492e614f0097ed23dfbc1b1023": {
          "model_module": "@jupyter-widgets/base",
          "model_name": "LayoutModel",
          "model_module_version": "1.2.0",
          "state": {
            "_view_name": "LayoutView",
            "grid_template_rows": null,
            "right": null,
            "justify_content": null,
            "_view_module": "@jupyter-widgets/base",
            "overflow": null,
            "_model_module_version": "1.2.0",
            "_view_count": null,
            "flex_flow": null,
            "width": null,
            "min_width": null,
            "border": null,
            "align_items": null,
            "bottom": null,
            "_model_module": "@jupyter-widgets/base",
            "top": null,
            "grid_column": null,
            "overflow_y": null,
            "overflow_x": null,
            "grid_auto_flow": null,
            "grid_area": null,
            "grid_template_columns": null,
            "flex": null,
            "_model_name": "LayoutModel",
            "justify_items": null,
            "grid_row": null,
            "max_height": null,
            "align_content": null,
            "visibility": null,
            "align_self": null,
            "height": null,
            "min_height": null,
            "padding": null,
            "grid_auto_rows": null,
            "grid_gap": null,
            "max_width": null,
            "order": null,
            "_view_module_version": "1.2.0",
            "grid_template_areas": null,
            "object_position": null,
            "object_fit": null,
            "grid_auto_columns": null,
            "margin": null,
            "display": null,
            "left": null
          }
        },
        "50e44486c2634e1197d0bd7d58f25e2a": {
          "model_module": "@jupyter-widgets/controls",
          "model_name": "HBoxModel",
          "model_module_version": "1.5.0",
          "state": {
            "_view_name": "HBoxView",
            "_dom_classes": [],
            "_model_name": "HBoxModel",
            "_view_module": "@jupyter-widgets/controls",
            "_model_module_version": "1.5.0",
            "_view_count": null,
            "_view_module_version": "1.5.0",
            "box_style": "",
            "layout": "IPY_MODEL_5c97d2a2d006409a834e7acf10fd6eb8",
            "_model_module": "@jupyter-widgets/controls",
            "children": [
              "IPY_MODEL_f4c27bb53ab941b185dd76a41d52d81a",
              "IPY_MODEL_465734bbe05442528e8cfdaf18db474f",
              "IPY_MODEL_62b99f5f1e084b1da29ce901c8641247"
            ]
          }
        },
        "5c97d2a2d006409a834e7acf10fd6eb8": {
          "model_module": "@jupyter-widgets/base",
          "model_name": "LayoutModel",
          "model_module_version": "1.2.0",
          "state": {
            "_view_name": "LayoutView",
            "grid_template_rows": null,
            "right": null,
            "justify_content": null,
            "_view_module": "@jupyter-widgets/base",
            "overflow": null,
            "_model_module_version": "1.2.0",
            "_view_count": null,
            "flex_flow": null,
            "width": null,
            "min_width": null,
            "border": null,
            "align_items": null,
            "bottom": null,
            "_model_module": "@jupyter-widgets/base",
            "top": null,
            "grid_column": null,
            "overflow_y": null,
            "overflow_x": null,
            "grid_auto_flow": null,
            "grid_area": null,
            "grid_template_columns": null,
            "flex": null,
            "_model_name": "LayoutModel",
            "justify_items": null,
            "grid_row": null,
            "max_height": null,
            "align_content": null,
            "visibility": null,
            "align_self": null,
            "height": null,
            "min_height": null,
            "padding": null,
            "grid_auto_rows": null,
            "grid_gap": null,
            "max_width": null,
            "order": null,
            "_view_module_version": "1.2.0",
            "grid_template_areas": null,
            "object_position": null,
            "object_fit": null,
            "grid_auto_columns": null,
            "margin": null,
            "display": null,
            "left": null
          }
        },
        "f4c27bb53ab941b185dd76a41d52d81a": {
          "model_module": "@jupyter-widgets/controls",
          "model_name": "HTMLModel",
          "model_module_version": "1.5.0",
          "state": {
            "_view_name": "HTMLView",
            "style": "IPY_MODEL_5b9035dbd46c4e7eb2d1cfb145ccfb30",
            "_dom_classes": [],
            "description": "",
            "_model_name": "HTMLModel",
            "placeholder": "​",
            "_view_module": "@jupyter-widgets/controls",
            "_model_module_version": "1.5.0",
            "value": "Downloading: 100%",
            "_view_count": null,
            "_view_module_version": "1.5.0",
            "description_tooltip": null,
            "_model_module": "@jupyter-widgets/controls",
            "layout": "IPY_MODEL_f91d8a1341d847de8815dd1740bb0e66"
          }
        },
        "465734bbe05442528e8cfdaf18db474f": {
          "model_module": "@jupyter-widgets/controls",
          "model_name": "FloatProgressModel",
          "model_module_version": "1.5.0",
          "state": {
            "_view_name": "ProgressView",
            "style": "IPY_MODEL_51ceeed30f9a4690b78c2b96b528d02e",
            "_dom_classes": [],
            "description": "",
            "_model_name": "FloatProgressModel",
            "bar_style": "success",
            "max": 536063208,
            "_view_module": "@jupyter-widgets/controls",
            "_model_module_version": "1.5.0",
            "value": 536063208,
            "_view_count": null,
            "_view_module_version": "1.5.0",
            "orientation": "horizontal",
            "min": 0,
            "description_tooltip": null,
            "_model_module": "@jupyter-widgets/controls",
            "layout": "IPY_MODEL_fd6baff5c6c64398a92137a20969b680"
          }
        },
        "62b99f5f1e084b1da29ce901c8641247": {
          "model_module": "@jupyter-widgets/controls",
          "model_name": "HTMLModel",
          "model_module_version": "1.5.0",
          "state": {
            "_view_name": "HTMLView",
            "style": "IPY_MODEL_ed5481013f0c49a381f2dd81fc8a0312",
            "_dom_classes": [],
            "description": "",
            "_model_name": "HTMLModel",
            "placeholder": "​",
            "_view_module": "@jupyter-widgets/controls",
            "_model_module_version": "1.5.0",
            "value": " 536M/536M [00:54&lt;00:00, 15.6MB/s]",
            "_view_count": null,
            "_view_module_version": "1.5.0",
            "description_tooltip": null,
            "_model_module": "@jupyter-widgets/controls",
            "layout": "IPY_MODEL_c7dcb7201f5c4464a128e5d9862944a7"
          }
        },
        "5b9035dbd46c4e7eb2d1cfb145ccfb30": {
          "model_module": "@jupyter-widgets/controls",
          "model_name": "DescriptionStyleModel",
          "model_module_version": "1.5.0",
          "state": {
            "_view_name": "StyleView",
            "_model_name": "DescriptionStyleModel",
            "description_width": "",
            "_view_module": "@jupyter-widgets/base",
            "_model_module_version": "1.5.0",
            "_view_count": null,
            "_view_module_version": "1.2.0",
            "_model_module": "@jupyter-widgets/controls"
          }
        },
        "f91d8a1341d847de8815dd1740bb0e66": {
          "model_module": "@jupyter-widgets/base",
          "model_name": "LayoutModel",
          "model_module_version": "1.2.0",
          "state": {
            "_view_name": "LayoutView",
            "grid_template_rows": null,
            "right": null,
            "justify_content": null,
            "_view_module": "@jupyter-widgets/base",
            "overflow": null,
            "_model_module_version": "1.2.0",
            "_view_count": null,
            "flex_flow": null,
            "width": null,
            "min_width": null,
            "border": null,
            "align_items": null,
            "bottom": null,
            "_model_module": "@jupyter-widgets/base",
            "top": null,
            "grid_column": null,
            "overflow_y": null,
            "overflow_x": null,
            "grid_auto_flow": null,
            "grid_area": null,
            "grid_template_columns": null,
            "flex": null,
            "_model_name": "LayoutModel",
            "justify_items": null,
            "grid_row": null,
            "max_height": null,
            "align_content": null,
            "visibility": null,
            "align_self": null,
            "height": null,
            "min_height": null,
            "padding": null,
            "grid_auto_rows": null,
            "grid_gap": null,
            "max_width": null,
            "order": null,
            "_view_module_version": "1.2.0",
            "grid_template_areas": null,
            "object_position": null,
            "object_fit": null,
            "grid_auto_columns": null,
            "margin": null,
            "display": null,
            "left": null
          }
        },
        "51ceeed30f9a4690b78c2b96b528d02e": {
          "model_module": "@jupyter-widgets/controls",
          "model_name": "ProgressStyleModel",
          "model_module_version": "1.5.0",
          "state": {
            "_view_name": "StyleView",
            "_model_name": "ProgressStyleModel",
            "description_width": "",
            "_view_module": "@jupyter-widgets/base",
            "_model_module_version": "1.5.0",
            "_view_count": null,
            "_view_module_version": "1.2.0",
            "bar_color": null,
            "_model_module": "@jupyter-widgets/controls"
          }
        },
        "fd6baff5c6c64398a92137a20969b680": {
          "model_module": "@jupyter-widgets/base",
          "model_name": "LayoutModel",
          "model_module_version": "1.2.0",
          "state": {
            "_view_name": "LayoutView",
            "grid_template_rows": null,
            "right": null,
            "justify_content": null,
            "_view_module": "@jupyter-widgets/base",
            "overflow": null,
            "_model_module_version": "1.2.0",
            "_view_count": null,
            "flex_flow": null,
            "width": null,
            "min_width": null,
            "border": null,
            "align_items": null,
            "bottom": null,
            "_model_module": "@jupyter-widgets/base",
            "top": null,
            "grid_column": null,
            "overflow_y": null,
            "overflow_x": null,
            "grid_auto_flow": null,
            "grid_area": null,
            "grid_template_columns": null,
            "flex": null,
            "_model_name": "LayoutModel",
            "justify_items": null,
            "grid_row": null,
            "max_height": null,
            "align_content": null,
            "visibility": null,
            "align_self": null,
            "height": null,
            "min_height": null,
            "padding": null,
            "grid_auto_rows": null,
            "grid_gap": null,
            "max_width": null,
            "order": null,
            "_view_module_version": "1.2.0",
            "grid_template_areas": null,
            "object_position": null,
            "object_fit": null,
            "grid_auto_columns": null,
            "margin": null,
            "display": null,
            "left": null
          }
        },
        "ed5481013f0c49a381f2dd81fc8a0312": {
          "model_module": "@jupyter-widgets/controls",
          "model_name": "DescriptionStyleModel",
          "model_module_version": "1.5.0",
          "state": {
            "_view_name": "StyleView",
            "_model_name": "DescriptionStyleModel",
            "description_width": "",
            "_view_module": "@jupyter-widgets/base",
            "_model_module_version": "1.5.0",
            "_view_count": null,
            "_view_module_version": "1.2.0",
            "_model_module": "@jupyter-widgets/controls"
          }
        },
        "c7dcb7201f5c4464a128e5d9862944a7": {
          "model_module": "@jupyter-widgets/base",
          "model_name": "LayoutModel",
          "model_module_version": "1.2.0",
          "state": {
            "_view_name": "LayoutView",
            "grid_template_rows": null,
            "right": null,
            "justify_content": null,
            "_view_module": "@jupyter-widgets/base",
            "overflow": null,
            "_model_module_version": "1.2.0",
            "_view_count": null,
            "flex_flow": null,
            "width": null,
            "min_width": null,
            "border": null,
            "align_items": null,
            "bottom": null,
            "_model_module": "@jupyter-widgets/base",
            "top": null,
            "grid_column": null,
            "overflow_y": null,
            "overflow_x": null,
            "grid_auto_flow": null,
            "grid_area": null,
            "grid_template_columns": null,
            "flex": null,
            "_model_name": "LayoutModel",
            "justify_items": null,
            "grid_row": null,
            "max_height": null,
            "align_content": null,
            "visibility": null,
            "align_self": null,
            "height": null,
            "min_height": null,
            "padding": null,
            "grid_auto_rows": null,
            "grid_gap": null,
            "max_width": null,
            "order": null,
            "_view_module_version": "1.2.0",
            "grid_template_areas": null,
            "object_position": null,
            "object_fit": null,
            "grid_auto_columns": null,
            "margin": null,
            "display": null,
            "left": null
          }
        },
        "c59d84edc2c546ea8ff3800394dc950c": {
          "model_module": "@jupyter-widgets/controls",
          "model_name": "HBoxModel",
          "model_module_version": "1.5.0",
          "state": {
            "_view_name": "HBoxView",
            "_dom_classes": [],
            "_model_name": "HBoxModel",
            "_view_module": "@jupyter-widgets/controls",
            "_model_module_version": "1.5.0",
            "_view_count": null,
            "_view_module_version": "1.5.0",
            "box_style": "",
            "layout": "IPY_MODEL_75a75d94a94d448184e5e6951ecc12d9",
            "_model_module": "@jupyter-widgets/controls",
            "children": [
              "IPY_MODEL_b7b7f1762a354e218f8a3d6c1bbc97f4",
              "IPY_MODEL_a64003bdf039481680024e8d4aa4140c",
              "IPY_MODEL_9a7ac7c723354a539b31e0e3fd1cdf23"
            ]
          }
        },
        "75a75d94a94d448184e5e6951ecc12d9": {
          "model_module": "@jupyter-widgets/base",
          "model_name": "LayoutModel",
          "model_module_version": "1.2.0",
          "state": {
            "_view_name": "LayoutView",
            "grid_template_rows": null,
            "right": null,
            "justify_content": null,
            "_view_module": "@jupyter-widgets/base",
            "overflow": null,
            "_model_module_version": "1.2.0",
            "_view_count": null,
            "flex_flow": null,
            "width": null,
            "min_width": null,
            "border": null,
            "align_items": null,
            "bottom": null,
            "_model_module": "@jupyter-widgets/base",
            "top": null,
            "grid_column": null,
            "overflow_y": null,
            "overflow_x": null,
            "grid_auto_flow": null,
            "grid_area": null,
            "grid_template_columns": null,
            "flex": null,
            "_model_name": "LayoutModel",
            "justify_items": null,
            "grid_row": null,
            "max_height": null,
            "align_content": null,
            "visibility": null,
            "align_self": null,
            "height": null,
            "min_height": null,
            "padding": null,
            "grid_auto_rows": null,
            "grid_gap": null,
            "max_width": null,
            "order": null,
            "_view_module_version": "1.2.0",
            "grid_template_areas": null,
            "object_position": null,
            "object_fit": null,
            "grid_auto_columns": null,
            "margin": null,
            "display": null,
            "left": null
          }
        },
        "b7b7f1762a354e218f8a3d6c1bbc97f4": {
          "model_module": "@jupyter-widgets/controls",
          "model_name": "HTMLModel",
          "model_module_version": "1.5.0",
          "state": {
            "_view_name": "HTMLView",
            "style": "IPY_MODEL_eacb33bbb7654a4d8fe4782e361f46b9",
            "_dom_classes": [],
            "description": "",
            "_model_name": "HTMLModel",
            "placeholder": "​",
            "_view_module": "@jupyter-widgets/controls",
            "_model_module_version": "1.5.0",
            "value": "Downloading: 100%",
            "_view_count": null,
            "_view_module_version": "1.5.0",
            "description_tooltip": null,
            "_model_module": "@jupyter-widgets/controls",
            "layout": "IPY_MODEL_150b769cd6c7492badeaa30963f1a766"
          }
        },
        "a64003bdf039481680024e8d4aa4140c": {
          "model_module": "@jupyter-widgets/controls",
          "model_name": "FloatProgressModel",
          "model_module_version": "1.5.0",
          "state": {
            "_view_name": "ProgressView",
            "style": "IPY_MODEL_7b5c1aaa5a0349cf910bbcead4e171bb",
            "_dom_classes": [],
            "description": "",
            "_model_name": "FloatProgressModel",
            "bar_style": "success",
            "max": 231508,
            "_view_module": "@jupyter-widgets/controls",
            "_model_module_version": "1.5.0",
            "value": 231508,
            "_view_count": null,
            "_view_module_version": "1.5.0",
            "orientation": "horizontal",
            "min": 0,
            "description_tooltip": null,
            "_model_module": "@jupyter-widgets/controls",
            "layout": "IPY_MODEL_74584e8e74744e36a017177192a1ed35"
          }
        },
        "9a7ac7c723354a539b31e0e3fd1cdf23": {
          "model_module": "@jupyter-widgets/controls",
          "model_name": "HTMLModel",
          "model_module_version": "1.5.0",
          "state": {
            "_view_name": "HTMLView",
            "style": "IPY_MODEL_e8ffdd32784043ee8065832e0254d0a0",
            "_dom_classes": [],
            "description": "",
            "_model_name": "HTMLModel",
            "placeholder": "​",
            "_view_module": "@jupyter-widgets/controls",
            "_model_module_version": "1.5.0",
            "value": " 232k/232k [00:00&lt;00:00, 1.37MB/s]",
            "_view_count": null,
            "_view_module_version": "1.5.0",
            "description_tooltip": null,
            "_model_module": "@jupyter-widgets/controls",
            "layout": "IPY_MODEL_a177cff44ddb4c6eae4b53e25059830e"
          }
        },
        "eacb33bbb7654a4d8fe4782e361f46b9": {
          "model_module": "@jupyter-widgets/controls",
          "model_name": "DescriptionStyleModel",
          "model_module_version": "1.5.0",
          "state": {
            "_view_name": "StyleView",
            "_model_name": "DescriptionStyleModel",
            "description_width": "",
            "_view_module": "@jupyter-widgets/base",
            "_model_module_version": "1.5.0",
            "_view_count": null,
            "_view_module_version": "1.2.0",
            "_model_module": "@jupyter-widgets/controls"
          }
        },
        "150b769cd6c7492badeaa30963f1a766": {
          "model_module": "@jupyter-widgets/base",
          "model_name": "LayoutModel",
          "model_module_version": "1.2.0",
          "state": {
            "_view_name": "LayoutView",
            "grid_template_rows": null,
            "right": null,
            "justify_content": null,
            "_view_module": "@jupyter-widgets/base",
            "overflow": null,
            "_model_module_version": "1.2.0",
            "_view_count": null,
            "flex_flow": null,
            "width": null,
            "min_width": null,
            "border": null,
            "align_items": null,
            "bottom": null,
            "_model_module": "@jupyter-widgets/base",
            "top": null,
            "grid_column": null,
            "overflow_y": null,
            "overflow_x": null,
            "grid_auto_flow": null,
            "grid_area": null,
            "grid_template_columns": null,
            "flex": null,
            "_model_name": "LayoutModel",
            "justify_items": null,
            "grid_row": null,
            "max_height": null,
            "align_content": null,
            "visibility": null,
            "align_self": null,
            "height": null,
            "min_height": null,
            "padding": null,
            "grid_auto_rows": null,
            "grid_gap": null,
            "max_width": null,
            "order": null,
            "_view_module_version": "1.2.0",
            "grid_template_areas": null,
            "object_position": null,
            "object_fit": null,
            "grid_auto_columns": null,
            "margin": null,
            "display": null,
            "left": null
          }
        },
        "7b5c1aaa5a0349cf910bbcead4e171bb": {
          "model_module": "@jupyter-widgets/controls",
          "model_name": "ProgressStyleModel",
          "model_module_version": "1.5.0",
          "state": {
            "_view_name": "StyleView",
            "_model_name": "ProgressStyleModel",
            "description_width": "",
            "_view_module": "@jupyter-widgets/base",
            "_model_module_version": "1.5.0",
            "_view_count": null,
            "_view_module_version": "1.2.0",
            "bar_color": null,
            "_model_module": "@jupyter-widgets/controls"
          }
        },
        "74584e8e74744e36a017177192a1ed35": {
          "model_module": "@jupyter-widgets/base",
          "model_name": "LayoutModel",
          "model_module_version": "1.2.0",
          "state": {
            "_view_name": "LayoutView",
            "grid_template_rows": null,
            "right": null,
            "justify_content": null,
            "_view_module": "@jupyter-widgets/base",
            "overflow": null,
            "_model_module_version": "1.2.0",
            "_view_count": null,
            "flex_flow": null,
            "width": null,
            "min_width": null,
            "border": null,
            "align_items": null,
            "bottom": null,
            "_model_module": "@jupyter-widgets/base",
            "top": null,
            "grid_column": null,
            "overflow_y": null,
            "overflow_x": null,
            "grid_auto_flow": null,
            "grid_area": null,
            "grid_template_columns": null,
            "flex": null,
            "_model_name": "LayoutModel",
            "justify_items": null,
            "grid_row": null,
            "max_height": null,
            "align_content": null,
            "visibility": null,
            "align_self": null,
            "height": null,
            "min_height": null,
            "padding": null,
            "grid_auto_rows": null,
            "grid_gap": null,
            "max_width": null,
            "order": null,
            "_view_module_version": "1.2.0",
            "grid_template_areas": null,
            "object_position": null,
            "object_fit": null,
            "grid_auto_columns": null,
            "margin": null,
            "display": null,
            "left": null
          }
        },
        "e8ffdd32784043ee8065832e0254d0a0": {
          "model_module": "@jupyter-widgets/controls",
          "model_name": "DescriptionStyleModel",
          "model_module_version": "1.5.0",
          "state": {
            "_view_name": "StyleView",
            "_model_name": "DescriptionStyleModel",
            "description_width": "",
            "_view_module": "@jupyter-widgets/base",
            "_model_module_version": "1.5.0",
            "_view_count": null,
            "_view_module_version": "1.2.0",
            "_model_module": "@jupyter-widgets/controls"
          }
        },
        "a177cff44ddb4c6eae4b53e25059830e": {
          "model_module": "@jupyter-widgets/base",
          "model_name": "LayoutModel",
          "model_module_version": "1.2.0",
          "state": {
            "_view_name": "LayoutView",
            "grid_template_rows": null,
            "right": null,
            "justify_content": null,
            "_view_module": "@jupyter-widgets/base",
            "overflow": null,
            "_model_module_version": "1.2.0",
            "_view_count": null,
            "flex_flow": null,
            "width": null,
            "min_width": null,
            "border": null,
            "align_items": null,
            "bottom": null,
            "_model_module": "@jupyter-widgets/base",
            "top": null,
            "grid_column": null,
            "overflow_y": null,
            "overflow_x": null,
            "grid_auto_flow": null,
            "grid_area": null,
            "grid_template_columns": null,
            "flex": null,
            "_model_name": "LayoutModel",
            "justify_items": null,
            "grid_row": null,
            "max_height": null,
            "align_content": null,
            "visibility": null,
            "align_self": null,
            "height": null,
            "min_height": null,
            "padding": null,
            "grid_auto_rows": null,
            "grid_gap": null,
            "max_width": null,
            "order": null,
            "_view_module_version": "1.2.0",
            "grid_template_areas": null,
            "object_position": null,
            "object_fit": null,
            "grid_auto_columns": null,
            "margin": null,
            "display": null,
            "left": null
          }
        }
      }
    }
  },
  "nbformat_minor": 0,
  "nbformat": 4,
  "cells": [
    {
      "cell_type": "code",
      "source": [
        "# This Python 3 environment comes with many helpful analytics libraries installed\n",
        "# It is defined by the kaggle/python Docker image: https://github.com/kaggle/docker-python\n",
        "# For example, here's several helpful packages to load\n",
        "\n",
        "import numpy as np # linear algebra\n",
        "import pandas as pd # data processing, CSV file I/O (e.g. pd.read_csv)\n",
        "\n",
        "# Input data files are available in the read-only \"../input/\" directory\n",
        "# For example, running this (by clicking run or pressing Shift+Enter) will list all files under the input directory\n",
        "\n",
        "import os\n",
        "for dirname, _, filenames in os.walk('/kaggle/input'):\n",
        "    for filename in filenames:\n",
        "        print(os.path.join(dirname, filename))\n",
        "\n",
        "# You can write up to 20GB to the current directory (/kaggle/working/) that gets preserved as output when you create a version using \"Save & Run All\" \n",
        "# You can also write temporary files to /kaggle/temp/, but they won't be saved outside of the current session"
      ],
      "metadata": {
        "_uuid": "8f2839f25d086af736a60e9eeb907d3b93b6e0e5",
        "_cell_guid": "b1076dfc-b9ad-4769-8c92-a6c4dae69d19",
        "execution": {
          "iopub.status.busy": "2022-01-29T05:24:33.689541Z",
          "iopub.execute_input": "2022-01-29T05:24:33.690723Z",
          "iopub.status.idle": "2022-01-29T05:24:33.706874Z",
          "shell.execute_reply.started": "2022-01-29T05:24:33.690672Z",
          "shell.execute_reply": "2022-01-29T05:24:33.705873Z"
        },
        "trusted": true,
        "id": "lM2RB1EdY77W"
      },
      "execution_count": null,
      "outputs": []
    },
    {
      "cell_type": "code",
      "source": [
        "import numpy as np # linear algebra\n",
        "import pandas as pd # data processing, CSV file I/O (e.g. pd.read_csv)\n",
        "\n",
        "from nltk.stem.wordnet import WordNetLemmatizer\n",
        "from nltk import pos_tag\n",
        "from nltk.corpus import wordnet\n",
        "from nltk.corpus import stopwords\n",
        "from nltk.stem.wordnet import WordNetLemmatizer\n",
        "from tensorflow.keras.preprocessing.text import Tokenizer\n",
        "from tensorflow.keras.preprocessing.sequence import pad_sequences\n",
        "\n",
        "import tensorflow as tf\n",
        "from tensorflow.keras.models import Sequential\n",
        "from tensorflow.keras.callbacks import EarlyStopping\n",
        "from keras.callbacks import ModelCheckpoint, ReduceLROnPlateau\n",
        "from tensorflow.keras.layers import BatchNormalization\n",
        "from tensorflow.keras.preprocessing.text import Tokenizer\n",
        "from tensorflow.keras.layers import LSTM, Dense, Bidirectional\n",
        "from tensorflow.keras.layers import Dropout, SpatialDropout1D, TimeDistributed,Flatten, GlobalMaxPool1D\n",
        "from tensorflow.keras.layers import Embedding\n",
        "from keras.layers import multiply\n",
        "import seaborn as sns\n",
        "import matplotlib.pyplot as plt\n",
        "\n",
        "import re\n",
        "from tqdm import tqdm\n",
        "from sklearn.model_selection import train_test_split"
      ],
      "metadata": {
        "execution": {
          "iopub.status.busy": "2022-01-29T05:24:36.830686Z",
          "iopub.execute_input": "2022-01-29T05:24:36.831181Z",
          "iopub.status.idle": "2022-01-29T05:24:36.845891Z",
          "shell.execute_reply.started": "2022-01-29T05:24:36.831116Z",
          "shell.execute_reply": "2022-01-29T05:24:36.845073Z"
        },
        "trusted": true,
        "id": "9Q2i4xuIY77h"
      },
      "execution_count": 2,
      "outputs": []
    },
    {
      "cell_type": "code",
      "source": [
        "from google.colab import drive\n",
        "drive.mount('/content/drive')"
      ],
      "metadata": {
        "colab": {
          "base_uri": "https://localhost:8080/"
        },
        "id": "hOTdRS2LgTdR",
        "outputId": "c7eab458-d223-4e9d-9275-e8780b7b9d3c"
      },
      "execution_count": 3,
      "outputs": [
        {
          "output_type": "stream",
          "name": "stdout",
          "text": [
            "Mounted at /content/drive\n"
          ]
        }
      ]
    },
    {
      "cell_type": "code",
      "source": [
        "#importing the dataset\n",
        "\n",
        "train_data = pd.read_csv('/content/drive/MyDrive/train.csv/train.csv')\n",
        "test_data = pd.read_csv(\"/content/drive/MyDrive/train.csv/test.csv\",engine='python')"
      ],
      "metadata": {
        "execution": {
          "iopub.status.busy": "2022-01-29T05:24:41.055327Z",
          "iopub.execute_input": "2022-01-29T05:24:41.055604Z",
          "iopub.status.idle": "2022-01-29T05:25:05.226135Z",
          "shell.execute_reply.started": "2022-01-29T05:24:41.055576Z",
          "shell.execute_reply": "2022-01-29T05:25:05.225159Z"
        },
        "trusted": true,
        "id": "NrcEmZxoY77k"
      },
      "execution_count": 4,
      "outputs": []
    },
    {
      "cell_type": "code",
      "source": [
        "train_data.head(10)"
      ],
      "metadata": {
        "execution": {
          "iopub.status.busy": "2022-01-29T05:25:11.875841Z",
          "iopub.execute_input": "2022-01-29T05:25:11.876157Z",
          "iopub.status.idle": "2022-01-29T05:25:11.889664Z",
          "shell.execute_reply.started": "2022-01-29T05:25:11.876122Z",
          "shell.execute_reply": "2022-01-29T05:25:11.888699Z"
        },
        "trusted": true,
        "colab": {
          "base_uri": "https://localhost:8080/",
          "height": 363
        },
        "id": "3I7meZMBY77l",
        "outputId": "a2a040f3-1148-4ef6-c122-cd5df25843ef"
      },
      "execution_count": 5,
      "outputs": [
        {
          "output_type": "execute_result",
          "data": {
            "text/html": [
              "\n",
              "  <div id=\"df-566d7680-2da4-49b6-8be6-175484c1d4ad\">\n",
              "    <div class=\"colab-df-container\">\n",
              "      <div>\n",
              "<style scoped>\n",
              "    .dataframe tbody tr th:only-of-type {\n",
              "        vertical-align: middle;\n",
              "    }\n",
              "\n",
              "    .dataframe tbody tr th {\n",
              "        vertical-align: top;\n",
              "    }\n",
              "\n",
              "    .dataframe thead th {\n",
              "        text-align: right;\n",
              "    }\n",
              "</style>\n",
              "<table border=\"1\" class=\"dataframe\">\n",
              "  <thead>\n",
              "    <tr style=\"text-align: right;\">\n",
              "      <th></th>\n",
              "      <th>id</th>\n",
              "      <th>qid1</th>\n",
              "      <th>qid2</th>\n",
              "      <th>question1</th>\n",
              "      <th>question2</th>\n",
              "      <th>is_duplicate</th>\n",
              "    </tr>\n",
              "  </thead>\n",
              "  <tbody>\n",
              "    <tr>\n",
              "      <th>0</th>\n",
              "      <td>0</td>\n",
              "      <td>1</td>\n",
              "      <td>2</td>\n",
              "      <td>What is the step by step guide to invest in sh...</td>\n",
              "      <td>What is the step by step guide to invest in sh...</td>\n",
              "      <td>0</td>\n",
              "    </tr>\n",
              "    <tr>\n",
              "      <th>1</th>\n",
              "      <td>1</td>\n",
              "      <td>3</td>\n",
              "      <td>4</td>\n",
              "      <td>What is the story of Kohinoor (Koh-i-Noor) Dia...</td>\n",
              "      <td>What would happen if the Indian government sto...</td>\n",
              "      <td>0</td>\n",
              "    </tr>\n",
              "    <tr>\n",
              "      <th>2</th>\n",
              "      <td>2</td>\n",
              "      <td>5</td>\n",
              "      <td>6</td>\n",
              "      <td>How can I increase the speed of my internet co...</td>\n",
              "      <td>How can Internet speed be increased by hacking...</td>\n",
              "      <td>0</td>\n",
              "    </tr>\n",
              "    <tr>\n",
              "      <th>3</th>\n",
              "      <td>3</td>\n",
              "      <td>7</td>\n",
              "      <td>8</td>\n",
              "      <td>Why am I mentally very lonely? How can I solve...</td>\n",
              "      <td>Find the remainder when [math]23^{24}[/math] i...</td>\n",
              "      <td>0</td>\n",
              "    </tr>\n",
              "    <tr>\n",
              "      <th>4</th>\n",
              "      <td>4</td>\n",
              "      <td>9</td>\n",
              "      <td>10</td>\n",
              "      <td>Which one dissolve in water quikly sugar, salt...</td>\n",
              "      <td>Which fish would survive in salt water?</td>\n",
              "      <td>0</td>\n",
              "    </tr>\n",
              "    <tr>\n",
              "      <th>5</th>\n",
              "      <td>5</td>\n",
              "      <td>11</td>\n",
              "      <td>12</td>\n",
              "      <td>Astrology: I am a Capricorn Sun Cap moon and c...</td>\n",
              "      <td>I'm a triple Capricorn (Sun, Moon and ascendan...</td>\n",
              "      <td>1</td>\n",
              "    </tr>\n",
              "    <tr>\n",
              "      <th>6</th>\n",
              "      <td>6</td>\n",
              "      <td>13</td>\n",
              "      <td>14</td>\n",
              "      <td>Should I buy tiago?</td>\n",
              "      <td>What keeps childern active and far from phone ...</td>\n",
              "      <td>0</td>\n",
              "    </tr>\n",
              "    <tr>\n",
              "      <th>7</th>\n",
              "      <td>7</td>\n",
              "      <td>15</td>\n",
              "      <td>16</td>\n",
              "      <td>How can I be a good geologist?</td>\n",
              "      <td>What should I do to be a great geologist?</td>\n",
              "      <td>1</td>\n",
              "    </tr>\n",
              "    <tr>\n",
              "      <th>8</th>\n",
              "      <td>8</td>\n",
              "      <td>17</td>\n",
              "      <td>18</td>\n",
              "      <td>When do you use シ instead of し?</td>\n",
              "      <td>When do you use \"&amp;\" instead of \"and\"?</td>\n",
              "      <td>0</td>\n",
              "    </tr>\n",
              "    <tr>\n",
              "      <th>9</th>\n",
              "      <td>9</td>\n",
              "      <td>19</td>\n",
              "      <td>20</td>\n",
              "      <td>Motorola (company): Can I hack my Charter Moto...</td>\n",
              "      <td>How do I hack Motorola DCX3400 for free internet?</td>\n",
              "      <td>0</td>\n",
              "    </tr>\n",
              "  </tbody>\n",
              "</table>\n",
              "</div>\n",
              "      <button class=\"colab-df-convert\" onclick=\"convertToInteractive('df-566d7680-2da4-49b6-8be6-175484c1d4ad')\"\n",
              "              title=\"Convert this dataframe to an interactive table.\"\n",
              "              style=\"display:none;\">\n",
              "        \n",
              "  <svg xmlns=\"http://www.w3.org/2000/svg\" height=\"24px\"viewBox=\"0 0 24 24\"\n",
              "       width=\"24px\">\n",
              "    <path d=\"M0 0h24v24H0V0z\" fill=\"none\"/>\n",
              "    <path d=\"M18.56 5.44l.94 2.06.94-2.06 2.06-.94-2.06-.94-.94-2.06-.94 2.06-2.06.94zm-11 1L8.5 8.5l.94-2.06 2.06-.94-2.06-.94L8.5 2.5l-.94 2.06-2.06.94zm10 10l.94 2.06.94-2.06 2.06-.94-2.06-.94-.94-2.06-.94 2.06-2.06.94z\"/><path d=\"M17.41 7.96l-1.37-1.37c-.4-.4-.92-.59-1.43-.59-.52 0-1.04.2-1.43.59L10.3 9.45l-7.72 7.72c-.78.78-.78 2.05 0 2.83L4 21.41c.39.39.9.59 1.41.59.51 0 1.02-.2 1.41-.59l7.78-7.78 2.81-2.81c.8-.78.8-2.07 0-2.86zM5.41 20L4 18.59l7.72-7.72 1.47 1.35L5.41 20z\"/>\n",
              "  </svg>\n",
              "      </button>\n",
              "      \n",
              "  <style>\n",
              "    .colab-df-container {\n",
              "      display:flex;\n",
              "      flex-wrap:wrap;\n",
              "      gap: 12px;\n",
              "    }\n",
              "\n",
              "    .colab-df-convert {\n",
              "      background-color: #E8F0FE;\n",
              "      border: none;\n",
              "      border-radius: 50%;\n",
              "      cursor: pointer;\n",
              "      display: none;\n",
              "      fill: #1967D2;\n",
              "      height: 32px;\n",
              "      padding: 0 0 0 0;\n",
              "      width: 32px;\n",
              "    }\n",
              "\n",
              "    .colab-df-convert:hover {\n",
              "      background-color: #E2EBFA;\n",
              "      box-shadow: 0px 1px 2px rgba(60, 64, 67, 0.3), 0px 1px 3px 1px rgba(60, 64, 67, 0.15);\n",
              "      fill: #174EA6;\n",
              "    }\n",
              "\n",
              "    [theme=dark] .colab-df-convert {\n",
              "      background-color: #3B4455;\n",
              "      fill: #D2E3FC;\n",
              "    }\n",
              "\n",
              "    [theme=dark] .colab-df-convert:hover {\n",
              "      background-color: #434B5C;\n",
              "      box-shadow: 0px 1px 3px 1px rgba(0, 0, 0, 0.15);\n",
              "      filter: drop-shadow(0px 1px 2px rgba(0, 0, 0, 0.3));\n",
              "      fill: #FFFFFF;\n",
              "    }\n",
              "  </style>\n",
              "\n",
              "      <script>\n",
              "        const buttonEl =\n",
              "          document.querySelector('#df-566d7680-2da4-49b6-8be6-175484c1d4ad button.colab-df-convert');\n",
              "        buttonEl.style.display =\n",
              "          google.colab.kernel.accessAllowed ? 'block' : 'none';\n",
              "\n",
              "        async function convertToInteractive(key) {\n",
              "          const element = document.querySelector('#df-566d7680-2da4-49b6-8be6-175484c1d4ad');\n",
              "          const dataTable =\n",
              "            await google.colab.kernel.invokeFunction('convertToInteractive',\n",
              "                                                     [key], {});\n",
              "          if (!dataTable) return;\n",
              "\n",
              "          const docLinkHtml = 'Like what you see? Visit the ' +\n",
              "            '<a target=\"_blank\" href=https://colab.research.google.com/notebooks/data_table.ipynb>data table notebook</a>'\n",
              "            + ' to learn more about interactive tables.';\n",
              "          element.innerHTML = '';\n",
              "          dataTable['output_type'] = 'display_data';\n",
              "          await google.colab.output.renderOutput(dataTable, element);\n",
              "          const docLink = document.createElement('div');\n",
              "          docLink.innerHTML = docLinkHtml;\n",
              "          element.appendChild(docLink);\n",
              "        }\n",
              "      </script>\n",
              "    </div>\n",
              "  </div>\n",
              "  "
            ],
            "text/plain": [
              "   id  qid1  ...                                          question2 is_duplicate\n",
              "0   0     1  ...  What is the step by step guide to invest in sh...            0\n",
              "1   1     3  ...  What would happen if the Indian government sto...            0\n",
              "2   2     5  ...  How can Internet speed be increased by hacking...            0\n",
              "3   3     7  ...  Find the remainder when [math]23^{24}[/math] i...            0\n",
              "4   4     9  ...            Which fish would survive in salt water?            0\n",
              "5   5    11  ...  I'm a triple Capricorn (Sun, Moon and ascendan...            1\n",
              "6   6    13  ...  What keeps childern active and far from phone ...            0\n",
              "7   7    15  ...          What should I do to be a great geologist?            1\n",
              "8   8    17  ...              When do you use \"&\" instead of \"and\"?            0\n",
              "9   9    19  ...  How do I hack Motorola DCX3400 for free internet?            0\n",
              "\n",
              "[10 rows x 6 columns]"
            ]
          },
          "metadata": {},
          "execution_count": 5
        }
      ]
    },
    {
      "cell_type": "code",
      "source": [
        "test_data.head(10)"
      ],
      "metadata": {
        "execution": {
          "iopub.status.busy": "2022-01-29T05:25:12.491219Z",
          "iopub.execute_input": "2022-01-29T05:25:12.491515Z",
          "iopub.status.idle": "2022-01-29T05:25:12.503395Z",
          "shell.execute_reply.started": "2022-01-29T05:25:12.491486Z",
          "shell.execute_reply": "2022-01-29T05:25:12.502549Z"
        },
        "trusted": true,
        "colab": {
          "base_uri": "https://localhost:8080/",
          "height": 363
        },
        "id": "YWQVfctRY77n",
        "outputId": "afa211d0-57ee-4aaf-bc55-f4c55deff86e"
      },
      "execution_count": 6,
      "outputs": [
        {
          "output_type": "execute_result",
          "data": {
            "text/html": [
              "\n",
              "  <div id=\"df-1fae9a05-292b-4d7a-aea5-791ac05131a2\">\n",
              "    <div class=\"colab-df-container\">\n",
              "      <div>\n",
              "<style scoped>\n",
              "    .dataframe tbody tr th:only-of-type {\n",
              "        vertical-align: middle;\n",
              "    }\n",
              "\n",
              "    .dataframe tbody tr th {\n",
              "        vertical-align: top;\n",
              "    }\n",
              "\n",
              "    .dataframe thead th {\n",
              "        text-align: right;\n",
              "    }\n",
              "</style>\n",
              "<table border=\"1\" class=\"dataframe\">\n",
              "  <thead>\n",
              "    <tr style=\"text-align: right;\">\n",
              "      <th></th>\n",
              "      <th>test_id</th>\n",
              "      <th>question1</th>\n",
              "      <th>question2</th>\n",
              "    </tr>\n",
              "  </thead>\n",
              "  <tbody>\n",
              "    <tr>\n",
              "      <th>0</th>\n",
              "      <td>0</td>\n",
              "      <td>How does the Surface Pro himself 4 compare wit...</td>\n",
              "      <td>Why did Microsoft choose core m3 and not core ...</td>\n",
              "    </tr>\n",
              "    <tr>\n",
              "      <th>1</th>\n",
              "      <td>1</td>\n",
              "      <td>Should I have a hair transplant at age 24? How...</td>\n",
              "      <td>How much cost does hair transplant require?</td>\n",
              "    </tr>\n",
              "    <tr>\n",
              "      <th>2</th>\n",
              "      <td>2</td>\n",
              "      <td>What but is the best way to send money from Ch...</td>\n",
              "      <td>What you send money to China?</td>\n",
              "    </tr>\n",
              "    <tr>\n",
              "      <th>3</th>\n",
              "      <td>3</td>\n",
              "      <td>Which food not emulsifiers?</td>\n",
              "      <td>What foods fibre?</td>\n",
              "    </tr>\n",
              "    <tr>\n",
              "      <th>4</th>\n",
              "      <td>4</td>\n",
              "      <td>How \"aberystwyth\" start reading?</td>\n",
              "      <td>How their can I start reading?</td>\n",
              "    </tr>\n",
              "    <tr>\n",
              "      <th>5</th>\n",
              "      <td>5</td>\n",
              "      <td>How are the two wheeler insurance from Bharti ...</td>\n",
              "      <td>I admire I am considering of buying insurance ...</td>\n",
              "    </tr>\n",
              "    <tr>\n",
              "      <th>6</th>\n",
              "      <td>6</td>\n",
              "      <td>How can I reduce my belly fat through a diet?</td>\n",
              "      <td>How can I reduce my lower belly fat in one month?</td>\n",
              "    </tr>\n",
              "    <tr>\n",
              "      <th>7</th>\n",
              "      <td>7</td>\n",
              "      <td>By scrapping the 500 and 1000 rupee notes, how...</td>\n",
              "      <td>How will the recent move to declare 500 and 10...</td>\n",
              "    </tr>\n",
              "    <tr>\n",
              "      <th>8</th>\n",
              "      <td>8</td>\n",
              "      <td>What are the how best books of all time?</td>\n",
              "      <td>What are some of the military history books of...</td>\n",
              "    </tr>\n",
              "    <tr>\n",
              "      <th>9</th>\n",
              "      <td>9</td>\n",
              "      <td>After 12th years old boy and I had sex with a ...</td>\n",
              "      <td>Can a 14 old guy date a 12 year old girl?</td>\n",
              "    </tr>\n",
              "  </tbody>\n",
              "</table>\n",
              "</div>\n",
              "      <button class=\"colab-df-convert\" onclick=\"convertToInteractive('df-1fae9a05-292b-4d7a-aea5-791ac05131a2')\"\n",
              "              title=\"Convert this dataframe to an interactive table.\"\n",
              "              style=\"display:none;\">\n",
              "        \n",
              "  <svg xmlns=\"http://www.w3.org/2000/svg\" height=\"24px\"viewBox=\"0 0 24 24\"\n",
              "       width=\"24px\">\n",
              "    <path d=\"M0 0h24v24H0V0z\" fill=\"none\"/>\n",
              "    <path d=\"M18.56 5.44l.94 2.06.94-2.06 2.06-.94-2.06-.94-.94-2.06-.94 2.06-2.06.94zm-11 1L8.5 8.5l.94-2.06 2.06-.94-2.06-.94L8.5 2.5l-.94 2.06-2.06.94zm10 10l.94 2.06.94-2.06 2.06-.94-2.06-.94-.94-2.06-.94 2.06-2.06.94z\"/><path d=\"M17.41 7.96l-1.37-1.37c-.4-.4-.92-.59-1.43-.59-.52 0-1.04.2-1.43.59L10.3 9.45l-7.72 7.72c-.78.78-.78 2.05 0 2.83L4 21.41c.39.39.9.59 1.41.59.51 0 1.02-.2 1.41-.59l7.78-7.78 2.81-2.81c.8-.78.8-2.07 0-2.86zM5.41 20L4 18.59l7.72-7.72 1.47 1.35L5.41 20z\"/>\n",
              "  </svg>\n",
              "      </button>\n",
              "      \n",
              "  <style>\n",
              "    .colab-df-container {\n",
              "      display:flex;\n",
              "      flex-wrap:wrap;\n",
              "      gap: 12px;\n",
              "    }\n",
              "\n",
              "    .colab-df-convert {\n",
              "      background-color: #E8F0FE;\n",
              "      border: none;\n",
              "      border-radius: 50%;\n",
              "      cursor: pointer;\n",
              "      display: none;\n",
              "      fill: #1967D2;\n",
              "      height: 32px;\n",
              "      padding: 0 0 0 0;\n",
              "      width: 32px;\n",
              "    }\n",
              "\n",
              "    .colab-df-convert:hover {\n",
              "      background-color: #E2EBFA;\n",
              "      box-shadow: 0px 1px 2px rgba(60, 64, 67, 0.3), 0px 1px 3px 1px rgba(60, 64, 67, 0.15);\n",
              "      fill: #174EA6;\n",
              "    }\n",
              "\n",
              "    [theme=dark] .colab-df-convert {\n",
              "      background-color: #3B4455;\n",
              "      fill: #D2E3FC;\n",
              "    }\n",
              "\n",
              "    [theme=dark] .colab-df-convert:hover {\n",
              "      background-color: #434B5C;\n",
              "      box-shadow: 0px 1px 3px 1px rgba(0, 0, 0, 0.15);\n",
              "      filter: drop-shadow(0px 1px 2px rgba(0, 0, 0, 0.3));\n",
              "      fill: #FFFFFF;\n",
              "    }\n",
              "  </style>\n",
              "\n",
              "      <script>\n",
              "        const buttonEl =\n",
              "          document.querySelector('#df-1fae9a05-292b-4d7a-aea5-791ac05131a2 button.colab-df-convert');\n",
              "        buttonEl.style.display =\n",
              "          google.colab.kernel.accessAllowed ? 'block' : 'none';\n",
              "\n",
              "        async function convertToInteractive(key) {\n",
              "          const element = document.querySelector('#df-1fae9a05-292b-4d7a-aea5-791ac05131a2');\n",
              "          const dataTable =\n",
              "            await google.colab.kernel.invokeFunction('convertToInteractive',\n",
              "                                                     [key], {});\n",
              "          if (!dataTable) return;\n",
              "\n",
              "          const docLinkHtml = 'Like what you see? Visit the ' +\n",
              "            '<a target=\"_blank\" href=https://colab.research.google.com/notebooks/data_table.ipynb>data table notebook</a>'\n",
              "            + ' to learn more about interactive tables.';\n",
              "          element.innerHTML = '';\n",
              "          dataTable['output_type'] = 'display_data';\n",
              "          await google.colab.output.renderOutput(dataTable, element);\n",
              "          const docLink = document.createElement('div');\n",
              "          docLink.innerHTML = docLinkHtml;\n",
              "          element.appendChild(docLink);\n",
              "        }\n",
              "      </script>\n",
              "    </div>\n",
              "  </div>\n",
              "  "
            ],
            "text/plain": [
              "   test_id  ...                                          question2\n",
              "0        0  ...  Why did Microsoft choose core m3 and not core ...\n",
              "1        1  ...        How much cost does hair transplant require?\n",
              "2        2  ...                      What you send money to China?\n",
              "3        3  ...                                  What foods fibre?\n",
              "4        4  ...                     How their can I start reading?\n",
              "5        5  ...  I admire I am considering of buying insurance ...\n",
              "6        6  ...  How can I reduce my lower belly fat in one month?\n",
              "7        7  ...  How will the recent move to declare 500 and 10...\n",
              "8        8  ...  What are some of the military history books of...\n",
              "9        9  ...          Can a 14 old guy date a 12 year old girl?\n",
              "\n",
              "[10 rows x 3 columns]"
            ]
          },
          "metadata": {},
          "execution_count": 6
        }
      ]
    },
    {
      "cell_type": "code",
      "source": [
        "# taking a fraction of dataset because the whole data set is to large\n",
        "\n",
        "train_data = train_data.sample(frac=0.1).reset_index(drop=True)\n",
        "test_data = test_data.sample(frac=0.01).reset_index(drop=True)"
      ],
      "metadata": {
        "execution": {
          "iopub.status.busy": "2022-01-29T05:25:13.300029Z",
          "iopub.execute_input": "2022-01-29T05:25:13.300315Z",
          "iopub.status.idle": "2022-01-29T05:25:13.482279Z",
          "shell.execute_reply.started": "2022-01-29T05:25:13.300285Z",
          "shell.execute_reply": "2022-01-29T05:25:13.481412Z"
        },
        "trusted": true,
        "id": "fpvIYpTJY77p"
      },
      "execution_count": 7,
      "outputs": []
    },
    {
      "cell_type": "code",
      "source": [
        "train_data.shape, test_data.shape"
      ],
      "metadata": {
        "execution": {
          "iopub.status.busy": "2022-01-29T05:25:14.129723Z",
          "iopub.execute_input": "2022-01-29T05:25:14.130015Z",
          "iopub.status.idle": "2022-01-29T05:25:14.135989Z",
          "shell.execute_reply.started": "2022-01-29T05:25:14.129983Z",
          "shell.execute_reply": "2022-01-29T05:25:14.135234Z"
        },
        "trusted": true,
        "colab": {
          "base_uri": "https://localhost:8080/"
        },
        "id": "xQ5ngwr9Y77u",
        "outputId": "573dcb52-f573-429a-8cea-0f75c7aaf095"
      },
      "execution_count": 8,
      "outputs": [
        {
          "output_type": "execute_result",
          "data": {
            "text/plain": [
              "((40429, 6), (23458, 3))"
            ]
          },
          "metadata": {},
          "execution_count": 8
        }
      ]
    },
    {
      "cell_type": "code",
      "source": [
        "#basic info on training data\n",
        "train_data.info()"
      ],
      "metadata": {
        "execution": {
          "iopub.status.busy": "2022-01-29T05:25:14.918431Z",
          "iopub.execute_input": "2022-01-29T05:25:14.919097Z",
          "iopub.status.idle": "2022-01-29T05:25:14.957464Z",
          "shell.execute_reply.started": "2022-01-29T05:25:14.919038Z",
          "shell.execute_reply": "2022-01-29T05:25:14.956199Z"
        },
        "trusted": true,
        "colab": {
          "base_uri": "https://localhost:8080/"
        },
        "id": "2kAboHTDY77y",
        "outputId": "5c21f136-d803-48a5-bd8e-d81a30d13086"
      },
      "execution_count": null,
      "outputs": [
        {
          "output_type": "stream",
          "name": "stdout",
          "text": [
            "<class 'pandas.core.frame.DataFrame'>\n",
            "RangeIndex: 40429 entries, 0 to 40428\n",
            "Data columns (total 6 columns):\n",
            " #   Column        Non-Null Count  Dtype \n",
            "---  ------        --------------  ----- \n",
            " 0   id            40429 non-null  int64 \n",
            " 1   qid1          40429 non-null  int64 \n",
            " 2   qid2          40429 non-null  int64 \n",
            " 3   question1     40429 non-null  object\n",
            " 4   question2     40429 non-null  object\n",
            " 5   is_duplicate  40429 non-null  int64 \n",
            "dtypes: int64(4), object(2)\n",
            "memory usage: 1.9+ MB\n"
          ]
        }
      ]
    },
    {
      "cell_type": "code",
      "source": [
        "#basic info on testing data\n",
        "test_data.info()"
      ],
      "metadata": {
        "execution": {
          "iopub.status.busy": "2022-01-29T05:25:15.702053Z",
          "iopub.execute_input": "2022-01-29T05:25:15.702364Z",
          "iopub.status.idle": "2022-01-29T05:25:15.734381Z",
          "shell.execute_reply.started": "2022-01-29T05:25:15.702326Z",
          "shell.execute_reply": "2022-01-29T05:25:15.733355Z"
        },
        "trusted": true,
        "colab": {
          "base_uri": "https://localhost:8080/"
        },
        "id": "JIsn6HoqY77z",
        "outputId": "d3b75b0b-c127-4a78-83f8-758b705cc2c7"
      },
      "execution_count": null,
      "outputs": [
        {
          "output_type": "stream",
          "name": "stdout",
          "text": [
            "<class 'pandas.core.frame.DataFrame'>\n",
            "RangeIndex: 23458 entries, 0 to 23457\n",
            "Data columns (total 3 columns):\n",
            " #   Column     Non-Null Count  Dtype \n",
            "---  ------     --------------  ----- \n",
            " 0   test_id    23458 non-null  int64 \n",
            " 1   question1  23458 non-null  object\n",
            " 2   question2  23458 non-null  object\n",
            "dtypes: int64(1), object(2)\n",
            "memory usage: 549.9+ KB\n"
          ]
        }
      ]
    },
    {
      "cell_type": "code",
      "source": [
        "train_data.describe()"
      ],
      "metadata": {
        "execution": {
          "iopub.status.busy": "2022-01-29T05:25:16.447394Z",
          "iopub.execute_input": "2022-01-29T05:25:16.448179Z",
          "iopub.status.idle": "2022-01-29T05:25:16.475920Z",
          "shell.execute_reply.started": "2022-01-29T05:25:16.448128Z",
          "shell.execute_reply": "2022-01-29T05:25:16.475088Z"
        },
        "trusted": true,
        "colab": {
          "base_uri": "https://localhost:8080/",
          "height": 300
        },
        "id": "oj4kjE4VY771",
        "outputId": "3801b35c-0e04-4cf6-c670-e9cd38e3948b"
      },
      "execution_count": null,
      "outputs": [
        {
          "output_type": "execute_result",
          "data": {
            "text/html": [
              "\n",
              "  <div id=\"df-3b0e1a25-0b64-4c62-ae53-c196ad4e70a9\">\n",
              "    <div class=\"colab-df-container\">\n",
              "      <div>\n",
              "<style scoped>\n",
              "    .dataframe tbody tr th:only-of-type {\n",
              "        vertical-align: middle;\n",
              "    }\n",
              "\n",
              "    .dataframe tbody tr th {\n",
              "        vertical-align: top;\n",
              "    }\n",
              "\n",
              "    .dataframe thead th {\n",
              "        text-align: right;\n",
              "    }\n",
              "</style>\n",
              "<table border=\"1\" class=\"dataframe\">\n",
              "  <thead>\n",
              "    <tr style=\"text-align: right;\">\n",
              "      <th></th>\n",
              "      <th>id</th>\n",
              "      <th>qid1</th>\n",
              "      <th>qid2</th>\n",
              "      <th>is_duplicate</th>\n",
              "    </tr>\n",
              "  </thead>\n",
              "  <tbody>\n",
              "    <tr>\n",
              "      <th>count</th>\n",
              "      <td>40429.000000</td>\n",
              "      <td>40429.000000</td>\n",
              "      <td>40429.000000</td>\n",
              "      <td>40429.000000</td>\n",
              "    </tr>\n",
              "    <tr>\n",
              "      <th>mean</th>\n",
              "      <td>201829.114423</td>\n",
              "      <td>216465.293057</td>\n",
              "      <td>220474.295629</td>\n",
              "      <td>0.372826</td>\n",
              "    </tr>\n",
              "    <tr>\n",
              "      <th>std</th>\n",
              "      <td>116636.752131</td>\n",
              "      <td>157358.542005</td>\n",
              "      <td>159770.474837</td>\n",
              "      <td>0.483562</td>\n",
              "    </tr>\n",
              "    <tr>\n",
              "      <th>min</th>\n",
              "      <td>0.000000</td>\n",
              "      <td>1.000000</td>\n",
              "      <td>2.000000</td>\n",
              "      <td>0.000000</td>\n",
              "    </tr>\n",
              "    <tr>\n",
              "      <th>25%</th>\n",
              "      <td>101383.000000</td>\n",
              "      <td>73732.000000</td>\n",
              "      <td>74059.000000</td>\n",
              "      <td>0.000000</td>\n",
              "    </tr>\n",
              "    <tr>\n",
              "      <th>50%</th>\n",
              "      <td>201693.000000</td>\n",
              "      <td>192316.000000</td>\n",
              "      <td>196723.000000</td>\n",
              "      <td>0.000000</td>\n",
              "    </tr>\n",
              "    <tr>\n",
              "      <th>75%</th>\n",
              "      <td>302830.000000</td>\n",
              "      <td>344315.000000</td>\n",
              "      <td>353035.000000</td>\n",
              "      <td>1.000000</td>\n",
              "    </tr>\n",
              "    <tr>\n",
              "      <th>max</th>\n",
              "      <td>404289.000000</td>\n",
              "      <td>537932.000000</td>\n",
              "      <td>537933.000000</td>\n",
              "      <td>1.000000</td>\n",
              "    </tr>\n",
              "  </tbody>\n",
              "</table>\n",
              "</div>\n",
              "      <button class=\"colab-df-convert\" onclick=\"convertToInteractive('df-3b0e1a25-0b64-4c62-ae53-c196ad4e70a9')\"\n",
              "              title=\"Convert this dataframe to an interactive table.\"\n",
              "              style=\"display:none;\">\n",
              "        \n",
              "  <svg xmlns=\"http://www.w3.org/2000/svg\" height=\"24px\"viewBox=\"0 0 24 24\"\n",
              "       width=\"24px\">\n",
              "    <path d=\"M0 0h24v24H0V0z\" fill=\"none\"/>\n",
              "    <path d=\"M18.56 5.44l.94 2.06.94-2.06 2.06-.94-2.06-.94-.94-2.06-.94 2.06-2.06.94zm-11 1L8.5 8.5l.94-2.06 2.06-.94-2.06-.94L8.5 2.5l-.94 2.06-2.06.94zm10 10l.94 2.06.94-2.06 2.06-.94-2.06-.94-.94-2.06-.94 2.06-2.06.94z\"/><path d=\"M17.41 7.96l-1.37-1.37c-.4-.4-.92-.59-1.43-.59-.52 0-1.04.2-1.43.59L10.3 9.45l-7.72 7.72c-.78.78-.78 2.05 0 2.83L4 21.41c.39.39.9.59 1.41.59.51 0 1.02-.2 1.41-.59l7.78-7.78 2.81-2.81c.8-.78.8-2.07 0-2.86zM5.41 20L4 18.59l7.72-7.72 1.47 1.35L5.41 20z\"/>\n",
              "  </svg>\n",
              "      </button>\n",
              "      \n",
              "  <style>\n",
              "    .colab-df-container {\n",
              "      display:flex;\n",
              "      flex-wrap:wrap;\n",
              "      gap: 12px;\n",
              "    }\n",
              "\n",
              "    .colab-df-convert {\n",
              "      background-color: #E8F0FE;\n",
              "      border: none;\n",
              "      border-radius: 50%;\n",
              "      cursor: pointer;\n",
              "      display: none;\n",
              "      fill: #1967D2;\n",
              "      height: 32px;\n",
              "      padding: 0 0 0 0;\n",
              "      width: 32px;\n",
              "    }\n",
              "\n",
              "    .colab-df-convert:hover {\n",
              "      background-color: #E2EBFA;\n",
              "      box-shadow: 0px 1px 2px rgba(60, 64, 67, 0.3), 0px 1px 3px 1px rgba(60, 64, 67, 0.15);\n",
              "      fill: #174EA6;\n",
              "    }\n",
              "\n",
              "    [theme=dark] .colab-df-convert {\n",
              "      background-color: #3B4455;\n",
              "      fill: #D2E3FC;\n",
              "    }\n",
              "\n",
              "    [theme=dark] .colab-df-convert:hover {\n",
              "      background-color: #434B5C;\n",
              "      box-shadow: 0px 1px 3px 1px rgba(0, 0, 0, 0.15);\n",
              "      filter: drop-shadow(0px 1px 2px rgba(0, 0, 0, 0.3));\n",
              "      fill: #FFFFFF;\n",
              "    }\n",
              "  </style>\n",
              "\n",
              "      <script>\n",
              "        const buttonEl =\n",
              "          document.querySelector('#df-3b0e1a25-0b64-4c62-ae53-c196ad4e70a9 button.colab-df-convert');\n",
              "        buttonEl.style.display =\n",
              "          google.colab.kernel.accessAllowed ? 'block' : 'none';\n",
              "\n",
              "        async function convertToInteractive(key) {\n",
              "          const element = document.querySelector('#df-3b0e1a25-0b64-4c62-ae53-c196ad4e70a9');\n",
              "          const dataTable =\n",
              "            await google.colab.kernel.invokeFunction('convertToInteractive',\n",
              "                                                     [key], {});\n",
              "          if (!dataTable) return;\n",
              "\n",
              "          const docLinkHtml = 'Like what you see? Visit the ' +\n",
              "            '<a target=\"_blank\" href=https://colab.research.google.com/notebooks/data_table.ipynb>data table notebook</a>'\n",
              "            + ' to learn more about interactive tables.';\n",
              "          element.innerHTML = '';\n",
              "          dataTable['output_type'] = 'display_data';\n",
              "          await google.colab.output.renderOutput(dataTable, element);\n",
              "          const docLink = document.createElement('div');\n",
              "          docLink.innerHTML = docLinkHtml;\n",
              "          element.appendChild(docLink);\n",
              "        }\n",
              "      </script>\n",
              "    </div>\n",
              "  </div>\n",
              "  "
            ],
            "text/plain": [
              "                  id           qid1           qid2  is_duplicate\n",
              "count   40429.000000   40429.000000   40429.000000  40429.000000\n",
              "mean   201829.114423  216465.293057  220474.295629      0.372826\n",
              "std    116636.752131  157358.542005  159770.474837      0.483562\n",
              "min         0.000000       1.000000       2.000000      0.000000\n",
              "25%    101383.000000   73732.000000   74059.000000      0.000000\n",
              "50%    201693.000000  192316.000000  196723.000000      0.000000\n",
              "75%    302830.000000  344315.000000  353035.000000      1.000000\n",
              "max    404289.000000  537932.000000  537933.000000      1.000000"
            ]
          },
          "metadata": {},
          "execution_count": 15
        }
      ]
    },
    {
      "cell_type": "code",
      "source": [
        "test_data.describe()"
      ],
      "metadata": {
        "execution": {
          "iopub.status.busy": "2022-01-29T05:25:17.172266Z",
          "iopub.execute_input": "2022-01-29T05:25:17.172739Z",
          "iopub.status.idle": "2022-01-29T05:25:17.189004Z",
          "shell.execute_reply.started": "2022-01-29T05:25:17.172686Z",
          "shell.execute_reply": "2022-01-29T05:25:17.188074Z"
        },
        "trusted": true,
        "colab": {
          "base_uri": "https://localhost:8080/",
          "height": 300
        },
        "id": "3uOQrxq9Y772",
        "outputId": "130a1782-23d3-4a1b-c9e5-cfd33c33876b"
      },
      "execution_count": null,
      "outputs": [
        {
          "output_type": "execute_result",
          "data": {
            "text/html": [
              "\n",
              "  <div id=\"df-722d1d37-a3be-4500-9190-d0e5545320d4\">\n",
              "    <div class=\"colab-df-container\">\n",
              "      <div>\n",
              "<style scoped>\n",
              "    .dataframe tbody tr th:only-of-type {\n",
              "        vertical-align: middle;\n",
              "    }\n",
              "\n",
              "    .dataframe tbody tr th {\n",
              "        vertical-align: top;\n",
              "    }\n",
              "\n",
              "    .dataframe thead th {\n",
              "        text-align: right;\n",
              "    }\n",
              "</style>\n",
              "<table border=\"1\" class=\"dataframe\">\n",
              "  <thead>\n",
              "    <tr style=\"text-align: right;\">\n",
              "      <th></th>\n",
              "      <th>test_id</th>\n",
              "    </tr>\n",
              "  </thead>\n",
              "  <tbody>\n",
              "    <tr>\n",
              "      <th>count</th>\n",
              "      <td>2.345800e+04</td>\n",
              "    </tr>\n",
              "    <tr>\n",
              "      <th>mean</th>\n",
              "      <td>1.176354e+06</td>\n",
              "    </tr>\n",
              "    <tr>\n",
              "      <th>std</th>\n",
              "      <td>6.768838e+05</td>\n",
              "    </tr>\n",
              "    <tr>\n",
              "      <th>min</th>\n",
              "      <td>3.400000e+01</td>\n",
              "    </tr>\n",
              "    <tr>\n",
              "      <th>25%</th>\n",
              "      <td>5.905488e+05</td>\n",
              "    </tr>\n",
              "    <tr>\n",
              "      <th>50%</th>\n",
              "      <td>1.180543e+06</td>\n",
              "    </tr>\n",
              "    <tr>\n",
              "      <th>75%</th>\n",
              "      <td>1.761304e+06</td>\n",
              "    </tr>\n",
              "    <tr>\n",
              "      <th>max</th>\n",
              "      <td>2.345768e+06</td>\n",
              "    </tr>\n",
              "  </tbody>\n",
              "</table>\n",
              "</div>\n",
              "      <button class=\"colab-df-convert\" onclick=\"convertToInteractive('df-722d1d37-a3be-4500-9190-d0e5545320d4')\"\n",
              "              title=\"Convert this dataframe to an interactive table.\"\n",
              "              style=\"display:none;\">\n",
              "        \n",
              "  <svg xmlns=\"http://www.w3.org/2000/svg\" height=\"24px\"viewBox=\"0 0 24 24\"\n",
              "       width=\"24px\">\n",
              "    <path d=\"M0 0h24v24H0V0z\" fill=\"none\"/>\n",
              "    <path d=\"M18.56 5.44l.94 2.06.94-2.06 2.06-.94-2.06-.94-.94-2.06-.94 2.06-2.06.94zm-11 1L8.5 8.5l.94-2.06 2.06-.94-2.06-.94L8.5 2.5l-.94 2.06-2.06.94zm10 10l.94 2.06.94-2.06 2.06-.94-2.06-.94-.94-2.06-.94 2.06-2.06.94z\"/><path d=\"M17.41 7.96l-1.37-1.37c-.4-.4-.92-.59-1.43-.59-.52 0-1.04.2-1.43.59L10.3 9.45l-7.72 7.72c-.78.78-.78 2.05 0 2.83L4 21.41c.39.39.9.59 1.41.59.51 0 1.02-.2 1.41-.59l7.78-7.78 2.81-2.81c.8-.78.8-2.07 0-2.86zM5.41 20L4 18.59l7.72-7.72 1.47 1.35L5.41 20z\"/>\n",
              "  </svg>\n",
              "      </button>\n",
              "      \n",
              "  <style>\n",
              "    .colab-df-container {\n",
              "      display:flex;\n",
              "      flex-wrap:wrap;\n",
              "      gap: 12px;\n",
              "    }\n",
              "\n",
              "    .colab-df-convert {\n",
              "      background-color: #E8F0FE;\n",
              "      border: none;\n",
              "      border-radius: 50%;\n",
              "      cursor: pointer;\n",
              "      display: none;\n",
              "      fill: #1967D2;\n",
              "      height: 32px;\n",
              "      padding: 0 0 0 0;\n",
              "      width: 32px;\n",
              "    }\n",
              "\n",
              "    .colab-df-convert:hover {\n",
              "      background-color: #E2EBFA;\n",
              "      box-shadow: 0px 1px 2px rgba(60, 64, 67, 0.3), 0px 1px 3px 1px rgba(60, 64, 67, 0.15);\n",
              "      fill: #174EA6;\n",
              "    }\n",
              "\n",
              "    [theme=dark] .colab-df-convert {\n",
              "      background-color: #3B4455;\n",
              "      fill: #D2E3FC;\n",
              "    }\n",
              "\n",
              "    [theme=dark] .colab-df-convert:hover {\n",
              "      background-color: #434B5C;\n",
              "      box-shadow: 0px 1px 3px 1px rgba(0, 0, 0, 0.15);\n",
              "      filter: drop-shadow(0px 1px 2px rgba(0, 0, 0, 0.3));\n",
              "      fill: #FFFFFF;\n",
              "    }\n",
              "  </style>\n",
              "\n",
              "      <script>\n",
              "        const buttonEl =\n",
              "          document.querySelector('#df-722d1d37-a3be-4500-9190-d0e5545320d4 button.colab-df-convert');\n",
              "        buttonEl.style.display =\n",
              "          google.colab.kernel.accessAllowed ? 'block' : 'none';\n",
              "\n",
              "        async function convertToInteractive(key) {\n",
              "          const element = document.querySelector('#df-722d1d37-a3be-4500-9190-d0e5545320d4');\n",
              "          const dataTable =\n",
              "            await google.colab.kernel.invokeFunction('convertToInteractive',\n",
              "                                                     [key], {});\n",
              "          if (!dataTable) return;\n",
              "\n",
              "          const docLinkHtml = 'Like what you see? Visit the ' +\n",
              "            '<a target=\"_blank\" href=https://colab.research.google.com/notebooks/data_table.ipynb>data table notebook</a>'\n",
              "            + ' to learn more about interactive tables.';\n",
              "          element.innerHTML = '';\n",
              "          dataTable['output_type'] = 'display_data';\n",
              "          await google.colab.output.renderOutput(dataTable, element);\n",
              "          const docLink = document.createElement('div');\n",
              "          docLink.innerHTML = docLinkHtml;\n",
              "          element.appendChild(docLink);\n",
              "        }\n",
              "      </script>\n",
              "    </div>\n",
              "  </div>\n",
              "  "
            ],
            "text/plain": [
              "            test_id\n",
              "count  2.345800e+04\n",
              "mean   1.176354e+06\n",
              "std    6.768838e+05\n",
              "min    3.400000e+01\n",
              "25%    5.905488e+05\n",
              "50%    1.180543e+06\n",
              "75%    1.761304e+06\n",
              "max    2.345768e+06"
            ]
          },
          "metadata": {},
          "execution_count": 16
        }
      ]
    },
    {
      "cell_type": "code",
      "source": [
        "#dropping 'id','qid1','qid2' from training dataset\n",
        "#dropping 'test_id' from testing dataset\n",
        "\n",
        "train_data = train_data.drop(['id','qid1','qid2'],axis=1)\n",
        "test_data = test_data.drop(['test_id'],axis=1)\n",
        "train_data.head(10)"
      ],
      "metadata": {
        "execution": {
          "iopub.status.busy": "2022-01-29T05:25:18.590128Z",
          "iopub.execute_input": "2022-01-29T05:25:18.591149Z",
          "iopub.status.idle": "2022-01-29T05:25:18.619029Z",
          "shell.execute_reply.started": "2022-01-29T05:25:18.591107Z",
          "shell.execute_reply": "2022-01-29T05:25:18.617993Z"
        },
        "trusted": true,
        "colab": {
          "base_uri": "https://localhost:8080/",
          "height": 363
        },
        "id": "dYyPTWufY774",
        "outputId": "569e925b-5eec-4a73-9c1e-385c6ee08218"
      },
      "execution_count": null,
      "outputs": [
        {
          "output_type": "execute_result",
          "data": {
            "text/html": [
              "\n",
              "  <div id=\"df-e5bf7e38-994f-4ce2-8274-bbfe983930e7\">\n",
              "    <div class=\"colab-df-container\">\n",
              "      <div>\n",
              "<style scoped>\n",
              "    .dataframe tbody tr th:only-of-type {\n",
              "        vertical-align: middle;\n",
              "    }\n",
              "\n",
              "    .dataframe tbody tr th {\n",
              "        vertical-align: top;\n",
              "    }\n",
              "\n",
              "    .dataframe thead th {\n",
              "        text-align: right;\n",
              "    }\n",
              "</style>\n",
              "<table border=\"1\" class=\"dataframe\">\n",
              "  <thead>\n",
              "    <tr style=\"text-align: right;\">\n",
              "      <th></th>\n",
              "      <th>question1</th>\n",
              "      <th>question2</th>\n",
              "      <th>is_duplicate</th>\n",
              "    </tr>\n",
              "  </thead>\n",
              "  <tbody>\n",
              "    <tr>\n",
              "      <th>0</th>\n",
              "      <td>Why doesn't everyone I ask to answer a questio...</td>\n",
              "      <td>Why does no body answer my question in Quora?</td>\n",
              "      <td>1</td>\n",
              "    </tr>\n",
              "    <tr>\n",
              "      <th>1</th>\n",
              "      <td>How do I get funding to turn my idea into a re...</td>\n",
              "      <td>How can I get funding for my invention ideas?</td>\n",
              "      <td>1</td>\n",
              "    </tr>\n",
              "    <tr>\n",
              "      <th>2</th>\n",
              "      <td>What is the best way to get over your ex?</td>\n",
              "      <td>How can I get over my ex?</td>\n",
              "      <td>0</td>\n",
              "    </tr>\n",
              "    <tr>\n",
              "      <th>3</th>\n",
              "      <td>What's the most scenic driving route from Dall...</td>\n",
              "      <td>What's the most scenic driving route from Aust...</td>\n",
              "      <td>1</td>\n",
              "    </tr>\n",
              "    <tr>\n",
              "      <th>4</th>\n",
              "      <td>What is a good way to get over depression?</td>\n",
              "      <td>How do I help a depressed person to get over it?</td>\n",
              "      <td>1</td>\n",
              "    </tr>\n",
              "    <tr>\n",
              "      <th>5</th>\n",
              "      <td>How do you write an excuse letter for being ab...</td>\n",
              "      <td>How do you write a letter to your child's scho...</td>\n",
              "      <td>0</td>\n",
              "    </tr>\n",
              "    <tr>\n",
              "      <th>6</th>\n",
              "      <td>How do I apply machine learning in business?</td>\n",
              "      <td>How do I apply machine learning to business?</td>\n",
              "      <td>1</td>\n",
              "    </tr>\n",
              "    <tr>\n",
              "      <th>7</th>\n",
              "      <td>What are your top 5 funniest movies of all time?</td>\n",
              "      <td>What were the best movies of 2016? Why?</td>\n",
              "      <td>0</td>\n",
              "    </tr>\n",
              "    <tr>\n",
              "      <th>8</th>\n",
              "      <td>What Quora mean?</td>\n",
              "      <td>What does \"Quora\" mean?</td>\n",
              "      <td>1</td>\n",
              "    </tr>\n",
              "    <tr>\n",
              "      <th>9</th>\n",
              "      <td>What are some things you would like to read ab...</td>\n",
              "      <td>What does it feel like to win a competition?</td>\n",
              "      <td>0</td>\n",
              "    </tr>\n",
              "  </tbody>\n",
              "</table>\n",
              "</div>\n",
              "      <button class=\"colab-df-convert\" onclick=\"convertToInteractive('df-e5bf7e38-994f-4ce2-8274-bbfe983930e7')\"\n",
              "              title=\"Convert this dataframe to an interactive table.\"\n",
              "              style=\"display:none;\">\n",
              "        \n",
              "  <svg xmlns=\"http://www.w3.org/2000/svg\" height=\"24px\"viewBox=\"0 0 24 24\"\n",
              "       width=\"24px\">\n",
              "    <path d=\"M0 0h24v24H0V0z\" fill=\"none\"/>\n",
              "    <path d=\"M18.56 5.44l.94 2.06.94-2.06 2.06-.94-2.06-.94-.94-2.06-.94 2.06-2.06.94zm-11 1L8.5 8.5l.94-2.06 2.06-.94-2.06-.94L8.5 2.5l-.94 2.06-2.06.94zm10 10l.94 2.06.94-2.06 2.06-.94-2.06-.94-.94-2.06-.94 2.06-2.06.94z\"/><path d=\"M17.41 7.96l-1.37-1.37c-.4-.4-.92-.59-1.43-.59-.52 0-1.04.2-1.43.59L10.3 9.45l-7.72 7.72c-.78.78-.78 2.05 0 2.83L4 21.41c.39.39.9.59 1.41.59.51 0 1.02-.2 1.41-.59l7.78-7.78 2.81-2.81c.8-.78.8-2.07 0-2.86zM5.41 20L4 18.59l7.72-7.72 1.47 1.35L5.41 20z\"/>\n",
              "  </svg>\n",
              "      </button>\n",
              "      \n",
              "  <style>\n",
              "    .colab-df-container {\n",
              "      display:flex;\n",
              "      flex-wrap:wrap;\n",
              "      gap: 12px;\n",
              "    }\n",
              "\n",
              "    .colab-df-convert {\n",
              "      background-color: #E8F0FE;\n",
              "      border: none;\n",
              "      border-radius: 50%;\n",
              "      cursor: pointer;\n",
              "      display: none;\n",
              "      fill: #1967D2;\n",
              "      height: 32px;\n",
              "      padding: 0 0 0 0;\n",
              "      width: 32px;\n",
              "    }\n",
              "\n",
              "    .colab-df-convert:hover {\n",
              "      background-color: #E2EBFA;\n",
              "      box-shadow: 0px 1px 2px rgba(60, 64, 67, 0.3), 0px 1px 3px 1px rgba(60, 64, 67, 0.15);\n",
              "      fill: #174EA6;\n",
              "    }\n",
              "\n",
              "    [theme=dark] .colab-df-convert {\n",
              "      background-color: #3B4455;\n",
              "      fill: #D2E3FC;\n",
              "    }\n",
              "\n",
              "    [theme=dark] .colab-df-convert:hover {\n",
              "      background-color: #434B5C;\n",
              "      box-shadow: 0px 1px 3px 1px rgba(0, 0, 0, 0.15);\n",
              "      filter: drop-shadow(0px 1px 2px rgba(0, 0, 0, 0.3));\n",
              "      fill: #FFFFFF;\n",
              "    }\n",
              "  </style>\n",
              "\n",
              "      <script>\n",
              "        const buttonEl =\n",
              "          document.querySelector('#df-e5bf7e38-994f-4ce2-8274-bbfe983930e7 button.colab-df-convert');\n",
              "        buttonEl.style.display =\n",
              "          google.colab.kernel.accessAllowed ? 'block' : 'none';\n",
              "\n",
              "        async function convertToInteractive(key) {\n",
              "          const element = document.querySelector('#df-e5bf7e38-994f-4ce2-8274-bbfe983930e7');\n",
              "          const dataTable =\n",
              "            await google.colab.kernel.invokeFunction('convertToInteractive',\n",
              "                                                     [key], {});\n",
              "          if (!dataTable) return;\n",
              "\n",
              "          const docLinkHtml = 'Like what you see? Visit the ' +\n",
              "            '<a target=\"_blank\" href=https://colab.research.google.com/notebooks/data_table.ipynb>data table notebook</a>'\n",
              "            + ' to learn more about interactive tables.';\n",
              "          element.innerHTML = '';\n",
              "          dataTable['output_type'] = 'display_data';\n",
              "          await google.colab.output.renderOutput(dataTable, element);\n",
              "          const docLink = document.createElement('div');\n",
              "          docLink.innerHTML = docLinkHtml;\n",
              "          element.appendChild(docLink);\n",
              "        }\n",
              "      </script>\n",
              "    </div>\n",
              "  </div>\n",
              "  "
            ],
            "text/plain": [
              "                                           question1  ... is_duplicate\n",
              "0  Why doesn't everyone I ask to answer a questio...  ...            1\n",
              "1  How do I get funding to turn my idea into a re...  ...            1\n",
              "2          What is the best way to get over your ex?  ...            0\n",
              "3  What's the most scenic driving route from Dall...  ...            1\n",
              "4         What is a good way to get over depression?  ...            1\n",
              "5  How do you write an excuse letter for being ab...  ...            0\n",
              "6       How do I apply machine learning in business?  ...            1\n",
              "7   What are your top 5 funniest movies of all time?  ...            0\n",
              "8                                   What Quora mean?  ...            1\n",
              "9  What are some things you would like to read ab...  ...            0\n",
              "\n",
              "[10 rows x 3 columns]"
            ]
          },
          "metadata": {},
          "execution_count": 18
        }
      ]
    },
    {
      "cell_type": "code",
      "source": [
        "#plot of duplicate questions\n",
        "train_data.is_duplicate.value_counts().plot(kind='bar')"
      ],
      "metadata": {
        "execution": {
          "iopub.status.busy": "2022-01-29T05:25:23.835090Z",
          "iopub.execute_input": "2022-01-29T05:25:23.835407Z",
          "iopub.status.idle": "2022-01-29T05:25:24.009143Z",
          "shell.execute_reply.started": "2022-01-29T05:25:23.835371Z",
          "shell.execute_reply": "2022-01-29T05:25:24.008580Z"
        },
        "trusted": true,
        "colab": {
          "base_uri": "https://localhost:8080/",
          "height": 279
        },
        "id": "Ya7FLtLsY775",
        "outputId": "9e3c2359-d13b-40a8-b1c6-00a25fb15ae7"
      },
      "execution_count": null,
      "outputs": [
        {
          "output_type": "execute_result",
          "data": {
            "text/plain": [
              "<matplotlib.axes._subplots.AxesSubplot at 0x7f52a9539d90>"
            ]
          },
          "metadata": {},
          "execution_count": 19
        },
        {
          "output_type": "display_data",
          "data": {
            "image/png": "[encoded data removed]",
            "text/plain": [
              "<Figure size 432x288 with 1 Axes>"
            ]
          },
          "metadata": {
            "needs_background": "light"
          }
        }
      ]
    },
    {
      "cell_type": "code",
      "source": [
        "train_data[train_data['is_duplicate']==1].shape,train_data[train_data['is_duplicate']==0].shape"
      ],
      "metadata": {
        "execution": {
          "iopub.status.busy": "2022-01-29T05:25:24.953553Z",
          "iopub.execute_input": "2022-01-29T05:25:24.953998Z",
          "iopub.status.idle": "2022-01-29T05:25:24.971569Z",
          "shell.execute_reply.started": "2022-01-29T05:25:24.953959Z",
          "shell.execute_reply": "2022-01-29T05:25:24.970975Z"
        },
        "trusted": true,
        "colab": {
          "base_uri": "https://localhost:8080/"
        },
        "id": "F6x3ftLfY779",
        "outputId": "5f9c0a98-82ad-4f88-afc3-37f24d2a6bd0"
      },
      "execution_count": null,
      "outputs": [
        {
          "output_type": "execute_result",
          "data": {
            "text/plain": [
              "((15073, 3), (25356, 3))"
            ]
          },
          "metadata": {},
          "execution_count": 20
        }
      ]
    },
    {
      "cell_type": "code",
      "source": [
        "is_duplicate = train_data[train_data['is_duplicate']==1]\n",
        "not_duplicate = train_data[train_data['is_duplicate']==0].sample(14798)"
      ],
      "metadata": {
        "execution": {
          "iopub.status.busy": "2022-01-29T05:25:25.668715Z",
          "iopub.execute_input": "2022-01-29T05:25:25.669375Z",
          "iopub.status.idle": "2022-01-29T05:25:25.818611Z",
          "shell.execute_reply.started": "2022-01-29T05:25:25.669325Z",
          "shell.execute_reply": "2022-01-29T05:25:25.817659Z"
        },
        "trusted": true,
        "id": "2mvclsxEY779"
      },
      "execution_count": null,
      "outputs": []
    },
    {
      "cell_type": "code",
      "source": [
        "train_data = pd.concat([is_duplicate,not_duplicate])\n",
        "train_data = train_data.sample(frac=1).reset_index(drop=True)\n",
        "train_data"
      ],
      "metadata": {
        "execution": {
          "iopub.status.busy": "2022-01-29T05:25:26.259181Z",
          "iopub.execute_input": "2022-01-29T05:25:26.259481Z",
          "iopub.status.idle": "2022-01-29T05:25:26.290330Z",
          "shell.execute_reply.started": "2022-01-29T05:25:26.259446Z",
          "shell.execute_reply": "2022-01-29T05:25:26.289422Z"
        },
        "trusted": true,
        "colab": {
          "base_uri": "https://localhost:8080/",
          "height": 424
        },
        "id": "w5iQiVN_Y77-",
        "outputId": "271d1bf3-1897-4c52-caa2-c4cd4cd995b2"
      },
      "execution_count": null,
      "outputs": [
        {
          "output_type": "execute_result",
          "data": {
            "text/html": [
              "\n",
              "  <div id=\"df-5fb7723d-5512-41e3-ad6a-fc1a9d7c1928\">\n",
              "    <div class=\"colab-df-container\">\n",
              "      <div>\n",
              "<style scoped>\n",
              "    .dataframe tbody tr th:only-of-type {\n",
              "        vertical-align: middle;\n",
              "    }\n",
              "\n",
              "    .dataframe tbody tr th {\n",
              "        vertical-align: top;\n",
              "    }\n",
              "\n",
              "    .dataframe thead th {\n",
              "        text-align: right;\n",
              "    }\n",
              "</style>\n",
              "<table border=\"1\" class=\"dataframe\">\n",
              "  <thead>\n",
              "    <tr style=\"text-align: right;\">\n",
              "      <th></th>\n",
              "      <th>question1</th>\n",
              "      <th>question2</th>\n",
              "      <th>is_duplicate</th>\n",
              "    </tr>\n",
              "  </thead>\n",
              "  <tbody>\n",
              "    <tr>\n",
              "      <th>0</th>\n",
              "      <td>How much money does the owner/operator of a si...</td>\n",
              "      <td>How much money does Wham make from \"Last Chris...</td>\n",
              "      <td>0</td>\n",
              "    </tr>\n",
              "    <tr>\n",
              "      <th>1</th>\n",
              "      <td>What is the best website or job portal for fre...</td>\n",
              "      <td>Which are the best job portals for a post grad...</td>\n",
              "      <td>0</td>\n",
              "    </tr>\n",
              "    <tr>\n",
              "      <th>2</th>\n",
              "      <td>What is the game engine used for the game 7Sins?</td>\n",
              "      <td>Do I handicap myself by using 3rd Party Game e...</td>\n",
              "      <td>0</td>\n",
              "    </tr>\n",
              "    <tr>\n",
              "      <th>3</th>\n",
              "      <td>How do I get my husband d to understand that i...</td>\n",
              "      <td>I am 23 years old and want to move out of my m...</td>\n",
              "      <td>0</td>\n",
              "    </tr>\n",
              "    <tr>\n",
              "      <th>4</th>\n",
              "      <td>How do you say \"I'm sorry\" in Korean? Is there...</td>\n",
              "      <td>How can I say 'Hello' in Korean?</td>\n",
              "      <td>0</td>\n",
              "    </tr>\n",
              "    <tr>\n",
              "      <th>...</th>\n",
              "      <td>...</td>\n",
              "      <td>...</td>\n",
              "      <td>...</td>\n",
              "    </tr>\n",
              "    <tr>\n",
              "      <th>29866</th>\n",
              "      <td>I don't have a proof of address, how do I appl...</td>\n",
              "      <td>How can I apply online for issuance of PAN car...</td>\n",
              "      <td>1</td>\n",
              "    </tr>\n",
              "    <tr>\n",
              "      <th>29867</th>\n",
              "      <td>How do I ignore what other people think of me?</td>\n",
              "      <td>Should I care what people think about me? Most...</td>\n",
              "      <td>1</td>\n",
              "    </tr>\n",
              "    <tr>\n",
              "      <th>29868</th>\n",
              "      <td>Why did Germany attacked Russia?</td>\n",
              "      <td>How do transfer money from Thailand to Chennai...</td>\n",
              "      <td>0</td>\n",
              "    </tr>\n",
              "    <tr>\n",
              "      <th>29869</th>\n",
              "      <td>Who were the founders of DealBase.com?</td>\n",
              "      <td>Who is the founder of Waygook.org?</td>\n",
              "      <td>0</td>\n",
              "    </tr>\n",
              "    <tr>\n",
              "      <th>29870</th>\n",
              "      <td>Which is the best joke you have ever heard?</td>\n",
              "      <td>What is the best joke ever heard?</td>\n",
              "      <td>1</td>\n",
              "    </tr>\n",
              "  </tbody>\n",
              "</table>\n",
              "<p>29871 rows × 3 columns</p>\n",
              "</div>\n",
              "      <button class=\"colab-df-convert\" onclick=\"convertToInteractive('df-5fb7723d-5512-41e3-ad6a-fc1a9d7c1928')\"\n",
              "              title=\"Convert this dataframe to an interactive table.\"\n",
              "              style=\"display:none;\">\n",
              "        \n",
              "  <svg xmlns=\"http://www.w3.org/2000/svg\" height=\"24px\"viewBox=\"0 0 24 24\"\n",
              "       width=\"24px\">\n",
              "    <path d=\"M0 0h24v24H0V0z\" fill=\"none\"/>\n",
              "    <path d=\"M18.56 5.44l.94 2.06.94-2.06 2.06-.94-2.06-.94-.94-2.06-.94 2.06-2.06.94zm-11 1L8.5 8.5l.94-2.06 2.06-.94-2.06-.94L8.5 2.5l-.94 2.06-2.06.94zm10 10l.94 2.06.94-2.06 2.06-.94-2.06-.94-.94-2.06-.94 2.06-2.06.94z\"/><path d=\"M17.41 7.96l-1.37-1.37c-.4-.4-.92-.59-1.43-.59-.52 0-1.04.2-1.43.59L10.3 9.45l-7.72 7.72c-.78.78-.78 2.05 0 2.83L4 21.41c.39.39.9.59 1.41.59.51 0 1.02-.2 1.41-.59l7.78-7.78 2.81-2.81c.8-.78.8-2.07 0-2.86zM5.41 20L4 18.59l7.72-7.72 1.47 1.35L5.41 20z\"/>\n",
              "  </svg>\n",
              "      </button>\n",
              "      \n",
              "  <style>\n",
              "    .colab-df-container {\n",
              "      display:flex;\n",
              "      flex-wrap:wrap;\n",
              "      gap: 12px;\n",
              "    }\n",
              "\n",
              "    .colab-df-convert {\n",
              "      background-color: #E8F0FE;\n",
              "      border: none;\n",
              "      border-radius: 50%;\n",
              "      cursor: pointer;\n",
              "      display: none;\n",
              "      fill: #1967D2;\n",
              "      height: 32px;\n",
              "      padding: 0 0 0 0;\n",
              "      width: 32px;\n",
              "    }\n",
              "\n",
              "    .colab-df-convert:hover {\n",
              "      background-color: #E2EBFA;\n",
              "      box-shadow: 0px 1px 2px rgba(60, 64, 67, 0.3), 0px 1px 3px 1px rgba(60, 64, 67, 0.15);\n",
              "      fill: #174EA6;\n",
              "    }\n",
              "\n",
              "    [theme=dark] .colab-df-convert {\n",
              "      background-color: #3B4455;\n",
              "      fill: #D2E3FC;\n",
              "    }\n",
              "\n",
              "    [theme=dark] .colab-df-convert:hover {\n",
              "      background-color: #434B5C;\n",
              "      box-shadow: 0px 1px 3px 1px rgba(0, 0, 0, 0.15);\n",
              "      filter: drop-shadow(0px 1px 2px rgba(0, 0, 0, 0.3));\n",
              "      fill: #FFFFFF;\n",
              "    }\n",
              "  </style>\n",
              "\n",
              "      <script>\n",
              "        const buttonEl =\n",
              "          document.querySelector('#df-5fb7723d-5512-41e3-ad6a-fc1a9d7c1928 button.colab-df-convert');\n",
              "        buttonEl.style.display =\n",
              "          google.colab.kernel.accessAllowed ? 'block' : 'none';\n",
              "\n",
              "        async function convertToInteractive(key) {\n",
              "          const element = document.querySelector('#df-5fb7723d-5512-41e3-ad6a-fc1a9d7c1928');\n",
              "          const dataTable =\n",
              "            await google.colab.kernel.invokeFunction('convertToInteractive',\n",
              "                                                     [key], {});\n",
              "          if (!dataTable) return;\n",
              "\n",
              "          const docLinkHtml = 'Like what you see? Visit the ' +\n",
              "            '<a target=\"_blank\" href=https://colab.research.google.com/notebooks/data_table.ipynb>data table notebook</a>'\n",
              "            + ' to learn more about interactive tables.';\n",
              "          element.innerHTML = '';\n",
              "          dataTable['output_type'] = 'display_data';\n",
              "          await google.colab.output.renderOutput(dataTable, element);\n",
              "          const docLink = document.createElement('div');\n",
              "          docLink.innerHTML = docLinkHtml;\n",
              "          element.appendChild(docLink);\n",
              "        }\n",
              "      </script>\n",
              "    </div>\n",
              "  </div>\n",
              "  "
            ],
            "text/plain": [
              "                                               question1  ... is_duplicate\n",
              "0      How much money does the owner/operator of a si...  ...            0\n",
              "1      What is the best website or job portal for fre...  ...            0\n",
              "2       What is the game engine used for the game 7Sins?  ...            0\n",
              "3      How do I get my husband d to understand that i...  ...            0\n",
              "4      How do you say \"I'm sorry\" in Korean? Is there...  ...            0\n",
              "...                                                  ...  ...          ...\n",
              "29866  I don't have a proof of address, how do I appl...  ...            1\n",
              "29867     How do I ignore what other people think of me?  ...            1\n",
              "29868                   Why did Germany attacked Russia?  ...            0\n",
              "29869             Who were the founders of DealBase.com?  ...            0\n",
              "29870        Which is the best joke you have ever heard?  ...            1\n",
              "\n",
              "[29871 rows x 3 columns]"
            ]
          },
          "metadata": {},
          "execution_count": 22
        }
      ]
    },
    {
      "cell_type": "code",
      "source": [
        "train_data = pd.concat([is_duplicate,not_duplicate])\n",
        "train_data = train_data.sample(frac=1).reset_index(drop=True)\n",
        "train_data"
      ],
      "metadata": {
        "execution": {
          "iopub.status.busy": "2022-01-29T05:25:27.092495Z",
          "iopub.execute_input": "2022-01-29T05:25:27.092773Z",
          "iopub.status.idle": "2022-01-29T05:25:27.126041Z",
          "shell.execute_reply.started": "2022-01-29T05:25:27.092745Z",
          "shell.execute_reply": "2022-01-29T05:25:27.125273Z"
        },
        "trusted": true,
        "colab": {
          "base_uri": "https://localhost:8080/",
          "height": 424
        },
        "id": "hQYZDNwRY77_",
        "outputId": "1849087e-6eb2-4778-ce84-4a9dc16af9c2"
      },
      "execution_count": null,
      "outputs": [
        {
          "output_type": "execute_result",
          "data": {
            "text/html": [
              "\n",
              "  <div id=\"df-998f3f30-1b4e-4e93-972e-ae8162b5bbd2\">\n",
              "    <div class=\"colab-df-container\">\n",
              "      <div>\n",
              "<style scoped>\n",
              "    .dataframe tbody tr th:only-of-type {\n",
              "        vertical-align: middle;\n",
              "    }\n",
              "\n",
              "    .dataframe tbody tr th {\n",
              "        vertical-align: top;\n",
              "    }\n",
              "\n",
              "    .dataframe thead th {\n",
              "        text-align: right;\n",
              "    }\n",
              "</style>\n",
              "<table border=\"1\" class=\"dataframe\">\n",
              "  <thead>\n",
              "    <tr style=\"text-align: right;\">\n",
              "      <th></th>\n",
              "      <th>question1</th>\n",
              "      <th>question2</th>\n",
              "      <th>is_duplicate</th>\n",
              "    </tr>\n",
              "  </thead>\n",
              "  <tbody>\n",
              "    <tr>\n",
              "      <th>0</th>\n",
              "      <td>Did the Indian government ban the 500 Rs &amp; 100...</td>\n",
              "      <td>Why did the Indian government demonetize the c...</td>\n",
              "      <td>1</td>\n",
              "    </tr>\n",
              "    <tr>\n",
              "      <th>1</th>\n",
              "      <td>What do software engineering interns do?</td>\n",
              "      <td>What is it like to be a software engineering i...</td>\n",
              "      <td>0</td>\n",
              "    </tr>\n",
              "    <tr>\n",
              "      <th>2</th>\n",
              "      <td>What are the best ways to make a fool of yours...</td>\n",
              "      <td>A worker who sits next to me in a cubicle make...</td>\n",
              "      <td>0</td>\n",
              "    </tr>\n",
              "    <tr>\n",
              "      <th>3</th>\n",
              "      <td>If you feel disappointed in yourself, how do y...</td>\n",
              "      <td>How do you make yourself feel better?</td>\n",
              "      <td>0</td>\n",
              "    </tr>\n",
              "    <tr>\n",
              "      <th>4</th>\n",
              "      <td>How can I earn money through YouTube?</td>\n",
              "      <td>How can I earn money in YouTube?</td>\n",
              "      <td>1</td>\n",
              "    </tr>\n",
              "    <tr>\n",
              "      <th>...</th>\n",
              "      <td>...</td>\n",
              "      <td>...</td>\n",
              "      <td>...</td>\n",
              "    </tr>\n",
              "    <tr>\n",
              "      <th>29866</th>\n",
              "      <td>What is the best way to prepare for TOEFL?</td>\n",
              "      <td>What is the best way to prepare for taking the...</td>\n",
              "      <td>1</td>\n",
              "    </tr>\n",
              "    <tr>\n",
              "      <th>29867</th>\n",
              "      <td>What would make you talk with your phone in pu...</td>\n",
              "      <td>How is German history taught in Germany?</td>\n",
              "      <td>0</td>\n",
              "    </tr>\n",
              "    <tr>\n",
              "      <th>29868</th>\n",
              "      <td>What is the best answer according to you when ...</td>\n",
              "      <td>What are the best answers for \"Why you want to...</td>\n",
              "      <td>1</td>\n",
              "    </tr>\n",
              "    <tr>\n",
              "      <th>29869</th>\n",
              "      <td>How effective are the current methods of detec...</td>\n",
              "      <td>How effective are current methods of detecting...</td>\n",
              "      <td>1</td>\n",
              "    </tr>\n",
              "    <tr>\n",
              "      <th>29870</th>\n",
              "      <td>What do average Pakistanis think of Americans?</td>\n",
              "      <td>What do Pakistani think about Americans?</td>\n",
              "      <td>1</td>\n",
              "    </tr>\n",
              "  </tbody>\n",
              "</table>\n",
              "<p>29871 rows × 3 columns</p>\n",
              "</div>\n",
              "      <button class=\"colab-df-convert\" onclick=\"convertToInteractive('df-998f3f30-1b4e-4e93-972e-ae8162b5bbd2')\"\n",
              "              title=\"Convert this dataframe to an interactive table.\"\n",
              "              style=\"display:none;\">\n",
              "        \n",
              "  <svg xmlns=\"http://www.w3.org/2000/svg\" height=\"24px\"viewBox=\"0 0 24 24\"\n",
              "       width=\"24px\">\n",
              "    <path d=\"M0 0h24v24H0V0z\" fill=\"none\"/>\n",
              "    <path d=\"M18.56 5.44l.94 2.06.94-2.06 2.06-.94-2.06-.94-.94-2.06-.94 2.06-2.06.94zm-11 1L8.5 8.5l.94-2.06 2.06-.94-2.06-.94L8.5 2.5l-.94 2.06-2.06.94zm10 10l.94 2.06.94-2.06 2.06-.94-2.06-.94-.94-2.06-.94 2.06-2.06.94z\"/><path d=\"M17.41 7.96l-1.37-1.37c-.4-.4-.92-.59-1.43-.59-.52 0-1.04.2-1.43.59L10.3 9.45l-7.72 7.72c-.78.78-.78 2.05 0 2.83L4 21.41c.39.39.9.59 1.41.59.51 0 1.02-.2 1.41-.59l7.78-7.78 2.81-2.81c.8-.78.8-2.07 0-2.86zM5.41 20L4 18.59l7.72-7.72 1.47 1.35L5.41 20z\"/>\n",
              "  </svg>\n",
              "      </button>\n",
              "      \n",
              "  <style>\n",
              "    .colab-df-container {\n",
              "      display:flex;\n",
              "      flex-wrap:wrap;\n",
              "      gap: 12px;\n",
              "    }\n",
              "\n",
              "    .colab-df-convert {\n",
              "      background-color: #E8F0FE;\n",
              "      border: none;\n",
              "      border-radius: 50%;\n",
              "      cursor: pointer;\n",
              "      display: none;\n",
              "      fill: #1967D2;\n",
              "      height: 32px;\n",
              "      padding: 0 0 0 0;\n",
              "      width: 32px;\n",
              "    }\n",
              "\n",
              "    .colab-df-convert:hover {\n",
              "      background-color: #E2EBFA;\n",
              "      box-shadow: 0px 1px 2px rgba(60, 64, 67, 0.3), 0px 1px 3px 1px rgba(60, 64, 67, 0.15);\n",
              "      fill: #174EA6;\n",
              "    }\n",
              "\n",
              "    [theme=dark] .colab-df-convert {\n",
              "      background-color: #3B4455;\n",
              "      fill: #D2E3FC;\n",
              "    }\n",
              "\n",
              "    [theme=dark] .colab-df-convert:hover {\n",
              "      background-color: #434B5C;\n",
              "      box-shadow: 0px 1px 3px 1px rgba(0, 0, 0, 0.15);\n",
              "      filter: drop-shadow(0px 1px 2px rgba(0, 0, 0, 0.3));\n",
              "      fill: #FFFFFF;\n",
              "    }\n",
              "  </style>\n",
              "\n",
              "      <script>\n",
              "        const buttonEl =\n",
              "          document.querySelector('#df-998f3f30-1b4e-4e93-972e-ae8162b5bbd2 button.colab-df-convert');\n",
              "        buttonEl.style.display =\n",
              "          google.colab.kernel.accessAllowed ? 'block' : 'none';\n",
              "\n",
              "        async function convertToInteractive(key) {\n",
              "          const element = document.querySelector('#df-998f3f30-1b4e-4e93-972e-ae8162b5bbd2');\n",
              "          const dataTable =\n",
              "            await google.colab.kernel.invokeFunction('convertToInteractive',\n",
              "                                                     [key], {});\n",
              "          if (!dataTable) return;\n",
              "\n",
              "          const docLinkHtml = 'Like what you see? Visit the ' +\n",
              "            '<a target=\"_blank\" href=https://colab.research.google.com/notebooks/data_table.ipynb>data table notebook</a>'\n",
              "            + ' to learn more about interactive tables.';\n",
              "          element.innerHTML = '';\n",
              "          dataTable['output_type'] = 'display_data';\n",
              "          await google.colab.output.renderOutput(dataTable, element);\n",
              "          const docLink = document.createElement('div');\n",
              "          docLink.innerHTML = docLinkHtml;\n",
              "          element.appendChild(docLink);\n",
              "        }\n",
              "      </script>\n",
              "    </div>\n",
              "  </div>\n",
              "  "
            ],
            "text/plain": [
              "                                               question1  ... is_duplicate\n",
              "0      Did the Indian government ban the 500 Rs & 100...  ...            1\n",
              "1               What do software engineering interns do?  ...            0\n",
              "2      What are the best ways to make a fool of yours...  ...            0\n",
              "3      If you feel disappointed in yourself, how do y...  ...            0\n",
              "4                  How can I earn money through YouTube?  ...            1\n",
              "...                                                  ...  ...          ...\n",
              "29866         What is the best way to prepare for TOEFL?  ...            1\n",
              "29867  What would make you talk with your phone in pu...  ...            0\n",
              "29868  What is the best answer according to you when ...  ...            1\n",
              "29869  How effective are the current methods of detec...  ...            1\n",
              "29870     What do average Pakistanis think of Americans?  ...            1\n",
              "\n",
              "[29871 rows x 3 columns]"
            ]
          },
          "metadata": {},
          "execution_count": 23
        }
      ]
    },
    {
      "cell_type": "code",
      "source": [
        "train_data = pd.concat([is_duplicate,not_duplicate])\n",
        "train_data = train_data.sample(frac=1).reset_index(drop=True)\n",
        "train_data"
      ],
      "metadata": {
        "execution": {
          "iopub.status.busy": "2022-01-29T05:25:27.782560Z",
          "iopub.execute_input": "2022-01-29T05:25:27.782830Z",
          "iopub.status.idle": "2022-01-29T05:25:27.815119Z",
          "shell.execute_reply.started": "2022-01-29T05:25:27.782803Z",
          "shell.execute_reply": "2022-01-29T05:25:27.814542Z"
        },
        "trusted": true,
        "colab": {
          "base_uri": "https://localhost:8080/",
          "height": 424
        },
        "id": "j5bjJ6-DY77_",
        "outputId": "df2eff6f-c14a-427a-ea16-9c9e3329fa8a"
      },
      "execution_count": null,
      "outputs": [
        {
          "output_type": "execute_result",
          "data": {
            "text/html": [
              "\n",
              "  <div id=\"df-5ea399c7-e56d-41db-9c75-bed4271d74c8\">\n",
              "    <div class=\"colab-df-container\">\n",
              "      <div>\n",
              "<style scoped>\n",
              "    .dataframe tbody tr th:only-of-type {\n",
              "        vertical-align: middle;\n",
              "    }\n",
              "\n",
              "    .dataframe tbody tr th {\n",
              "        vertical-align: top;\n",
              "    }\n",
              "\n",
              "    .dataframe thead th {\n",
              "        text-align: right;\n",
              "    }\n",
              "</style>\n",
              "<table border=\"1\" class=\"dataframe\">\n",
              "  <thead>\n",
              "    <tr style=\"text-align: right;\">\n",
              "      <th></th>\n",
              "      <th>question1</th>\n",
              "      <th>question2</th>\n",
              "      <th>is_duplicate</th>\n",
              "    </tr>\n",
              "  </thead>\n",
              "  <tbody>\n",
              "    <tr>\n",
              "      <th>0</th>\n",
              "      <td>How do I fix an iPhone 4 camera?</td>\n",
              "      <td>How do you fix an iPhone camera that doesn't o...</td>\n",
              "      <td>0</td>\n",
              "    </tr>\n",
              "    <tr>\n",
              "      <th>1</th>\n",
              "      <td>Why is there political instability in Nigeria?</td>\n",
              "      <td>What are the causes for political instability ...</td>\n",
              "      <td>1</td>\n",
              "    </tr>\n",
              "    <tr>\n",
              "      <th>2</th>\n",
              "      <td>How can I delete my Instagram account when I f...</td>\n",
              "      <td>If I forgot both my username and password of m...</td>\n",
              "      <td>0</td>\n",
              "    </tr>\n",
              "    <tr>\n",
              "      <th>3</th>\n",
              "      <td>What is the meaning of automation?</td>\n",
              "      <td>What is mean by automation?</td>\n",
              "      <td>1</td>\n",
              "    </tr>\n",
              "    <tr>\n",
              "      <th>4</th>\n",
              "      <td>How do I get rid of electoral college?</td>\n",
              "      <td>How can we get rid of the electoral college?</td>\n",
              "      <td>1</td>\n",
              "    </tr>\n",
              "    <tr>\n",
              "      <th>...</th>\n",
              "      <td>...</td>\n",
              "      <td>...</td>\n",
              "      <td>...</td>\n",
              "    </tr>\n",
              "    <tr>\n",
              "      <th>29866</th>\n",
              "      <td>What is universal meter in electronics?</td>\n",
              "      <td>What are the top universities to pursue MS in ...</td>\n",
              "      <td>0</td>\n",
              "    </tr>\n",
              "    <tr>\n",
              "      <th>29867</th>\n",
              "      <td>How do atheists explain the Shroud of Turin?</td>\n",
              "      <td>What do you think about the Shroud of Turin?</td>\n",
              "      <td>1</td>\n",
              "    </tr>\n",
              "    <tr>\n",
              "      <th>29868</th>\n",
              "      <td>What is a UCC 1 Financing Statement?</td>\n",
              "      <td>What is a UCC Finance Statement?</td>\n",
              "      <td>0</td>\n",
              "    </tr>\n",
              "    <tr>\n",
              "      <th>29869</th>\n",
              "      <td>What is the purpose of sleeping and dreaming?</td>\n",
              "      <td>What is the purpose of dreaming?</td>\n",
              "      <td>1</td>\n",
              "    </tr>\n",
              "    <tr>\n",
              "      <th>29870</th>\n",
              "      <td>Best way to learn C language?</td>\n",
              "      <td>What is the best way to learn c programming fr...</td>\n",
              "      <td>1</td>\n",
              "    </tr>\n",
              "  </tbody>\n",
              "</table>\n",
              "<p>29871 rows × 3 columns</p>\n",
              "</div>\n",
              "      <button class=\"colab-df-convert\" onclick=\"convertToInteractive('df-5ea399c7-e56d-41db-9c75-bed4271d74c8')\"\n",
              "              title=\"Convert this dataframe to an interactive table.\"\n",
              "              style=\"display:none;\">\n",
              "        \n",
              "  <svg xmlns=\"http://www.w3.org/2000/svg\" height=\"24px\"viewBox=\"0 0 24 24\"\n",
              "       width=\"24px\">\n",
              "    <path d=\"M0 0h24v24H0V0z\" fill=\"none\"/>\n",
              "    <path d=\"M18.56 5.44l.94 2.06.94-2.06 2.06-.94-2.06-.94-.94-2.06-.94 2.06-2.06.94zm-11 1L8.5 8.5l.94-2.06 2.06-.94-2.06-.94L8.5 2.5l-.94 2.06-2.06.94zm10 10l.94 2.06.94-2.06 2.06-.94-2.06-.94-.94-2.06-.94 2.06-2.06.94z\"/><path d=\"M17.41 7.96l-1.37-1.37c-.4-.4-.92-.59-1.43-.59-.52 0-1.04.2-1.43.59L10.3 9.45l-7.72 7.72c-.78.78-.78 2.05 0 2.83L4 21.41c.39.39.9.59 1.41.59.51 0 1.02-.2 1.41-.59l7.78-7.78 2.81-2.81c.8-.78.8-2.07 0-2.86zM5.41 20L4 18.59l7.72-7.72 1.47 1.35L5.41 20z\"/>\n",
              "  </svg>\n",
              "      </button>\n",
              "      \n",
              "  <style>\n",
              "    .colab-df-container {\n",
              "      display:flex;\n",
              "      flex-wrap:wrap;\n",
              "      gap: 12px;\n",
              "    }\n",
              "\n",
              "    .colab-df-convert {\n",
              "      background-color: #E8F0FE;\n",
              "      border: none;\n",
              "      border-radius: 50%;\n",
              "      cursor: pointer;\n",
              "      display: none;\n",
              "      fill: #1967D2;\n",
              "      height: 32px;\n",
              "      padding: 0 0 0 0;\n",
              "      width: 32px;\n",
              "    }\n",
              "\n",
              "    .colab-df-convert:hover {\n",
              "      background-color: #E2EBFA;\n",
              "      box-shadow: 0px 1px 2px rgba(60, 64, 67, 0.3), 0px 1px 3px 1px rgba(60, 64, 67, 0.15);\n",
              "      fill: #174EA6;\n",
              "    }\n",
              "\n",
              "    [theme=dark] .colab-df-convert {\n",
              "      background-color: #3B4455;\n",
              "      fill: #D2E3FC;\n",
              "    }\n",
              "\n",
              "    [theme=dark] .colab-df-convert:hover {\n",
              "      background-color: #434B5C;\n",
              "      box-shadow: 0px 1px 3px 1px rgba(0, 0, 0, 0.15);\n",
              "      filter: drop-shadow(0px 1px 2px rgba(0, 0, 0, 0.3));\n",
              "      fill: #FFFFFF;\n",
              "    }\n",
              "  </style>\n",
              "\n",
              "      <script>\n",
              "        const buttonEl =\n",
              "          document.querySelector('#df-5ea399c7-e56d-41db-9c75-bed4271d74c8 button.colab-df-convert');\n",
              "        buttonEl.style.display =\n",
              "          google.colab.kernel.accessAllowed ? 'block' : 'none';\n",
              "\n",
              "        async function convertToInteractive(key) {\n",
              "          const element = document.querySelector('#df-5ea399c7-e56d-41db-9c75-bed4271d74c8');\n",
              "          const dataTable =\n",
              "            await google.colab.kernel.invokeFunction('convertToInteractive',\n",
              "                                                     [key], {});\n",
              "          if (!dataTable) return;\n",
              "\n",
              "          const docLinkHtml = 'Like what you see? Visit the ' +\n",
              "            '<a target=\"_blank\" href=https://colab.research.google.com/notebooks/data_table.ipynb>data table notebook</a>'\n",
              "            + ' to learn more about interactive tables.';\n",
              "          element.innerHTML = '';\n",
              "          dataTable['output_type'] = 'display_data';\n",
              "          await google.colab.output.renderOutput(dataTable, element);\n",
              "          const docLink = document.createElement('div');\n",
              "          docLink.innerHTML = docLinkHtml;\n",
              "          element.appendChild(docLink);\n",
              "        }\n",
              "      </script>\n",
              "    </div>\n",
              "  </div>\n",
              "  "
            ],
            "text/plain": [
              "                                               question1  ... is_duplicate\n",
              "0                       How do I fix an iPhone 4 camera?  ...            0\n",
              "1         Why is there political instability in Nigeria?  ...            1\n",
              "2      How can I delete my Instagram account when I f...  ...            0\n",
              "3                     What is the meaning of automation?  ...            1\n",
              "4                 How do I get rid of electoral college?  ...            1\n",
              "...                                                  ...  ...          ...\n",
              "29866            What is universal meter in electronics?  ...            0\n",
              "29867       How do atheists explain the Shroud of Turin?  ...            1\n",
              "29868               What is a UCC 1 Financing Statement?  ...            0\n",
              "29869      What is the purpose of sleeping and dreaming?  ...            1\n",
              "29870                      Best way to learn C language?  ...            1\n",
              "\n",
              "[29871 rows x 3 columns]"
            ]
          },
          "metadata": {},
          "execution_count": 24
        }
      ]
    },
    {
      "cell_type": "code",
      "source": [
        "#plotting the duplicate column again after processing the data\n",
        "train_data.is_duplicate.value_counts().plot(kind='bar')"
      ],
      "metadata": {
        "execution": {
          "iopub.status.busy": "2022-01-29T05:25:28.458678Z",
          "iopub.execute_input": "2022-01-29T05:25:28.459236Z",
          "iopub.status.idle": "2022-01-29T05:25:28.641714Z",
          "shell.execute_reply.started": "2022-01-29T05:25:28.459185Z",
          "shell.execute_reply": "2022-01-29T05:25:28.640844Z"
        },
        "trusted": true,
        "colab": {
          "base_uri": "https://localhost:8080/",
          "height": 279
        },
        "id": "57Tdwwq0Y78A",
        "outputId": "b0b9c0f6-4346-4441-b7ad-19661574612d"
      },
      "execution_count": null,
      "outputs": [
        {
          "output_type": "execute_result",
          "data": {
            "text/plain": [
              "<matplotlib.axes._subplots.AxesSubplot at 0x7f52a9763b10>"
            ]
          },
          "metadata": {},
          "execution_count": 25
        },
        {
          "output_type": "display_data",
          "data": {
            "image/png": "[encoded data removed]",
            "text/plain": [
              "<Figure size 432x288 with 1 Axes>"
            ]
          },
          "metadata": {
            "needs_background": "light"
          }
        }
      ]
    },
    {
      "cell_type": "code",
      "source": [
        "#Lemmatize Words\n",
        "\n",
        "def get_pos_tag(tag):\n",
        "    if tag.startswith('J'):\n",
        "        return wordnet.ADJ\n",
        "    elif tag.startswith('V'):\n",
        "        return wordnet.VERB\n",
        "    elif tag.startswith('N'):\n",
        "        return wordnet.NOUN\n",
        "    elif tag.startswith('R'):\n",
        "        return wordnet.ADV\n",
        "    else:\n",
        "        # As default pos in lemmatization is Noun\n",
        "        return wordnet.NOUN\n",
        "\n",
        "lemmatizer = WordNetLemmatizer()"
      ],
      "metadata": {
        "execution": {
          "iopub.status.busy": "2022-01-29T05:25:29.144625Z",
          "iopub.execute_input": "2022-01-29T05:25:29.144919Z",
          "iopub.status.idle": "2022-01-29T05:25:29.151632Z",
          "shell.execute_reply.started": "2022-01-29T05:25:29.144883Z",
          "shell.execute_reply": "2022-01-29T05:25:29.150680Z"
        },
        "trusted": true,
        "id": "iA6M12_-Y78J"
      },
      "execution_count": null,
      "outputs": []
    },
    {
      "cell_type": "code",
      "source": [
        "#cleaning the data now \n",
        "import nltk\n",
        "nltk.download('stopwords')\n",
        "regex = [\n",
        "    r'<[^>]+>', #HTML tags\n",
        "    r'@(\\w+)', # @-mentions\n",
        "    r\"#(\\w+)\", # hashtags\n",
        "    r'http[s]?://(?:[a-z]|[0-9]|[$-_@.&+]|[!*\\(\\),]|(?:%[0-9a-f][0-9a-f]))+', # URLs\n",
        "    r'[^0-9a-z #+_\\\\r\\\\n\\\\t]', #BAD SYMBOLS\n",
        "]\n",
        "\n",
        "REPLACE_URLS = re.compile(r'http[s]?://(?:[a-z]|[0-9]|[$-_@.&+]|[!*\\(\\),]|(?:%[0-9a-f][0-9a-f]))+')\n",
        "REPLACE_HASH = re.compile(r'#(\\w+)')\n",
        "REPLACE_AT = re.compile(r'@(\\w+)')\n",
        "REPLACE_HTML_TAGS = re.compile(r'<[^>]+>')\n",
        "#REPLACE_DIGITS = re.compile(r'\\d+')\n",
        "#REPLACE_BY = re.compile(r\"[/(){}\\[\\]\\|,;.:?\\-\\'\\\"$]\")\n",
        "REPLACE_BY = re.compile(r\"[^a-z0-9\\-]\")\n",
        "\n",
        "STOPWORDS = set(stopwords.words('english'))\n",
        "\n",
        "#tokens_re = re.compile(r'('+'|'.join(regex)+')', re.VERBOSE | re.IGNORECASE)\n",
        "\n",
        "# sentences = [] #for Word2Vec model\n",
        "def clean_text(text):\n",
        "    text = text.lower()\n",
        "    text = REPLACE_HTML_TAGS.sub(' ', text)\n",
        "    text = REPLACE_URLS.sub('', text)\n",
        "    text = REPLACE_HASH.sub('', text)\n",
        "    text = REPLACE_AT.sub('', text)\n",
        "    #text = REPLACE_DIGITS.sub(' ', text)\n",
        "    text = REPLACE_BY.sub(' ', text)\n",
        "    \n",
        "    \n",
        "    text = \" \".join(lemmatizer.lemmatize(word.strip(), get_pos_tag(pos_tag([word.strip()])[0][1])) \n",
        "               for word in text.split() if word not in STOPWORDS and len(word)>3)\n",
        "    \n",
        "    #sentences.append(text.split())\n",
        "    return text"
      ],
      "metadata": {
        "execution": {
          "iopub.status.busy": "2022-01-29T05:25:29.831072Z",
          "iopub.execute_input": "2022-01-29T05:25:29.831768Z",
          "iopub.status.idle": "2022-01-29T05:25:29.844629Z",
          "shell.execute_reply.started": "2022-01-29T05:25:29.831727Z",
          "shell.execute_reply": "2022-01-29T05:25:29.843834Z"
        },
        "trusted": true,
        "colab": {
          "base_uri": "https://localhost:8080/"
        },
        "id": "XpeT8VtgY78J",
        "outputId": "8a61bbce-4a54-43f9-ee1f-e0de4daec242"
      },
      "execution_count": null,
      "outputs": [
        {
          "output_type": "stream",
          "name": "stdout",
          "text": [
            "[nltk_data] Downloading package stopwords to /root/nltk_data...\n",
            "[nltk_data]   Unzipping corpora/stopwords.zip.\n"
          ]
        }
      ]
    },
    {
      "cell_type": "code",
      "source": [
        "#importing the nltk classes and testing get_pos_tag function\n",
        "nltk.download('averaged_perceptron_tagger')\n",
        "nltk.download('wordnet')\n",
        "get_pos_tag(pos_tag(['playing'.strip()])[0][1])"
      ],
      "metadata": {
        "execution": {
          "iopub.status.busy": "2022-01-29T05:25:30.642371Z",
          "iopub.execute_input": "2022-01-29T05:25:30.642672Z",
          "iopub.status.idle": "2022-01-29T05:25:30.651487Z",
          "shell.execute_reply.started": "2022-01-29T05:25:30.642639Z",
          "shell.execute_reply": "2022-01-29T05:25:30.650815Z"
        },
        "trusted": true,
        "colab": {
          "base_uri": "https://localhost:8080/",
          "height": 122
        },
        "id": "VNh9oq5fY78K",
        "outputId": "ad9146a6-7925-4336-ced7-4b87002e1ce1"
      },
      "execution_count": null,
      "outputs": [
        {
          "output_type": "stream",
          "name": "stdout",
          "text": [
            "[nltk_data] Downloading package averaged_perceptron_tagger to\n",
            "[nltk_data]     /root/nltk_data...\n",
            "[nltk_data]   Unzipping taggers/averaged_perceptron_tagger.zip.\n",
            "[nltk_data] Downloading package wordnet to /root/nltk_data...\n",
            "[nltk_data]   Unzipping corpora/wordnet.zip.\n"
          ]
        },
        {
          "output_type": "execute_result",
          "data": {
            "application/vnd.google.colaboratory.intrinsic+json": {
              "type": "string"
            },
            "text/plain": [
              "'v'"
            ]
          },
          "metadata": {},
          "execution_count": 28
        }
      ]
    },
    {
      "cell_type": "code",
      "source": [
        "nltk.download('averaged_perceptron_tagger')\n",
        "pos_tag(['word'.strip()])"
      ],
      "metadata": {
        "execution": {
          "iopub.status.busy": "2022-01-29T05:25:31.367014Z",
          "iopub.execute_input": "2022-01-29T05:25:31.367449Z",
          "iopub.status.idle": "2022-01-29T05:25:31.376254Z",
          "shell.execute_reply.started": "2022-01-29T05:25:31.367415Z",
          "shell.execute_reply": "2022-01-29T05:25:31.375299Z"
        },
        "trusted": true,
        "colab": {
          "base_uri": "https://localhost:8080/"
        },
        "id": "dj1hgj-eY78L",
        "outputId": "48447c81-b3c2-4af1-ec20-2e3ab79523b2"
      },
      "execution_count": null,
      "outputs": [
        {
          "output_type": "stream",
          "name": "stdout",
          "text": [
            "[nltk_data] Downloading package averaged_perceptron_tagger to\n",
            "[nltk_data]     /root/nltk_data...\n",
            "[nltk_data]   Package averaged_perceptron_tagger is already up-to-\n",
            "[nltk_data]       date!\n"
          ]
        },
        {
          "output_type": "execute_result",
          "data": {
            "text/plain": [
              "[('word', 'NN')]"
            ]
          },
          "metadata": {},
          "execution_count": 29
        }
      ]
    },
    {
      "cell_type": "code",
      "source": [
        "lemmatizer.lemmatize('playing'.strip(), get_pos_tag(pos_tag(['playing'.strip()])[0][1]))"
      ],
      "metadata": {
        "execution": {
          "iopub.status.busy": "2022-01-29T05:25:32.143722Z",
          "iopub.execute_input": "2022-01-29T05:25:32.144122Z",
          "iopub.status.idle": "2022-01-29T05:25:32.151087Z",
          "shell.execute_reply.started": "2022-01-29T05:25:32.144090Z",
          "shell.execute_reply": "2022-01-29T05:25:32.150359Z"
        },
        "trusted": true,
        "colab": {
          "base_uri": "https://localhost:8080/",
          "height": 35
        },
        "id": "hIvxQlQ0Y78Q",
        "outputId": "de962085-d228-4c83-972f-b5e242cf7a4b"
      },
      "execution_count": null,
      "outputs": [
        {
          "output_type": "execute_result",
          "data": {
            "application/vnd.google.colaboratory.intrinsic+json": {
              "type": "string"
            },
            "text/plain": [
              "'play'"
            ]
          },
          "metadata": {},
          "execution_count": 30
        }
      ]
    },
    {
      "cell_type": "code",
      "source": [
        "get_pos_tag(pos_tag(['playing'.strip()])[0][1])"
      ],
      "metadata": {
        "execution": {
          "iopub.status.busy": "2022-01-29T05:25:32.799726Z",
          "iopub.execute_input": "2022-01-29T05:25:32.799999Z",
          "iopub.status.idle": "2022-01-29T05:25:32.806892Z",
          "shell.execute_reply.started": "2022-01-29T05:25:32.799971Z",
          "shell.execute_reply": "2022-01-29T05:25:32.806036Z"
        },
        "trusted": true,
        "colab": {
          "base_uri": "https://localhost:8080/",
          "height": 35
        },
        "id": "vPgneFjkY78R",
        "outputId": "30aa3029-6a68-4f92-f91a-43ddefb4e2e2"
      },
      "execution_count": null,
      "outputs": [
        {
          "output_type": "execute_result",
          "data": {
            "application/vnd.google.colaboratory.intrinsic+json": {
              "type": "string"
            },
            "text/plain": [
              "'v'"
            ]
          },
          "metadata": {},
          "execution_count": 31
        }
      ]
    },
    {
      "cell_type": "code",
      "source": [
        "lemmatizer.lemmatize('playable'.strip(),'v' )"
      ],
      "metadata": {
        "execution": {
          "iopub.status.busy": "2022-01-29T05:25:33.474285Z",
          "iopub.execute_input": "2022-01-29T05:25:33.474570Z",
          "iopub.status.idle": "2022-01-29T05:25:33.480501Z",
          "shell.execute_reply.started": "2022-01-29T05:25:33.474540Z",
          "shell.execute_reply": "2022-01-29T05:25:33.479594Z"
        },
        "trusted": true,
        "colab": {
          "base_uri": "https://localhost:8080/",
          "height": 35
        },
        "id": "C-VnZvMpY78T",
        "outputId": "d6ae04aa-102d-4838-943e-30057affacfd"
      },
      "execution_count": null,
      "outputs": [
        {
          "output_type": "execute_result",
          "data": {
            "application/vnd.google.colaboratory.intrinsic+json": {
              "type": "string"
            },
            "text/plain": [
              "'playable'"
            ]
          },
          "metadata": {},
          "execution_count": 32
        }
      ]
    },
    {
      "cell_type": "code",
      "source": [
        "#applying the clean_text function to train_data\n",
        "\n",
        "train_data['q1'] = train_data['question1'].apply(clean_text)\n",
        "train_data['q2'] = train_data['question2'].apply(clean_text)"
      ],
      "metadata": {
        "execution": {
          "iopub.status.busy": "2022-01-29T05:25:34.122223Z",
          "iopub.execute_input": "2022-01-29T05:25:34.122494Z",
          "iopub.status.idle": "2022-01-29T05:26:26.270082Z",
          "shell.execute_reply.started": "2022-01-29T05:25:34.122464Z",
          "shell.execute_reply": "2022-01-29T05:26:26.269361Z"
        },
        "trusted": true,
        "id": "yqYejQoNY78U"
      },
      "execution_count": null,
      "outputs": []
    },
    {
      "cell_type": "code",
      "source": [
        "train_data.head(10)"
      ],
      "metadata": {
        "execution": {
          "iopub.status.busy": "2022-01-29T05:26:26.271701Z",
          "iopub.execute_input": "2022-01-29T05:26:26.272493Z",
          "iopub.status.idle": "2022-01-29T05:26:26.285380Z",
          "shell.execute_reply.started": "2022-01-29T05:26:26.272444Z",
          "shell.execute_reply": "2022-01-29T05:26:26.284585Z"
        },
        "trusted": true,
        "colab": {
          "base_uri": "https://localhost:8080/",
          "height": 546
        },
        "id": "VCnZAPzhY78W",
        "outputId": "84e479c0-a09a-440f-ff5f-73fc767afc6b"
      },
      "execution_count": null,
      "outputs": [
        {
          "output_type": "execute_result",
          "data": {
            "text/html": [
              "\n",
              "  <div id=\"df-eed0b2ce-8e1f-4e0b-b199-ba75947fb7d1\">\n",
              "    <div class=\"colab-df-container\">\n",
              "      <div>\n",
              "<style scoped>\n",
              "    .dataframe tbody tr th:only-of-type {\n",
              "        vertical-align: middle;\n",
              "    }\n",
              "\n",
              "    .dataframe tbody tr th {\n",
              "        vertical-align: top;\n",
              "    }\n",
              "\n",
              "    .dataframe thead th {\n",
              "        text-align: right;\n",
              "    }\n",
              "</style>\n",
              "<table border=\"1\" class=\"dataframe\">\n",
              "  <thead>\n",
              "    <tr style=\"text-align: right;\">\n",
              "      <th></th>\n",
              "      <th>question1</th>\n",
              "      <th>question2</th>\n",
              "      <th>is_duplicate</th>\n",
              "      <th>q1</th>\n",
              "      <th>q2</th>\n",
              "    </tr>\n",
              "  </thead>\n",
              "  <tbody>\n",
              "    <tr>\n",
              "      <th>0</th>\n",
              "      <td>How do I fix an iPhone 4 camera?</td>\n",
              "      <td>How do you fix an iPhone camera that doesn't o...</td>\n",
              "      <td>0</td>\n",
              "      <td>iphone camera</td>\n",
              "      <td>iphone camera open</td>\n",
              "    </tr>\n",
              "    <tr>\n",
              "      <th>1</th>\n",
              "      <td>Why is there political instability in Nigeria?</td>\n",
              "      <td>What are the causes for political instability ...</td>\n",
              "      <td>1</td>\n",
              "      <td>political instability nigeria</td>\n",
              "      <td>cause political instability nigeria</td>\n",
              "    </tr>\n",
              "    <tr>\n",
              "      <th>2</th>\n",
              "      <td>How can I delete my Instagram account when I f...</td>\n",
              "      <td>If I forgot both my username and password of m...</td>\n",
              "      <td>0</td>\n",
              "      <td>delete instagram account forgot password email</td>\n",
              "      <td>forgot username password instagram account del...</td>\n",
              "    </tr>\n",
              "    <tr>\n",
              "      <th>3</th>\n",
              "      <td>What is the meaning of automation?</td>\n",
              "      <td>What is mean by automation?</td>\n",
              "      <td>1</td>\n",
              "      <td>meaning automation</td>\n",
              "      <td>mean automation</td>\n",
              "    </tr>\n",
              "    <tr>\n",
              "      <th>4</th>\n",
              "      <td>How do I get rid of electoral college?</td>\n",
              "      <td>How can we get rid of the electoral college?</td>\n",
              "      <td>1</td>\n",
              "      <td>electoral college</td>\n",
              "      <td>electoral college</td>\n",
              "    </tr>\n",
              "    <tr>\n",
              "      <th>5</th>\n",
              "      <td>What are the best artificial intelligence tuto...</td>\n",
              "      <td>How does it feel when you reach the age at whi...</td>\n",
              "      <td>0</td>\n",
              "      <td>best artificial intelligence tutorial beginner...</td>\n",
              "      <td>feel reach father die</td>\n",
              "    </tr>\n",
              "    <tr>\n",
              "      <th>6</th>\n",
              "      <td>Did lead intoxication cause the fall of Roman ...</td>\n",
              "      <td>Did lead poisoning cause the fall of the Roman...</td>\n",
              "      <td>1</td>\n",
              "      <td>lead intoxication cause fall roman empire</td>\n",
              "      <td>lead poison cause fall roman empire</td>\n",
              "    </tr>\n",
              "    <tr>\n",
              "      <th>7</th>\n",
              "      <td>Why do people trust Quora?</td>\n",
              "      <td>Should I trust answers on Quora?</td>\n",
              "      <td>0</td>\n",
              "      <td>people trust quora</td>\n",
              "      <td>trust answer quora</td>\n",
              "    </tr>\n",
              "    <tr>\n",
              "      <th>8</th>\n",
              "      <td>Did you make your first million$ on your own o...</td>\n",
              "      <td>Did you depend on a college degree to find suc...</td>\n",
              "      <td>0</td>\n",
              "      <td>make first million help</td>\n",
              "      <td>depend college degree find success use resource</td>\n",
              "    </tr>\n",
              "    <tr>\n",
              "      <th>9</th>\n",
              "      <td>What are good gifts for a foreign visitor to b...</td>\n",
              "      <td>What are good gifts for a foreign visitor to b...</td>\n",
              "      <td>0</td>\n",
              "      <td>good gift foreign visitor bring invite someone...</td>\n",
              "      <td>good gift foreign visitor bring invite someone...</td>\n",
              "    </tr>\n",
              "  </tbody>\n",
              "</table>\n",
              "</div>\n",
              "      <button class=\"colab-df-convert\" onclick=\"convertToInteractive('df-eed0b2ce-8e1f-4e0b-b199-ba75947fb7d1')\"\n",
              "              title=\"Convert this dataframe to an interactive table.\"\n",
              "              style=\"display:none;\">\n",
              "        \n",
              "  <svg xmlns=\"http://www.w3.org/2000/svg\" height=\"24px\"viewBox=\"0 0 24 24\"\n",
              "       width=\"24px\">\n",
              "    <path d=\"M0 0h24v24H0V0z\" fill=\"none\"/>\n",
              "    <path d=\"M18.56 5.44l.94 2.06.94-2.06 2.06-.94-2.06-.94-.94-2.06-.94 2.06-2.06.94zm-11 1L8.5 8.5l.94-2.06 2.06-.94-2.06-.94L8.5 2.5l-.94 2.06-2.06.94zm10 10l.94 2.06.94-2.06 2.06-.94-2.06-.94-.94-2.06-.94 2.06-2.06.94z\"/><path d=\"M17.41 7.96l-1.37-1.37c-.4-.4-.92-.59-1.43-.59-.52 0-1.04.2-1.43.59L10.3 9.45l-7.72 7.72c-.78.78-.78 2.05 0 2.83L4 21.41c.39.39.9.59 1.41.59.51 0 1.02-.2 1.41-.59l7.78-7.78 2.81-2.81c.8-.78.8-2.07 0-2.86zM5.41 20L4 18.59l7.72-7.72 1.47 1.35L5.41 20z\"/>\n",
              "  </svg>\n",
              "      </button>\n",
              "      \n",
              "  <style>\n",
              "    .colab-df-container {\n",
              "      display:flex;\n",
              "      flex-wrap:wrap;\n",
              "      gap: 12px;\n",
              "    }\n",
              "\n",
              "    .colab-df-convert {\n",
              "      background-color: #E8F0FE;\n",
              "      border: none;\n",
              "      border-radius: 50%;\n",
              "      cursor: pointer;\n",
              "      display: none;\n",
              "      fill: #1967D2;\n",
              "      height: 32px;\n",
              "      padding: 0 0 0 0;\n",
              "      width: 32px;\n",
              "    }\n",
              "\n",
              "    .colab-df-convert:hover {\n",
              "      background-color: #E2EBFA;\n",
              "      box-shadow: 0px 1px 2px rgba(60, 64, 67, 0.3), 0px 1px 3px 1px rgba(60, 64, 67, 0.15);\n",
              "      fill: #174EA6;\n",
              "    }\n",
              "\n",
              "    [theme=dark] .colab-df-convert {\n",
              "      background-color: #3B4455;\n",
              "      fill: #D2E3FC;\n",
              "    }\n",
              "\n",
              "    [theme=dark] .colab-df-convert:hover {\n",
              "      background-color: #434B5C;\n",
              "      box-shadow: 0px 1px 3px 1px rgba(0, 0, 0, 0.15);\n",
              "      filter: drop-shadow(0px 1px 2px rgba(0, 0, 0, 0.3));\n",
              "      fill: #FFFFFF;\n",
              "    }\n",
              "  </style>\n",
              "\n",
              "      <script>\n",
              "        const buttonEl =\n",
              "          document.querySelector('#df-eed0b2ce-8e1f-4e0b-b199-ba75947fb7d1 button.colab-df-convert');\n",
              "        buttonEl.style.display =\n",
              "          google.colab.kernel.accessAllowed ? 'block' : 'none';\n",
              "\n",
              "        async function convertToInteractive(key) {\n",
              "          const element = document.querySelector('#df-eed0b2ce-8e1f-4e0b-b199-ba75947fb7d1');\n",
              "          const dataTable =\n",
              "            await google.colab.kernel.invokeFunction('convertToInteractive',\n",
              "                                                     [key], {});\n",
              "          if (!dataTable) return;\n",
              "\n",
              "          const docLinkHtml = 'Like what you see? Visit the ' +\n",
              "            '<a target=\"_blank\" href=https://colab.research.google.com/notebooks/data_table.ipynb>data table notebook</a>'\n",
              "            + ' to learn more about interactive tables.';\n",
              "          element.innerHTML = '';\n",
              "          dataTable['output_type'] = 'display_data';\n",
              "          await google.colab.output.renderOutput(dataTable, element);\n",
              "          const docLink = document.createElement('div');\n",
              "          docLink.innerHTML = docLinkHtml;\n",
              "          element.appendChild(docLink);\n",
              "        }\n",
              "      </script>\n",
              "    </div>\n",
              "  </div>\n",
              "  "
            ],
            "text/plain": [
              "                                           question1  ...                                                 q2\n",
              "0                   How do I fix an iPhone 4 camera?  ...                                 iphone camera open\n",
              "1     Why is there political instability in Nigeria?  ...                cause political instability nigeria\n",
              "2  How can I delete my Instagram account when I f...  ...  forgot username password instagram account del...\n",
              "3                 What is the meaning of automation?  ...                                    mean automation\n",
              "4             How do I get rid of electoral college?  ...                                  electoral college\n",
              "5  What are the best artificial intelligence tuto...  ...                              feel reach father die\n",
              "6  Did lead intoxication cause the fall of Roman ...  ...                lead poison cause fall roman empire\n",
              "7                         Why do people trust Quora?  ...                                 trust answer quora\n",
              "8  Did you make your first million$ on your own o...  ...    depend college degree find success use resource\n",
              "9  What are good gifts for a foreign visitor to b...  ...  good gift foreign visitor bring invite someone...\n",
              "\n",
              "[10 rows x 5 columns]"
            ]
          },
          "metadata": {},
          "execution_count": 34
        }
      ]
    },
    {
      "cell_type": "code",
      "source": [
        "#applying the clean_text function to train_data\n",
        "\n",
        "test_data['q1'] = test_data['question1'].apply(clean_text)\n",
        "test_data['q2'] = test_data['question2'].apply(clean_text)\n",
        "test_data.head(10)"
      ],
      "metadata": {
        "execution": {
          "iopub.status.busy": "2022-01-29T05:26:26.287005Z",
          "iopub.execute_input": "2022-01-29T05:26:26.287246Z",
          "iopub.status.idle": "2022-01-29T05:27:08.930238Z",
          "shell.execute_reply.started": "2022-01-29T05:26:26.287218Z",
          "shell.execute_reply": "2022-01-29T05:27:08.929320Z"
        },
        "trusted": true,
        "colab": {
          "base_uri": "https://localhost:8080/",
          "height": 546
        },
        "id": "Kh35tI2DY78Y",
        "outputId": "cc411367-ff2e-471e-e126-3376bb6a17ae"
      },
      "execution_count": null,
      "outputs": [
        {
          "output_type": "execute_result",
          "data": {
            "text/html": [
              "\n",
              "  <div id=\"df-0bf21e74-c080-49c3-b643-1ed3a66e6050\">\n",
              "    <div class=\"colab-df-container\">\n",
              "      <div>\n",
              "<style scoped>\n",
              "    .dataframe tbody tr th:only-of-type {\n",
              "        vertical-align: middle;\n",
              "    }\n",
              "\n",
              "    .dataframe tbody tr th {\n",
              "        vertical-align: top;\n",
              "    }\n",
              "\n",
              "    .dataframe thead th {\n",
              "        text-align: right;\n",
              "    }\n",
              "</style>\n",
              "<table border=\"1\" class=\"dataframe\">\n",
              "  <thead>\n",
              "    <tr style=\"text-align: right;\">\n",
              "      <th></th>\n",
              "      <th>question1</th>\n",
              "      <th>question2</th>\n",
              "      <th>q1</th>\n",
              "      <th>q2</th>\n",
              "    </tr>\n",
              "  </thead>\n",
              "  <tbody>\n",
              "    <tr>\n",
              "      <th>0</th>\n",
              "      <td>What have you social security number online?</td>\n",
              "      <td>How can mentor find out what my social securit...</td>\n",
              "      <td>social security number online</td>\n",
              "      <td>mentor find social security number online free</td>\n",
              "    </tr>\n",
              "    <tr>\n",
              "      <th>1</th>\n",
              "      <td>What are the job opportunities in updated indi...</td>\n",
              "      <td>What are the job opportunities anxieties for M...</td>\n",
              "      <td>opportunity update india</td>\n",
              "      <td>opportunity anxiety marketing india</td>\n",
              "    </tr>\n",
              "    <tr>\n",
              "      <th>2</th>\n",
              "      <td>What motivates Vladimir?</td>\n",
              "      <td>What do you people think t of Vladimir Putin?</td>\n",
              "      <td>motivates vladimir</td>\n",
              "      <td>people think vladimir putin</td>\n",
              "    </tr>\n",
              "    <tr>\n",
              "      <th>3</th>\n",
              "      <td>What is the difference between song and MP3?</td>\n",
              "      <td>What is the difference between 128 kbps and 32...</td>\n",
              "      <td>difference song</td>\n",
              "      <td>difference kbps kbps file</td>\n",
              "    </tr>\n",
              "    <tr>\n",
              "      <th>4</th>\n",
              "      <td>What dear it like to be smart?</td>\n",
              "      <td>What is it like to english smart yet naive?</td>\n",
              "      <td>dear like smart</td>\n",
              "      <td>like english smart naive</td>\n",
              "    </tr>\n",
              "    <tr>\n",
              "      <th>5</th>\n",
              "      <td>Which are the manga elie episodes in 'Naruto S...</td>\n",
              "      <td>When is the release of Naruto president Episod...</td>\n",
              "      <td>manga elie episode naruto shippuden anime</td>\n",
              "      <td>release naruto president episode english site</td>\n",
              "    </tr>\n",
              "    <tr>\n",
              "      <th>6</th>\n",
              "      <td>What does \"all I want for my birthday is a big...</td>\n",
              "      <td>How do I do Pandora better than Pandora? What ...</td>\n",
              "      <td>want birthday mean</td>\n",
              "      <td>pandora well pandora want people match music b...</td>\n",
              "    </tr>\n",
              "    <tr>\n",
              "      <th>7</th>\n",
              "      <td>How much would it cost to live find in Chiang ...</td>\n",
              "      <td>What are good strategies to finding ceiba apar...</td>\n",
              "      <td>much would cost live find chiang thailand month</td>\n",
              "      <td>good strategy find ceiba apartment baht chiang...</td>\n",
              "    </tr>\n",
              "    <tr>\n",
              "      <th>8</th>\n",
              "      <td>What is men more attractive than Asian men?</td>\n",
              "      <td>Why are white women not interested in dating A...</td>\n",
              "      <td>attractive asian</td>\n",
              "      <td>white woman interested date asian attractive</td>\n",
              "    </tr>\n",
              "    <tr>\n",
              "      <th>9</th>\n",
              "      <td>I'm a first year in computer science engineeri...</td>\n",
              "      <td>Which laptop should few I buy as a Computer Sc...</td>\n",
              "      <td>first year computer science engineering studen...</td>\n",
              "      <td>laptop computer science programmer</td>\n",
              "    </tr>\n",
              "  </tbody>\n",
              "</table>\n",
              "</div>\n",
              "      <button class=\"colab-df-convert\" onclick=\"convertToInteractive('df-0bf21e74-c080-49c3-b643-1ed3a66e6050')\"\n",
              "              title=\"Convert this dataframe to an interactive table.\"\n",
              "              style=\"display:none;\">\n",
              "        \n",
              "  <svg xmlns=\"http://www.w3.org/2000/svg\" height=\"24px\"viewBox=\"0 0 24 24\"\n",
              "       width=\"24px\">\n",
              "    <path d=\"M0 0h24v24H0V0z\" fill=\"none\"/>\n",
              "    <path d=\"M18.56 5.44l.94 2.06.94-2.06 2.06-.94-2.06-.94-.94-2.06-.94 2.06-2.06.94zm-11 1L8.5 8.5l.94-2.06 2.06-.94-2.06-.94L8.5 2.5l-.94 2.06-2.06.94zm10 10l.94 2.06.94-2.06 2.06-.94-2.06-.94-.94-2.06-.94 2.06-2.06.94z\"/><path d=\"M17.41 7.96l-1.37-1.37c-.4-.4-.92-.59-1.43-.59-.52 0-1.04.2-1.43.59L10.3 9.45l-7.72 7.72c-.78.78-.78 2.05 0 2.83L4 21.41c.39.39.9.59 1.41.59.51 0 1.02-.2 1.41-.59l7.78-7.78 2.81-2.81c.8-.78.8-2.07 0-2.86zM5.41 20L4 18.59l7.72-7.72 1.47 1.35L5.41 20z\"/>\n",
              "  </svg>\n",
              "      </button>\n",
              "      \n",
              "  <style>\n",
              "    .colab-df-container {\n",
              "      display:flex;\n",
              "      flex-wrap:wrap;\n",
              "      gap: 12px;\n",
              "    }\n",
              "\n",
              "    .colab-df-convert {\n",
              "      background-color: #E8F0FE;\n",
              "      border: none;\n",
              "      border-radius: 50%;\n",
              "      cursor: pointer;\n",
              "      display: none;\n",
              "      fill: #1967D2;\n",
              "      height: 32px;\n",
              "      padding: 0 0 0 0;\n",
              "      width: 32px;\n",
              "    }\n",
              "\n",
              "    .colab-df-convert:hover {\n",
              "      background-color: #E2EBFA;\n",
              "      box-shadow: 0px 1px 2px rgba(60, 64, 67, 0.3), 0px 1px 3px 1px rgba(60, 64, 67, 0.15);\n",
              "      fill: #174EA6;\n",
              "    }\n",
              "\n",
              "    [theme=dark] .colab-df-convert {\n",
              "      background-color: #3B4455;\n",
              "      fill: #D2E3FC;\n",
              "    }\n",
              "\n",
              "    [theme=dark] .colab-df-convert:hover {\n",
              "      background-color: #434B5C;\n",
              "      box-shadow: 0px 1px 3px 1px rgba(0, 0, 0, 0.15);\n",
              "      filter: drop-shadow(0px 1px 2px rgba(0, 0, 0, 0.3));\n",
              "      fill: #FFFFFF;\n",
              "    }\n",
              "  </style>\n",
              "\n",
              "      <script>\n",
              "        const buttonEl =\n",
              "          document.querySelector('#df-0bf21e74-c080-49c3-b643-1ed3a66e6050 button.colab-df-convert');\n",
              "        buttonEl.style.display =\n",
              "          google.colab.kernel.accessAllowed ? 'block' : 'none';\n",
              "\n",
              "        async function convertToInteractive(key) {\n",
              "          const element = document.querySelector('#df-0bf21e74-c080-49c3-b643-1ed3a66e6050');\n",
              "          const dataTable =\n",
              "            await google.colab.kernel.invokeFunction('convertToInteractive',\n",
              "                                                     [key], {});\n",
              "          if (!dataTable) return;\n",
              "\n",
              "          const docLinkHtml = 'Like what you see? Visit the ' +\n",
              "            '<a target=\"_blank\" href=https://colab.research.google.com/notebooks/data_table.ipynb>data table notebook</a>'\n",
              "            + ' to learn more about interactive tables.';\n",
              "          element.innerHTML = '';\n",
              "          dataTable['output_type'] = 'display_data';\n",
              "          await google.colab.output.renderOutput(dataTable, element);\n",
              "          const docLink = document.createElement('div');\n",
              "          docLink.innerHTML = docLinkHtml;\n",
              "          element.appendChild(docLink);\n",
              "        }\n",
              "      </script>\n",
              "    </div>\n",
              "  </div>\n",
              "  "
            ],
            "text/plain": [
              "                                           question1  ...                                                 q2\n",
              "0       What have you social security number online?  ...     mentor find social security number online free\n",
              "1  What are the job opportunities in updated indi...  ...                opportunity anxiety marketing india\n",
              "2                           What motivates Vladimir?  ...                        people think vladimir putin\n",
              "3       What is the difference between song and MP3?  ...                          difference kbps kbps file\n",
              "4                     What dear it like to be smart?  ...                           like english smart naive\n",
              "5  Which are the manga elie episodes in 'Naruto S...  ...      release naruto president episode english site\n",
              "6  What does \"all I want for my birthday is a big...  ...  pandora well pandora want people match music b...\n",
              "7  How much would it cost to live find in Chiang ...  ...  good strategy find ceiba apartment baht chiang...\n",
              "8        What is men more attractive than Asian men?  ...       white woman interested date asian attractive\n",
              "9  I'm a first year in computer science engineeri...  ...                 laptop computer science programmer\n",
              "\n",
              "[10 rows x 4 columns]"
            ]
          },
          "metadata": {},
          "execution_count": 35
        }
      ]
    },
    {
      "cell_type": "code",
      "source": [
        "#max len of clean data\n",
        "\n",
        "max_len_q1 = np.max(train_data[\"q1\"].apply(lambda x: len(x.split())))\n",
        "max_len_q2 = np.max(train_data[\"q2\"].apply(lambda x: len(x.split())))\n",
        "max_len_q1, max_len_q2"
      ],
      "metadata": {
        "execution": {
          "iopub.status.busy": "2022-01-29T05:27:08.932916Z",
          "iopub.execute_input": "2022-01-29T05:27:08.933497Z",
          "iopub.status.idle": "2022-01-29T05:27:09.014009Z",
          "shell.execute_reply.started": "2022-01-29T05:27:08.933455Z",
          "shell.execute_reply": "2022-01-29T05:27:09.013204Z"
        },
        "trusted": true,
        "colab": {
          "base_uri": "https://localhost:8080/"
        },
        "id": "6lf5gc8kY78a",
        "outputId": "7d0bf2c5-1105-435e-ac18-eb8423214b03"
      },
      "execution_count": null,
      "outputs": [
        {
          "output_type": "execute_result",
          "data": {
            "text/plain": [
              "(27, 90)"
            ]
          },
          "metadata": {},
          "execution_count": 36
        }
      ]
    },
    {
      "cell_type": "code",
      "source": [
        "MAX_NB_WORDS = 200000\n",
        "#initialzing the Tokenizer\n",
        "tokenizer = Tokenizer(num_words = MAX_NB_WORDS)\n",
        "\n",
        "tokenizer.fit_on_texts(list(train_data['q1'].values.astype(str))+list(train_data['q2'].values.astype(str)))\n",
        "\n",
        "# converting the text to sequences and add padding\n",
        "X_train_q1 = tokenizer.texts_to_sequences(train_data['q1'].values.astype(str))\n",
        "X_train_q1 = pad_sequences(X_train_q1, maxlen = 30, padding = 'post')\n",
        "\n",
        "X_train_q2 = tokenizer.texts_to_sequences(train_data['q2'].values.astype(str))\n",
        "X_train_q2 = pad_sequences(X_train_q2, maxlen = 30, padding = 'post')"
      ],
      "metadata": {
        "execution": {
          "iopub.status.busy": "2022-01-29T05:27:09.015665Z",
          "iopub.execute_input": "2022-01-29T05:27:09.016465Z",
          "iopub.status.idle": "2022-01-29T05:27:11.216696Z",
          "shell.execute_reply.started": "2022-01-29T05:27:09.016416Z",
          "shell.execute_reply": "2022-01-29T05:27:11.215820Z"
        },
        "trusted": true,
        "id": "xdHTscTYY78b"
      },
      "execution_count": null,
      "outputs": []
    },
    {
      "cell_type": "code",
      "source": [
        "#repeating the above process for test_data\n",
        "\n",
        "X_test_q1 = tokenizer.texts_to_sequences(test_data['q1'].ravel())\n",
        "X_test_q1 = pad_sequences(X_test_q1,maxlen = 30, padding='post')\n",
        "\n",
        "X_test_q2 = tokenizer.texts_to_sequences(test_data['q2'].astype(str).ravel())\n",
        "X_test_q2 = pad_sequences(X_test_q2, maxlen = 30, padding='post')"
      ],
      "metadata": {
        "execution": {
          "iopub.status.busy": "2022-01-29T05:27:11.218138Z",
          "iopub.execute_input": "2022-01-29T05:27:11.218498Z",
          "iopub.status.idle": "2022-01-29T05:27:12.000118Z",
          "shell.execute_reply.started": "2022-01-29T05:27:11.218438Z",
          "shell.execute_reply": "2022-01-29T05:27:11.999254Z"
        },
        "trusted": true,
        "id": "mRzcbN-iY78b"
      },
      "execution_count": null,
      "outputs": []
    },
    {
      "cell_type": "code",
      "source": [
        "y = train_data['is_duplicate']"
      ],
      "metadata": {
        "execution": {
          "iopub.status.busy": "2022-01-29T05:27:12.001437Z",
          "iopub.execute_input": "2022-01-29T05:27:12.001709Z",
          "iopub.status.idle": "2022-01-29T05:27:12.005535Z",
          "shell.execute_reply.started": "2022-01-29T05:27:12.001677Z",
          "shell.execute_reply": "2022-01-29T05:27:12.004947Z"
        },
        "trusted": true,
        "id": "n8LXesmdY78b"
      },
      "execution_count": null,
      "outputs": []
    },
    {
      "cell_type": "code",
      "source": [
        "vocab_size = len(tokenizer.word_index) + 1"
      ],
      "metadata": {
        "execution": {
          "iopub.status.busy": "2022-01-29T05:27:12.006727Z",
          "iopub.execute_input": "2022-01-29T05:27:12.006969Z",
          "iopub.status.idle": "2022-01-29T05:27:12.018679Z",
          "shell.execute_reply.started": "2022-01-29T05:27:12.006940Z",
          "shell.execute_reply": "2022-01-29T05:27:12.017772Z"
        },
        "trusted": true,
        "id": "GHatmc20Y78c"
      },
      "execution_count": null,
      "outputs": []
    },
    {
      "cell_type": "markdown",
      "source": [
        "#Loading Glove word embedding"
      ],
      "metadata": {
        "id": "mFJlmDYAY78c"
      }
    },
    {
      "cell_type": "markdown",
      "source": [
        "GloVe is an unsupervised learning algorithm for obtaining vector representations for words. Training is performed on aggregated global word-word co-occurrence statistics from a corpus, and the resulting representations showcase interesting linear substructures of the word vector space."
      ],
      "metadata": {
        "id": "MJc914FvvuSm"
      }
    },
    {
      "cell_type": "code",
      "source": [
        "#opeining the glove embedding file \n",
        "\n",
        "embeddings_index = {}\n",
        "glovefile = open('/content/drive/MyDrive/train.csv/glove.6B.200d.txt','r',encoding='utf-8')\n",
        "for line in tqdm(glovefile):\n",
        "    values = line.split(\" \")\n",
        "    word = values[0]\n",
        "    coefs = np.asarray(values[1:], dtype='float32')\n",
        "#     coefs.shape\n",
        "    embeddings_index[word] = coefs\n",
        "glovefile.close()\n",
        "\n",
        "print('Found %s word vectors.' % len(embeddings_index))"
      ],
      "metadata": {
        "execution": {
          "iopub.status.busy": "2022-01-29T05:27:12.019859Z",
          "iopub.execute_input": "2022-01-29T05:27:12.020397Z",
          "iopub.status.idle": "2022-01-29T05:27:37.067782Z",
          "shell.execute_reply.started": "2022-01-29T05:27:12.020367Z",
          "shell.execute_reply": "2022-01-29T05:27:37.066966Z"
        },
        "trusted": true,
        "colab": {
          "base_uri": "https://localhost:8080/"
        },
        "id": "GDJ3GDnyY78q",
        "outputId": "9cbe3e71-549a-4055-b1a0-d307361bb858"
      },
      "execution_count": null,
      "outputs": [
        {
          "output_type": "stream",
          "name": "stderr",
          "text": [
            "400000it [00:29, 13453.34it/s]"
          ]
        },
        {
          "output_type": "stream",
          "name": "stdout",
          "text": [
            "Found 400000 word vectors.\n"
          ]
        },
        {
          "output_type": "stream",
          "name": "stderr",
          "text": [
            "\n"
          ]
        }
      ]
    },
    {
      "cell_type": "code",
      "source": [
        "#creating embedding matrix for the words we have in the dataset\n",
        "embedding_matrix = np.zeros((len(tokenizer.word_index)+1, 200))\n",
        "for words, index in tqdm(tokenizer.word_index.items()):\n",
        "    embedding_vector = embeddings_index.get(word)\n",
        "    if embedding_vector is not None:\n",
        "        embedding_matrix[index] = embedding_vector"
      ],
      "metadata": {
        "execution": {
          "iopub.status.busy": "2022-01-29T05:27:37.070419Z",
          "iopub.execute_input": "2022-01-29T05:27:37.070648Z",
          "iopub.status.idle": "2022-01-29T05:27:37.159758Z",
          "shell.execute_reply.started": "2022-01-29T05:27:37.070619Z",
          "shell.execute_reply": "2022-01-29T05:27:37.157209Z"
        },
        "trusted": true,
        "colab": {
          "base_uri": "https://localhost:8080/"
        },
        "id": "aceUXW8CY78r",
        "outputId": "d513803a-a657-4746-95c6-072d9e350fcc"
      },
      "execution_count": null,
      "outputs": [
        {
          "output_type": "stream",
          "name": "stderr",
          "text": [
            "100%|██████████| 18358/18358 [00:00<00:00, 663293.01it/s]\n"
          ]
        }
      ]
    },
    {
      "cell_type": "code",
      "source": [
        "X_train_q1,X_valid_q1, X_train_q2, X_valid_q2, y_train, y_valid = train_test_split(X_train_q1, X_train_q2, y, test_size=0.20, random_state=12)\n",
        "print(X_train_q1.shape, X_train_q2.shape, y_train.shape)\n",
        "print(X_valid_q1.shape, X_valid_q2.shape, y_valid.shape)"
      ],
      "metadata": {
        "execution": {
          "iopub.status.busy": "2022-01-29T05:27:37.160888Z",
          "iopub.execute_input": "2022-01-29T05:27:37.161204Z",
          "iopub.status.idle": "2022-01-29T05:27:37.176434Z",
          "shell.execute_reply.started": "2022-01-29T05:27:37.161174Z",
          "shell.execute_reply": "2022-01-29T05:27:37.175759Z"
        },
        "trusted": true,
        "colab": {
          "base_uri": "https://localhost:8080/"
        },
        "id": "K2KL2NNvY78r",
        "outputId": "297c724e-2cb8-457b-e9f2-9ae9324fd78c"
      },
      "execution_count": null,
      "outputs": [
        {
          "output_type": "stream",
          "name": "stdout",
          "text": [
            "(23896, 30) (23896, 30) (23896,)\n",
            "(5975, 30) (5975, 30) (5975,)\n"
          ]
        }
      ]
    },
    {
      "cell_type": "code",
      "source": [
        "# Model for Q1\n",
        "\n",
        "model_q1 = Sequential([Embedding(input_dim = vocab_size,output_dim = 200,weights = [embedding_matrix],input_length = 30),\n",
        "                      LSTM(128, activation = 'tanh', return_sequences = True),\n",
        "                      Dropout(0.2),\n",
        "                      LSTM(128, return_sequences = True),\n",
        "                      LSTM(128),\n",
        "                      Dense(60, activation = 'tanh'),\n",
        "                      Dense(2, activation = 'sigmoid')])"
      ],
      "metadata": {
        "execution": {
          "iopub.status.busy": "2022-01-29T05:27:37.177821Z",
          "iopub.execute_input": "2022-01-29T05:27:37.178458Z",
          "iopub.status.idle": "2022-01-29T05:27:37.922572Z",
          "shell.execute_reply.started": "2022-01-29T05:27:37.178424Z",
          "shell.execute_reply": "2022-01-29T05:27:37.921683Z"
        },
        "trusted": true,
        "id": "aBSbgw1DY78s"
      },
      "execution_count": null,
      "outputs": []
    },
    {
      "cell_type": "code",
      "source": [
        "# Model for Q2\n",
        "\n",
        "model_q2 = Sequential([Embedding(input_dim = vocab_size,output_dim = 200,weights = [embedding_matrix],input_length = 30),\n",
        "                      LSTM(128, activation = 'tanh', return_sequences = True),\n",
        "                      Dropout(0.2),\n",
        "                      LSTM(128, return_sequences = True),\n",
        "                      LSTM(128),\n",
        "                      Dense(60, activation = 'tanh'),\n",
        "                      Dense(2, activation = 'sigmoid')])"
      ],
      "metadata": {
        "execution": {
          "iopub.status.busy": "2022-01-29T05:27:37.923785Z",
          "iopub.execute_input": "2022-01-29T05:27:37.924041Z",
          "iopub.status.idle": "2022-01-29T05:27:38.655887Z",
          "shell.execute_reply.started": "2022-01-29T05:27:37.924009Z",
          "shell.execute_reply": "2022-01-29T05:27:38.655051Z"
        },
        "trusted": true,
        "id": "1G_As3D4Y78s"
      },
      "execution_count": null,
      "outputs": []
    },
    {
      "cell_type": "code",
      "source": [
        "# Merging the output of the two models,i.e, model_q1 and model_q2\n",
        "mergedOut = multiply([model_q1.output, model_q2.output])\n",
        "\n",
        "mergedOut = Flatten()(mergedOut)\n",
        "mergedOut = Dense(100, activation = 'relu')(mergedOut)\n",
        "mergedOut = Dropout(0.2)(mergedOut)\n",
        "mergedOut = Dense(50, activation = 'relu')(mergedOut)\n",
        "mergedOut = Dropout(0.2)(mergedOut)\n",
        "mergedOut = Dense(2, activation = 'sigmoid')(mergedOut)"
      ],
      "metadata": {
        "execution": {
          "iopub.status.busy": "2022-01-29T05:27:38.657016Z",
          "iopub.execute_input": "2022-01-29T05:27:38.657256Z",
          "iopub.status.idle": "2022-01-29T05:27:38.694626Z",
          "shell.execute_reply.started": "2022-01-29T05:27:38.657225Z",
          "shell.execute_reply": "2022-01-29T05:27:38.693549Z"
        },
        "trusted": true,
        "id": "A9KyYNkVY78v"
      },
      "execution_count": null,
      "outputs": []
    },
    {
      "cell_type": "code",
      "source": [
        "new_model = tf.keras.Model([model_q1.input, model_q2.input], mergedOut)\n",
        "new_model.compile(optimizer = 'adam', loss = 'sparse_categorical_crossentropy',\n",
        "                 metrics = ['accuracy'])"
      ],
      "metadata": {
        "execution": {
          "iopub.status.busy": "2022-01-29T05:27:38.696513Z",
          "iopub.execute_input": "2022-01-29T05:27:38.696825Z",
          "iopub.status.idle": "2022-01-29T05:27:38.711568Z",
          "shell.execute_reply.started": "2022-01-29T05:27:38.696781Z",
          "shell.execute_reply": "2022-01-29T05:27:38.710580Z"
        },
        "trusted": true,
        "id": "1-hAMzUlY78w"
      },
      "execution_count": null,
      "outputs": []
    },
    {
      "cell_type": "code",
      "source": [
        "new_model = tf.keras.Model([model_q1.input, model_q2.input], mergedOut)\n",
        "new_model.compile(optimizer = 'adam', loss = 'sparse_categorical_crossentropy',\n",
        "                 metrics = ['accuracy'])"
      ],
      "metadata": {
        "execution": {
          "iopub.status.busy": "2022-01-29T05:27:38.712806Z",
          "iopub.execute_input": "2022-01-29T05:27:38.713088Z",
          "iopub.status.idle": "2022-01-29T05:27:38.727843Z",
          "shell.execute_reply.started": "2022-01-29T05:27:38.713059Z",
          "shell.execute_reply": "2022-01-29T05:27:38.726764Z"
        },
        "trusted": true,
        "id": "sqrbQI9wY78x"
      },
      "execution_count": null,
      "outputs": []
    },
    {
      "cell_type": "code",
      "source": [
        "new_model.summary()"
      ],
      "metadata": {
        "execution": {
          "iopub.status.busy": "2022-01-29T05:27:38.729077Z",
          "iopub.execute_input": "2022-01-29T05:27:38.729396Z",
          "iopub.status.idle": "2022-01-29T05:27:38.758956Z",
          "shell.execute_reply.started": "2022-01-29T05:27:38.729362Z",
          "shell.execute_reply": "2022-01-29T05:27:38.758119Z"
        },
        "trusted": true,
        "colab": {
          "base_uri": "https://localhost:8080/"
        },
        "id": "v0DxjmyuY78x",
        "outputId": "5cfe4a98-0b2d-48ec-f55a-3bcf34e21f99"
      },
      "execution_count": null,
      "outputs": [
        {
          "output_type": "stream",
          "name": "stdout",
          "text": [
            "Model: \"model_1\"\n",
            "__________________________________________________________________________________________________\n",
            " Layer (type)                   Output Shape         Param #     Connected to                     \n",
            "==================================================================================================\n",
            " embedding_input (InputLayer)   [(None, 30)]         0           []                               \n",
            "                                                                                                  \n",
            " embedding_1_input (InputLayer)  [(None, 30)]        0           []                               \n",
            "                                                                                                  \n",
            " embedding (Embedding)          (None, 30, 200)      3671800     ['embedding_input[0][0]']        \n",
            "                                                                                                  \n",
            " embedding_1 (Embedding)        (None, 30, 200)      3671800     ['embedding_1_input[0][0]']      \n",
            "                                                                                                  \n",
            " lstm (LSTM)                    (None, 30, 128)      168448      ['embedding[0][0]']              \n",
            "                                                                                                  \n",
            " lstm_3 (LSTM)                  (None, 30, 128)      168448      ['embedding_1[0][0]']            \n",
            "                                                                                                  \n",
            " dropout (Dropout)              (None, 30, 128)      0           ['lstm[0][0]']                   \n",
            "                                                                                                  \n",
            " dropout_1 (Dropout)            (None, 30, 128)      0           ['lstm_3[0][0]']                 \n",
            "                                                                                                  \n",
            " lstm_1 (LSTM)                  (None, 30, 128)      131584      ['dropout[0][0]']                \n",
            "                                                                                                  \n",
            " lstm_4 (LSTM)                  (None, 30, 128)      131584      ['dropout_1[0][0]']              \n",
            "                                                                                                  \n",
            " lstm_2 (LSTM)                  (None, 128)          131584      ['lstm_1[0][0]']                 \n",
            "                                                                                                  \n",
            " lstm_5 (LSTM)                  (None, 128)          131584      ['lstm_4[0][0]']                 \n",
            "                                                                                                  \n",
            " dense (Dense)                  (None, 60)           7740        ['lstm_2[0][0]']                 \n",
            "                                                                                                  \n",
            " dense_2 (Dense)                (None, 60)           7740        ['lstm_5[0][0]']                 \n",
            "                                                                                                  \n",
            " dense_1 (Dense)                (None, 2)            122         ['dense[0][0]']                  \n",
            "                                                                                                  \n",
            " dense_3 (Dense)                (None, 2)            122         ['dense_2[0][0]']                \n",
            "                                                                                                  \n",
            " multiply (Multiply)            (None, 2)            0           ['dense_1[0][0]',                \n",
            "                                                                  'dense_3[0][0]']                \n",
            "                                                                                                  \n",
            " flatten (Flatten)              (None, 2)            0           ['multiply[0][0]']               \n",
            "                                                                                                  \n",
            " dense_4 (Dense)                (None, 100)          300         ['flatten[0][0]']                \n",
            "                                                                                                  \n",
            " dropout_2 (Dropout)            (None, 100)          0           ['dense_4[0][0]']                \n",
            "                                                                                                  \n",
            " dense_5 (Dense)                (None, 50)           5050        ['dropout_2[0][0]']              \n",
            "                                                                                                  \n",
            " dropout_3 (Dropout)            (None, 50)           0           ['dense_5[0][0]']                \n",
            "                                                                                                  \n",
            " dense_6 (Dense)                (None, 2)            102         ['dropout_3[0][0]']              \n",
            "                                                                                                  \n",
            "==================================================================================================\n",
            "Total params: 8,228,008\n",
            "Trainable params: 8,228,008\n",
            "Non-trainable params: 0\n",
            "__________________________________________________________________________________________________\n"
          ]
        }
      ]
    },
    {
      "cell_type": "code",
      "source": [
        "history = new_model.fit([X_train_q1,X_train_q2],y_train, batch_size = 2000, epochs = 20, validation_data = ([X_valid_q1,X_valid_q2],y_valid))"
      ],
      "metadata": {
        "execution": {
          "iopub.status.busy": "2022-01-29T05:27:38.760618Z",
          "iopub.execute_input": "2022-01-29T05:27:38.761260Z",
          "iopub.status.idle": "2022-01-29T05:46:15.203646Z",
          "shell.execute_reply.started": "2022-01-29T05:27:38.761217Z",
          "shell.execute_reply": "2022-01-29T05:46:15.202627Z"
        },
        "trusted": true,
        "colab": {
          "base_uri": "https://localhost:8080/"
        },
        "id": "-19OSSMVY78y",
        "outputId": "3334472e-2f3e-4714-e121-9d5c5c4837b3"
      },
      "execution_count": null,
      "outputs": [
        {
          "output_type": "stream",
          "name": "stdout",
          "text": [
            "Epoch 1/20\n",
            "12/12 [==============================] - 113s 9s/step - loss: 0.6920 - accuracy: 0.5283 - val_loss: 0.6858 - val_accuracy: 0.5864\n",
            "Epoch 2/20\n",
            "12/12 [==============================] - 99s 8s/step - loss: 0.6818 - accuracy: 0.5772 - val_loss: 0.6889 - val_accuracy: 0.5168\n",
            "Epoch 3/20\n",
            "12/12 [==============================] - 97s 8s/step - loss: 0.6896 - accuracy: 0.5152 - val_loss: 0.6808 - val_accuracy: 0.5628\n",
            "Epoch 4/20\n",
            "12/12 [==============================] - 97s 8s/step - loss: 0.6885 - accuracy: 0.5287 - val_loss: 0.6809 - val_accuracy: 0.5623\n",
            "Epoch 5/20\n",
            "12/12 [==============================] - 97s 8s/step - loss: 0.6824 - accuracy: 0.5565 - val_loss: 0.6781 - val_accuracy: 0.5697\n",
            "Epoch 6/20\n",
            "12/12 [==============================] - 97s 8s/step - loss: 0.6775 - accuracy: 0.5770 - val_loss: 0.6751 - val_accuracy: 0.5863\n",
            "Epoch 7/20\n",
            "12/12 [==============================] - 97s 8s/step - loss: 0.6636 - accuracy: 0.6093 - val_loss: 0.6682 - val_accuracy: 0.5843\n",
            "Epoch 8/20\n",
            "12/12 [==============================] - 97s 8s/step - loss: 0.6488 - accuracy: 0.6397 - val_loss: 0.6422 - val_accuracy: 0.6519\n",
            "Epoch 9/20\n",
            "12/12 [==============================] - 100s 8s/step - loss: 0.6315 - accuracy: 0.6525 - val_loss: 0.6390 - val_accuracy: 0.6447\n",
            "Epoch 10/20\n",
            "12/12 [==============================] - 98s 8s/step - loss: 0.5917 - accuracy: 0.7005 - val_loss: 0.6435 - val_accuracy: 0.6482\n",
            "Epoch 11/20\n",
            "12/12 [==============================] - 98s 8s/step - loss: 0.5594 - accuracy: 0.7286 - val_loss: 0.6473 - val_accuracy: 0.6584\n",
            "Epoch 12/20\n",
            "12/12 [==============================] - 97s 8s/step - loss: 0.5243 - accuracy: 0.7614 - val_loss: 0.6561 - val_accuracy: 0.6447\n",
            "Epoch 13/20\n",
            "12/12 [==============================] - 98s 8s/step - loss: 0.4892 - accuracy: 0.7877 - val_loss: 0.6578 - val_accuracy: 0.6551\n",
            "Epoch 14/20\n",
            "12/12 [==============================] - 97s 8s/step - loss: 0.4581 - accuracy: 0.8106 - val_loss: 0.6885 - val_accuracy: 0.6586\n",
            "Epoch 15/20\n",
            "12/12 [==============================] - 97s 8s/step - loss: 0.4417 - accuracy: 0.8218 - val_loss: 0.6955 - val_accuracy: 0.6569\n",
            "Epoch 16/20\n",
            "12/12 [==============================] - 98s 8s/step - loss: 0.4199 - accuracy: 0.8346 - val_loss: 0.7228 - val_accuracy: 0.6539\n",
            "Epoch 17/20\n",
            "12/12 [==============================] - 98s 8s/step - loss: 0.4113 - accuracy: 0.8405 - val_loss: 0.7423 - val_accuracy: 0.6430\n",
            "Epoch 18/20\n",
            "12/12 [==============================] - 97s 8s/step - loss: 0.4056 - accuracy: 0.8432 - val_loss: 0.7672 - val_accuracy: 0.6536\n",
            "Epoch 19/20\n",
            "12/12 [==============================] - 108s 9s/step - loss: 0.3951 - accuracy: 0.8502 - val_loss: 0.7711 - val_accuracy: 0.6477\n",
            "Epoch 20/20\n",
            "12/12 [==============================] - 102s 8s/step - loss: 0.3846 - accuracy: 0.8565 - val_loss: 0.7472 - val_accuracy: 0.6495\n"
          ]
        }
      ]
    },
    {
      "cell_type": "code",
      "source": [
        "accuracy = history.history[\"accuracy\"]\n",
        "loss = history.history[\"loss\"]\n",
        "\n",
        "val_accuracy = history.history[\"val_accuracy\"]\n",
        "val_loss = history.history[\"val_loss\"]\n",
        "\n",
        "#plot \n",
        "plt.plot(accuracy,'g',label='training accuracy')\n",
        "plt.plot(val_accuracy, 'r', label='validation accuracy')\n",
        "plt.legend()\n",
        "plt.show()\n",
        "\n",
        "\n",
        "plt.plot(loss,'g',label='training loss')\n",
        "plt.plot(val_loss, 'r', label='validation loss')\n",
        "plt.legend()\n",
        "plt.show()"
      ],
      "metadata": {
        "execution": {
          "iopub.status.busy": "2022-01-29T05:46:15.205960Z",
          "iopub.execute_input": "2022-01-29T05:46:15.206532Z",
          "iopub.status.idle": "2022-01-29T05:46:15.659462Z",
          "shell.execute_reply.started": "2022-01-29T05:46:15.206489Z",
          "shell.execute_reply": "2022-01-29T05:46:15.658243Z"
        },
        "trusted": true,
        "colab": {
          "base_uri": "https://localhost:8080/",
          "height": 513
        },
        "id": "Ka_OegVIY78y",
        "outputId": "4436b8a7-ebfa-4b0f-a6a1-d11748a809f8"
      },
      "execution_count": null,
      "outputs": [
        {
          "output_type": "display_data",
          "data": {
            "image/png": "[encoded data removed]",
            "text/plain": [
              "<Figure size 432x288 with 1 Axes>"
            ]
          },
          "metadata": {
            "needs_background": "light"
          }
        },
        {
          "output_type": "display_data",
          "data": {
            "image/png": "[encoded data removed]",
            "text/plain": [
              "<Figure size 432x288 with 1 Axes>"
            ]
          },
          "metadata": {
            "needs_background": "light"
          }
        }
      ]
    },
    {
      "cell_type": "code",
      "source": [
        "y_pred = new_model.predict([X_test_q1, X_test_q2])"
      ],
      "metadata": {
        "execution": {
          "iopub.status.busy": "2022-01-29T05:46:15.661003Z",
          "iopub.execute_input": "2022-01-29T05:46:15.661306Z",
          "iopub.status.idle": "2022-01-29T05:46:56.290483Z",
          "shell.execute_reply.started": "2022-01-29T05:46:15.661272Z",
          "shell.execute_reply": "2022-01-29T05:46:56.289687Z"
        },
        "trusted": true,
        "id": "LyomffEaY78z"
      },
      "execution_count": null,
      "outputs": []
    },
    {
      "cell_type": "code",
      "source": [
        "np.argmax(y_pred[:10], axis=-1)"
      ],
      "metadata": {
        "execution": {
          "iopub.status.busy": "2022-01-29T05:47:48.641039Z",
          "iopub.execute_input": "2022-01-29T05:47:48.641360Z",
          "iopub.status.idle": "2022-01-29T05:47:48.648822Z",
          "shell.execute_reply.started": "2022-01-29T05:47:48.641326Z",
          "shell.execute_reply": "2022-01-29T05:47:48.647590Z"
        },
        "trusted": true,
        "colab": {
          "base_uri": "https://localhost:8080/"
        },
        "id": "uLduXzCjY78z",
        "outputId": "8396f137-38e3-4a22-9d3a-843e7119e96f"
      },
      "execution_count": null,
      "outputs": [
        {
          "output_type": "execute_result",
          "data": {
            "text/plain": [
              "array([0, 1, 1, 0, 1, 0, 0, 0, 1, 1])"
            ]
          },
          "metadata": {},
          "execution_count": 58
        }
      ]
    },
    {
      "cell_type": "markdown",
      "source": [
        "#Now using BERT model for solving the problem"
      ],
      "metadata": {
        "id": "OWEct0koVVxR"
      }
    },
    {
      "cell_type": "code",
      "source": [
        "import numpy as np\n",
        "import pandas as pd\n",
        "import tensorflow as tf\n",
        "!pip install transformers==2.11.0\n",
        "import transformers"
      ],
      "metadata": {
        "colab": {
          "base_uri": "https://localhost:8080/"
        },
        "id": "hqnmgODNVVDc",
        "outputId": "5e414827-780c-4c79-ac60-081ecd161a40"
      },
      "execution_count": 9,
      "outputs": [
        {
          "output_type": "stream",
          "name": "stdout",
          "text": [
            "Collecting transformers==2.11.0\n",
            "  Downloading transformers-2.11.0-py3-none-any.whl (674 kB)\n",
            "\u001b[K     |████████████████████████████████| 674 kB 5.4 MB/s \n",
            "\u001b[?25hCollecting sacremoses\n",
            "  Downloading sacremoses-0.0.47-py2.py3-none-any.whl (895 kB)\n",
            "\u001b[K     |████████████████████████████████| 895 kB 47.7 MB/s \n",
            "\u001b[?25hRequirement already satisfied: regex!=2019.12.17 in /usr/local/lib/python3.7/dist-packages (from transformers==2.11.0) (2019.12.20)\n",
            "Collecting tokenizers==0.7.0\n",
            "  Downloading tokenizers-0.7.0-cp37-cp37m-manylinux1_x86_64.whl (5.6 MB)\n",
            "\u001b[K     |████████████████████████████████| 5.6 MB 40.2 MB/s \n",
            "\u001b[?25hRequirement already satisfied: packaging in /usr/local/lib/python3.7/dist-packages (from transformers==2.11.0) (21.3)\n",
            "Requirement already satisfied: requests in /usr/local/lib/python3.7/dist-packages (from transformers==2.11.0) (2.23.0)\n",
            "Collecting sentencepiece\n",
            "  Downloading sentencepiece-0.1.96-cp37-cp37m-manylinux_2_17_x86_64.manylinux2014_x86_64.whl (1.2 MB)\n",
            "\u001b[K     |████████████████████████████████| 1.2 MB 41.3 MB/s \n",
            "\u001b[?25hRequirement already satisfied: numpy in /usr/local/lib/python3.7/dist-packages (from transformers==2.11.0) (1.19.5)\n",
            "Requirement already satisfied: filelock in /usr/local/lib/python3.7/dist-packages (from transformers==2.11.0) (3.4.2)\n",
            "Requirement already satisfied: tqdm>=4.27 in /usr/local/lib/python3.7/dist-packages (from transformers==2.11.0) (4.62.3)\n",
            "Requirement already satisfied: pyparsing!=3.0.5,>=2.0.2 in /usr/local/lib/python3.7/dist-packages (from packaging->transformers==2.11.0) (3.0.7)\n",
            "Requirement already satisfied: urllib3!=1.25.0,!=1.25.1,<1.26,>=1.21.1 in /usr/local/lib/python3.7/dist-packages (from requests->transformers==2.11.0) (1.24.3)\n",
            "Requirement already satisfied: chardet<4,>=3.0.2 in /usr/local/lib/python3.7/dist-packages (from requests->transformers==2.11.0) (3.0.4)\n",
            "Requirement already satisfied: idna<3,>=2.5 in /usr/local/lib/python3.7/dist-packages (from requests->transformers==2.11.0) (2.10)\n",
            "Requirement already satisfied: certifi>=2017.4.17 in /usr/local/lib/python3.7/dist-packages (from requests->transformers==2.11.0) (2021.10.8)\n",
            "Requirement already satisfied: click in /usr/local/lib/python3.7/dist-packages (from sacremoses->transformers==2.11.0) (7.1.2)\n",
            "Requirement already satisfied: joblib in /usr/local/lib/python3.7/dist-packages (from sacremoses->transformers==2.11.0) (1.1.0)\n",
            "Requirement already satisfied: six in /usr/local/lib/python3.7/dist-packages (from sacremoses->transformers==2.11.0) (1.15.0)\n",
            "Installing collected packages: tokenizers, sentencepiece, sacremoses, transformers\n",
            "Successfully installed sacremoses-0.0.47 sentencepiece-0.1.96 tokenizers-0.7.0 transformers-2.11.0\n"
          ]
        }
      ]
    },
    {
      "cell_type": "code",
      "source": [
        "!pip install transformers==2.11.0\n",
        "import transformers"
      ],
      "metadata": {
        "id": "ataK0YrLY78z",
        "colab": {
          "base_uri": "https://localhost:8080/"
        },
        "outputId": "a6175d98-9e55-476b-f8d1-03ec1f3460fb"
      },
      "execution_count": 10,
      "outputs": [
        {
          "output_type": "stream",
          "name": "stdout",
          "text": [
            "Requirement already satisfied: transformers==2.11.0 in /usr/local/lib/python3.7/dist-packages (2.11.0)\n",
            "Requirement already satisfied: numpy in /usr/local/lib/python3.7/dist-packages (from transformers==2.11.0) (1.19.5)\n",
            "Requirement already satisfied: filelock in /usr/local/lib/python3.7/dist-packages (from transformers==2.11.0) (3.4.2)\n",
            "Requirement already satisfied: regex!=2019.12.17 in /usr/local/lib/python3.7/dist-packages (from transformers==2.11.0) (2019.12.20)\n",
            "Requirement already satisfied: packaging in /usr/local/lib/python3.7/dist-packages (from transformers==2.11.0) (21.3)\n",
            "Requirement already satisfied: sentencepiece in /usr/local/lib/python3.7/dist-packages (from transformers==2.11.0) (0.1.96)\n",
            "Requirement already satisfied: sacremoses in /usr/local/lib/python3.7/dist-packages (from transformers==2.11.0) (0.0.47)\n",
            "Requirement already satisfied: tqdm>=4.27 in /usr/local/lib/python3.7/dist-packages (from transformers==2.11.0) (4.62.3)\n",
            "Requirement already satisfied: requests in /usr/local/lib/python3.7/dist-packages (from transformers==2.11.0) (2.23.0)\n",
            "Requirement already satisfied: tokenizers==0.7.0 in /usr/local/lib/python3.7/dist-packages (from transformers==2.11.0) (0.7.0)\n",
            "Requirement already satisfied: pyparsing!=3.0.5,>=2.0.2 in /usr/local/lib/python3.7/dist-packages (from packaging->transformers==2.11.0) (3.0.7)\n",
            "Requirement already satisfied: urllib3!=1.25.0,!=1.25.1,<1.26,>=1.21.1 in /usr/local/lib/python3.7/dist-packages (from requests->transformers==2.11.0) (1.24.3)\n",
            "Requirement already satisfied: idna<3,>=2.5 in /usr/local/lib/python3.7/dist-packages (from requests->transformers==2.11.0) (2.10)\n",
            "Requirement already satisfied: certifi>=2017.4.17 in /usr/local/lib/python3.7/dist-packages (from requests->transformers==2.11.0) (2021.10.8)\n",
            "Requirement already satisfied: chardet<4,>=3.0.2 in /usr/local/lib/python3.7/dist-packages (from requests->transformers==2.11.0) (3.0.4)\n",
            "Requirement already satisfied: joblib in /usr/local/lib/python3.7/dist-packages (from sacremoses->transformers==2.11.0) (1.1.0)\n",
            "Requirement already satisfied: six in /usr/local/lib/python3.7/dist-packages (from sacremoses->transformers==2.11.0) (1.15.0)\n",
            "Requirement already satisfied: click in /usr/local/lib/python3.7/dist-packages (from sacremoses->transformers==2.11.0) (7.1.2)\n"
          ]
        }
      ]
    },
    {
      "cell_type": "code",
      "source": [
        "max_length = 128  # Maximum length of input sentence to the model.\n",
        "batch_size = 32\n",
        "epochs = 2\n",
        "\n",
        "# Labels in our dataset.\n",
        "labels = [1,0]\n",
        "df=train_data"
      ],
      "metadata": {
        "id": "dDQblJ1jWEKU"
      },
      "execution_count": 11,
      "outputs": []
    },
    {
      "cell_type": "code",
      "source": [
        "print(df.isnull().sum(axis=0))#Dropiing Null values\n",
        "df.dropna(axis=0,inplace=True)"
      ],
      "metadata": {
        "colab": {
          "base_uri": "https://localhost:8080/"
        },
        "id": "rXEXu4UWWGZ7",
        "outputId": "59605cc6-d068-4cad-e6ca-da855e91658c"
      },
      "execution_count": 12,
      "outputs": [
        {
          "output_type": "stream",
          "name": "stdout",
          "text": [
            "id              0\n",
            "qid1            0\n",
            "qid2            0\n",
            "question1       0\n",
            "question2       0\n",
            "is_duplicate    0\n",
            "dtype: int64\n"
          ]
        }
      ]
    },
    {
      "cell_type": "code",
      "source": [
        "mask = np.random.rand(len(df)) < 0.7\n",
        "train_df = df[mask]\n",
        "not_train = df[~mask]\n",
        "\n",
        "#create mask for val-test distribution\n",
        "mask = np.random.rand(len(not_train)) < 0.5\n",
        "test_df = not_train[mask]\n",
        "val_df = not_train[~mask]\n",
        "val_df.head(5)"
      ],
      "metadata": {
        "colab": {
          "base_uri": "https://localhost:8080/",
          "height": 206
        },
        "id": "kpOZOdd6WP9z",
        "outputId": "9bc59f46-7f7a-42c2-a274-9ce5a0786480"
      },
      "execution_count": 13,
      "outputs": [
        {
          "output_type": "execute_result",
          "data": {
            "text/html": [
              "\n",
              "  <div id=\"df-9ac8a94b-aba0-4c3f-9216-968a0cb20342\">\n",
              "    <div class=\"colab-df-container\">\n",
              "      <div>\n",
              "<style scoped>\n",
              "    .dataframe tbody tr th:only-of-type {\n",
              "        vertical-align: middle;\n",
              "    }\n",
              "\n",
              "    .dataframe tbody tr th {\n",
              "        vertical-align: top;\n",
              "    }\n",
              "\n",
              "    .dataframe thead th {\n",
              "        text-align: right;\n",
              "    }\n",
              "</style>\n",
              "<table border=\"1\" class=\"dataframe\">\n",
              "  <thead>\n",
              "    <tr style=\"text-align: right;\">\n",
              "      <th></th>\n",
              "      <th>id</th>\n",
              "      <th>qid1</th>\n",
              "      <th>qid2</th>\n",
              "      <th>question1</th>\n",
              "      <th>question2</th>\n",
              "      <th>is_duplicate</th>\n",
              "    </tr>\n",
              "  </thead>\n",
              "  <tbody>\n",
              "    <tr>\n",
              "      <th>6</th>\n",
              "      <td>227940</td>\n",
              "      <td>336895</td>\n",
              "      <td>14677</td>\n",
              "      <td>How can I make friends with kids?</td>\n",
              "      <td>How can you make friends with people?</td>\n",
              "      <td>0</td>\n",
              "    </tr>\n",
              "    <tr>\n",
              "      <th>13</th>\n",
              "      <td>112587</td>\n",
              "      <td>184184</td>\n",
              "      <td>184185</td>\n",
              "      <td>When will China be free?</td>\n",
              "      <td>What is a primer and sealer?</td>\n",
              "      <td>0</td>\n",
              "    </tr>\n",
              "    <tr>\n",
              "      <th>20</th>\n",
              "      <td>370440</td>\n",
              "      <td>13002</td>\n",
              "      <td>53214</td>\n",
              "      <td>What are the best books for preparation of gat...</td>\n",
              "      <td>Which are the best books for GATE?</td>\n",
              "      <td>1</td>\n",
              "    </tr>\n",
              "    <tr>\n",
              "      <th>30</th>\n",
              "      <td>175300</td>\n",
              "      <td>79364</td>\n",
              "      <td>269940</td>\n",
              "      <td>How many beats per minute is allegro?</td>\n",
              "      <td>How many music producers in the world make +$1...</td>\n",
              "      <td>0</td>\n",
              "    </tr>\n",
              "    <tr>\n",
              "      <th>37</th>\n",
              "      <td>250664</td>\n",
              "      <td>364621</td>\n",
              "      <td>364622</td>\n",
              "      <td>Is French hard to learn?</td>\n",
              "      <td>Is it hard to learn French?</td>\n",
              "      <td>1</td>\n",
              "    </tr>\n",
              "  </tbody>\n",
              "</table>\n",
              "</div>\n",
              "      <button class=\"colab-df-convert\" onclick=\"convertToInteractive('df-9ac8a94b-aba0-4c3f-9216-968a0cb20342')\"\n",
              "              title=\"Convert this dataframe to an interactive table.\"\n",
              "              style=\"display:none;\">\n",
              "        \n",
              "  <svg xmlns=\"http://www.w3.org/2000/svg\" height=\"24px\"viewBox=\"0 0 24 24\"\n",
              "       width=\"24px\">\n",
              "    <path d=\"M0 0h24v24H0V0z\" fill=\"none\"/>\n",
              "    <path d=\"M18.56 5.44l.94 2.06.94-2.06 2.06-.94-2.06-.94-.94-2.06-.94 2.06-2.06.94zm-11 1L8.5 8.5l.94-2.06 2.06-.94-2.06-.94L8.5 2.5l-.94 2.06-2.06.94zm10 10l.94 2.06.94-2.06 2.06-.94-2.06-.94-.94-2.06-.94 2.06-2.06.94z\"/><path d=\"M17.41 7.96l-1.37-1.37c-.4-.4-.92-.59-1.43-.59-.52 0-1.04.2-1.43.59L10.3 9.45l-7.72 7.72c-.78.78-.78 2.05 0 2.83L4 21.41c.39.39.9.59 1.41.59.51 0 1.02-.2 1.41-.59l7.78-7.78 2.81-2.81c.8-.78.8-2.07 0-2.86zM5.41 20L4 18.59l7.72-7.72 1.47 1.35L5.41 20z\"/>\n",
              "  </svg>\n",
              "      </button>\n",
              "      \n",
              "  <style>\n",
              "    .colab-df-container {\n",
              "      display:flex;\n",
              "      flex-wrap:wrap;\n",
              "      gap: 12px;\n",
              "    }\n",
              "\n",
              "    .colab-df-convert {\n",
              "      background-color: #E8F0FE;\n",
              "      border: none;\n",
              "      border-radius: 50%;\n",
              "      cursor: pointer;\n",
              "      display: none;\n",
              "      fill: #1967D2;\n",
              "      height: 32px;\n",
              "      padding: 0 0 0 0;\n",
              "      width: 32px;\n",
              "    }\n",
              "\n",
              "    .colab-df-convert:hover {\n",
              "      background-color: #E2EBFA;\n",
              "      box-shadow: 0px 1px 2px rgba(60, 64, 67, 0.3), 0px 1px 3px 1px rgba(60, 64, 67, 0.15);\n",
              "      fill: #174EA6;\n",
              "    }\n",
              "\n",
              "    [theme=dark] .colab-df-convert {\n",
              "      background-color: #3B4455;\n",
              "      fill: #D2E3FC;\n",
              "    }\n",
              "\n",
              "    [theme=dark] .colab-df-convert:hover {\n",
              "      background-color: #434B5C;\n",
              "      box-shadow: 0px 1px 3px 1px rgba(0, 0, 0, 0.15);\n",
              "      filter: drop-shadow(0px 1px 2px rgba(0, 0, 0, 0.3));\n",
              "      fill: #FFFFFF;\n",
              "    }\n",
              "  </style>\n",
              "\n",
              "      <script>\n",
              "        const buttonEl =\n",
              "          document.querySelector('#df-9ac8a94b-aba0-4c3f-9216-968a0cb20342 button.colab-df-convert');\n",
              "        buttonEl.style.display =\n",
              "          google.colab.kernel.accessAllowed ? 'block' : 'none';\n",
              "\n",
              "        async function convertToInteractive(key) {\n",
              "          const element = document.querySelector('#df-9ac8a94b-aba0-4c3f-9216-968a0cb20342');\n",
              "          const dataTable =\n",
              "            await google.colab.kernel.invokeFunction('convertToInteractive',\n",
              "                                                     [key], {});\n",
              "          if (!dataTable) return;\n",
              "\n",
              "          const docLinkHtml = 'Like what you see? Visit the ' +\n",
              "            '<a target=\"_blank\" href=https://colab.research.google.com/notebooks/data_table.ipynb>data table notebook</a>'\n",
              "            + ' to learn more about interactive tables.';\n",
              "          element.innerHTML = '';\n",
              "          dataTable['output_type'] = 'display_data';\n",
              "          await google.colab.output.renderOutput(dataTable, element);\n",
              "          const docLink = document.createElement('div');\n",
              "          docLink.innerHTML = docLinkHtml;\n",
              "          element.appendChild(docLink);\n",
              "        }\n",
              "      </script>\n",
              "    </div>\n",
              "  </div>\n",
              "  "
            ],
            "text/plain": [
              "        id  ...  is_duplicate\n",
              "6   227940  ...             0\n",
              "13  112587  ...             0\n",
              "20  370440  ...             1\n",
              "30  175300  ...             0\n",
              "37  250664  ...             1\n",
              "\n",
              "[5 rows x 6 columns]"
            ]
          },
          "metadata": {},
          "execution_count": 13
        }
      ]
    },
    {
      "cell_type": "code",
      "source": [
        "print(f\"Total train samples : {train_df.shape[0]}\")\n",
        "print(f\"Total validation samples: {val_df.shape[0]}\")\n",
        "print(f\"Total test samples: {test_df.shape[0]}\")"
      ],
      "metadata": {
        "colab": {
          "base_uri": "https://localhost:8080/"
        },
        "id": "WK7a8moPWhs1",
        "outputId": "438cd3d5-e960-43bb-eec1-d06e745132a0"
      },
      "execution_count": 14,
      "outputs": [
        {
          "output_type": "stream",
          "name": "stdout",
          "text": [
            "Total train samples : 28243\n",
            "Total validation samples: 6116\n",
            "Total test samples: 6070\n"
          ]
        }
      ]
    },
    {
      "cell_type": "code",
      "source": [
        "print(\"Train Target Distribution\")\n",
        "print(train_df.is_duplicate.value_counts())\n",
        "\n",
        "print(\"Validation Target Distribution\")\n",
        "print(val_df.is_duplicate.value_counts())\n"
      ],
      "metadata": {
        "colab": {
          "base_uri": "https://localhost:8080/"
        },
        "id": "mZnynWPHWpTR",
        "outputId": "a205c9cd-8e38-453b-fa03-7d7a5ccf9dc5"
      },
      "execution_count": 15,
      "outputs": [
        {
          "output_type": "stream",
          "name": "stdout",
          "text": [
            "Train Target Distribution\n",
            "0    17764\n",
            "1    10479\n",
            "Name: is_duplicate, dtype: int64\n",
            "Validation Target Distribution\n",
            "0    3857\n",
            "1    2259\n",
            "Name: is_duplicate, dtype: int64\n"
          ]
        }
      ]
    },
    {
      "cell_type": "code",
      "source": [
        "y_train = tf.keras.utils.to_categorical(train_df.is_duplicate, num_classes=2)#One hot encodding representation\n",
        "print(f\"y_train.shape:{y_train.shape}\")\n",
        "\n",
        "y_val = tf.keras.utils.to_categorical(val_df.is_duplicate, num_classes=2)\n",
        "print(f\"y_val.shape:{y_val.shape}\")\n",
        "\n",
        "y_test = tf.keras.utils.to_categorical(test_df.is_duplicate, num_classes=2)\n",
        "print(f\"y_test.shape:{y_test.shape}\")"
      ],
      "metadata": {
        "colab": {
          "base_uri": "https://localhost:8080/"
        },
        "id": "W-nQdlfRWs2b",
        "outputId": "4e8c290d-c2fd-4bec-af66-5ab15f217eb2"
      },
      "execution_count": 16,
      "outputs": [
        {
          "output_type": "stream",
          "name": "stdout",
          "text": [
            "y_train.shape:(28243, 2)\n",
            "y_val.shape:(6116, 2)\n",
            "y_test.shape:(6070, 2)\n"
          ]
        }
      ]
    },
    {
      "cell_type": "code",
      "source": [
        "class BertSemanticDataGenerator(tf.keras.utils.Sequence):\n",
        "  def __init__(\n",
        "        self,\n",
        "        sentence_pairs,\n",
        "        labels,\n",
        "        batch_size=batch_size,\n",
        "        shuffle=True,\n",
        "        include_targets=True,\n",
        "    ):\n",
        "        self.sentence_pairs = sentence_pairs\n",
        "        self.labels = labels\n",
        "        self.shuffle = shuffle\n",
        "        self.batch_size = batch_size\n",
        "        self.include_targets = include_targets\n",
        "        \n",
        "        # Load our BERT Tokenizer to encode the text.\n",
        "        # We will use base-base-uncased pretrained model.\n",
        "        self.tokenizer = transformers.BertTokenizer.from_pretrained(\n",
        "            \"bert-base-uncased\", do_lower_case=True\n",
        "        )\n",
        "        self.indexes = np.arange(len(self.sentence_pairs))\n",
        "        self.on_epoch_end()\n",
        "\n",
        "  def __len__(self):\n",
        "        # Denotes the number of batches per epoch.\n",
        "        return len(self.sentence_pairs) // self.batch_size\n",
        "\n",
        "  def __getitem__(self, idx):\n",
        "        # Retrieves the batch of index.\n",
        "        indexes = self.indexes[idx * self.batch_size : (idx + 1) * self.batch_size]\n",
        "        sentence_pairs = self.sentence_pairs[indexes]\n",
        "\n",
        "        # With BERT tokenizer's batch_encode_plus batch of both the sentences are\n",
        "        # encoded together and separated by [SEP] token.\n",
        "        encoded = self.tokenizer.batch_encode_plus(\n",
        "            sentence_pairs.tolist(),\n",
        "            add_special_tokens=True,\n",
        "            max_length=max_length,\n",
        "            return_attention_mask=True,\n",
        "            return_token_type_ids=True,\n",
        "            pad_to_max_length=True,\n",
        "            return_tensors=\"tf\",\n",
        "        )\n",
        "\n",
        "        # Convert batch of encoded features to numpy array.\n",
        "        input_ids = np.array(encoded[\"input_ids\"], dtype=\"int32\")\n",
        "        attention_masks = np.array(encoded[\"attention_mask\"], dtype=\"int32\")\n",
        "        token_type_ids = np.array(encoded[\"token_type_ids\"], dtype=\"int32\")\n",
        "\n",
        "        # Set to true if data generator is used for training/validation.\n",
        "        if self.include_targets:\n",
        "            labels = np.array(self.labels[indexes], dtype=\"int32\")\n",
        "            return [input_ids, attention_masks, token_type_ids], labels\n",
        "        else:\n",
        "            return [input_ids, attention_masks, token_type_ids]\n",
        "\n",
        "  def on_epoch_end(self):\n",
        "        # Shuffle indexes after each epoch if shuffle is set to True.\n",
        "        if self.shuffle:\n",
        "            np.random.RandomState(42).shuffle(self.indexes)"
      ],
      "metadata": {
        "id": "wLzUWFSQWyBJ"
      },
      "execution_count": 17,
      "outputs": []
    },
    {
      "cell_type": "code",
      "source": [
        "strategy = tf.distribute.MirroredStrategy()# Create the model under a distribution strategy scope.\n",
        "\n",
        "with strategy.scope():\n",
        "    # Encoded token ids from BERT tokenizer.\n",
        "    input_ids = tf.keras.layers.Input(\n",
        "        shape=(max_length,), dtype=tf.int32, name=\"input_ids\"\n",
        "    )\n",
        "    # Attention masks indicates to the model which tokens should be attended to.\n",
        "    attention_masks = tf.keras.layers.Input(\n",
        "        shape=(max_length,), dtype=tf.int32, name=\"attention_masks\"\n",
        "    )\n",
        "    # Token type ids are binary masks identifying different sequences in the model.\n",
        "    token_type_ids = tf.keras.layers.Input(\n",
        "        shape=(max_length,), dtype=tf.int32, name=\"token_type_ids\"\n",
        "    )\n",
        "    # Loading pretrained BERT model.\n",
        "    bert_model = transformers.TFBertModel.from_pretrained(\"bert-base-uncased\")\n",
        "    # Freeze the BERT model to reuse the pretrained features without modifying them.\n",
        "    bert_model.trainable = False\n",
        "\n",
        "    sequence_output, pooled_output = bert_model(\n",
        "        input_ids, attention_mask=attention_masks, token_type_ids=token_type_ids\n",
        "    )\n",
        "    # Add trainable layers on top of frozen layers to adapt the pretrained features on the new data.\n",
        "    bi_lstm = tf.keras.layers.Bidirectional(tf.keras.layers.LSTM(64, return_sequences=True))(sequence_output)\n",
        "    \n",
        "    # Applying hybrid pooling approach to bi_lstm sequence output.\n",
        "    avg_pool = tf.keras.layers.GlobalAveragePooling1D()(bi_lstm)\n",
        "    max_pool = tf.keras.layers.GlobalMaxPooling1D()(bi_lstm)\n",
        "    concat = tf.keras.layers.concatenate([avg_pool, max_pool])\n",
        "    dropout = tf.keras.layers.Dropout(0.3)(concat)\n",
        "    output = tf.keras.layers.Dense(2, activation=\"softmax\")(dropout)\n",
        "    model = tf.keras.models.Model(\n",
        "        inputs=[input_ids, attention_masks, token_type_ids], outputs=output\n",
        "    )\n",
        "\n",
        "    model.compile(\n",
        "        optimizer=tf.keras.optimizers.Adam(),\n",
        "        loss=\"categorical_crossentropy\",\n",
        "        metrics=[\"acc\"],\n",
        "    )\n",
        "\n",
        "\n",
        "print(f\"Strategy: {strategy}\")\n",
        "model.summary()"
      ],
      "metadata": {
        "colab": {
          "base_uri": "https://localhost:8080/",
          "height": 775,
          "referenced_widgets": [
            "9ea645f3986e488481de7b8ca3258d7a",
            "2cd0003c552e4d7bb7cb2118b625d6e7",
            "99e047ed4fe44933816e58a440f5ee89",
            "6111bd306836421ea6efc2e430a425ca",
            "5359ad3892a64eabb4994a8033f0181b",
            "4c45d984c2da44e895405ea9a48ac218",
            "df7743debe644388920baa1599cbdb68",
            "4118abe074ae47d8a51a65e4c45cf9c0",
            "b87374ad74e241d59f15eff206f9d61d",
            "2a9306828735470f9a6c4213c9e068a8",
            "307d89492e614f0097ed23dfbc1b1023",
            "50e44486c2634e1197d0bd7d58f25e2a",
            "5c97d2a2d006409a834e7acf10fd6eb8",
            "f4c27bb53ab941b185dd76a41d52d81a",
            "465734bbe05442528e8cfdaf18db474f",
            "62b99f5f1e084b1da29ce901c8641247",
            "5b9035dbd46c4e7eb2d1cfb145ccfb30",
            "f91d8a1341d847de8815dd1740bb0e66",
            "51ceeed30f9a4690b78c2b96b528d02e",
            "fd6baff5c6c64398a92137a20969b680",
            "ed5481013f0c49a381f2dd81fc8a0312",
            "c7dcb7201f5c4464a128e5d9862944a7"
          ]
        },
        "id": "KDA9Kqn7W7Vr",
        "outputId": "04d79781-e2bc-4dbb-d8a8-a9e5ec206732"
      },
      "execution_count": 18,
      "outputs": [
        {
          "output_type": "stream",
          "name": "stdout",
          "text": [
            "INFO:tensorflow:Using MirroredStrategy with devices ('/job:localhost/replica:0/task:0/device:GPU:0',)\n"
          ]
        },
        {
          "output_type": "display_data",
          "data": {
            "application/vnd.jupyter.widget-view+json": {
              "model_id": "9ea645f3986e488481de7b8ca3258d7a",
              "version_minor": 0,
              "version_major": 2
            },
            "text/plain": [
              "Downloading:   0%|          | 0.00/433 [00:00<?, ?B/s]"
            ]
          },
          "metadata": {}
        },
        {
          "output_type": "display_data",
          "data": {
            "application/vnd.jupyter.widget-view+json": {
              "model_id": "50e44486c2634e1197d0bd7d58f25e2a",
              "version_minor": 0,
              "version_major": 2
            },
            "text/plain": [
              "Downloading:   0%|          | 0.00/536M [00:00<?, ?B/s]"
            ]
          },
          "metadata": {}
        },
        {
          "output_type": "stream",
          "name": "stdout",
          "text": [
            "INFO:tensorflow:Reduce to /job:localhost/replica:0/task:0/device:CPU:0 then broadcast to ('/job:localhost/replica:0/task:0/device:CPU:0',).\n",
            "INFO:tensorflow:Reduce to /job:localhost/replica:0/task:0/device:CPU:0 then broadcast to ('/job:localhost/replica:0/task:0/device:CPU:0',).\n",
            "INFO:tensorflow:Reduce to /job:localhost/replica:0/task:0/device:CPU:0 then broadcast to ('/job:localhost/replica:0/task:0/device:CPU:0',).\n",
            "INFO:tensorflow:Reduce to /job:localhost/replica:0/task:0/device:CPU:0 then broadcast to ('/job:localhost/replica:0/task:0/device:CPU:0',).\n",
            "Strategy: <tensorflow.python.distribute.mirrored_strategy.MirroredStrategy object at 0x7f42193c5ad0>\n",
            "Model: \"model\"\n",
            "__________________________________________________________________________________________________\n",
            " Layer (type)                   Output Shape         Param #     Connected to                     \n",
            "==================================================================================================\n",
            " input_ids (InputLayer)         [(None, 128)]        0           []                               \n",
            "                                                                                                  \n",
            " attention_masks (InputLayer)   [(None, 128)]        0           []                               \n",
            "                                                                                                  \n",
            " token_type_ids (InputLayer)    [(None, 128)]        0           []                               \n",
            "                                                                                                  \n",
            " tf_bert_model (TFBertModel)    ((None, 128, 768),   109482240   ['input_ids[0][0]',              \n",
            "                                 (None, 768))                     'attention_masks[0][0]',        \n",
            "                                                                  'token_type_ids[0][0]']         \n",
            "                                                                                                  \n",
            " bidirectional (Bidirectional)  (None, 128, 128)     426496      ['tf_bert_model[0][0]']          \n",
            "                                                                                                  \n",
            " global_average_pooling1d (Glob  (None, 128)         0           ['bidirectional[0][0]']          \n",
            " alAveragePooling1D)                                                                              \n",
            "                                                                                                  \n",
            " global_max_pooling1d (GlobalMa  (None, 128)         0           ['bidirectional[0][0]']          \n",
            " xPooling1D)                                                                                      \n",
            "                                                                                                  \n",
            " concatenate (Concatenate)      (None, 256)          0           ['global_average_pooling1d[0][0]'\n",
            "                                                                 , 'global_max_pooling1d[0][0]']  \n",
            "                                                                                                  \n",
            " dropout_37 (Dropout)           (None, 256)          0           ['concatenate[0][0]']            \n",
            "                                                                                                  \n",
            " dense (Dense)                  (None, 2)            514         ['dropout_37[0][0]']             \n",
            "                                                                                                  \n",
            "==================================================================================================\n",
            "Total params: 109,909,250\n",
            "Trainable params: 427,010\n",
            "Non-trainable params: 109,482,240\n",
            "__________________________________________________________________________________________________\n"
          ]
        }
      ]
    },
    {
      "cell_type": "code",
      "source": [
        "train_data = BertSemanticDataGenerator(\n",
        "    train_df[[\"question1\", \"question2\"]].values.astype(\"str\"),\n",
        "    y_train,\n",
        "    batch_size=batch_size,\n",
        "    shuffle=True,\n",
        ")\n",
        "val_data = BertSemanticDataGenerator(\n",
        "    val_df[[\"question1\", \"question2\"]].values.astype(\"str\"),\n",
        "    y_val,\n",
        "    batch_size=batch_size,\n",
        "    shuffle=False,\n",
        ")"
      ],
      "metadata": {
        "colab": {
          "base_uri": "https://localhost:8080/",
          "height": 49,
          "referenced_widgets": [
            "c59d84edc2c546ea8ff3800394dc950c",
            "75a75d94a94d448184e5e6951ecc12d9",
            "b7b7f1762a354e218f8a3d6c1bbc97f4",
            "a64003bdf039481680024e8d4aa4140c",
            "9a7ac7c723354a539b31e0e3fd1cdf23",
            "eacb33bbb7654a4d8fe4782e361f46b9",
            "150b769cd6c7492badeaa30963f1a766",
            "7b5c1aaa5a0349cf910bbcead4e171bb",
            "74584e8e74744e36a017177192a1ed35",
            "e8ffdd32784043ee8065832e0254d0a0",
            "a177cff44ddb4c6eae4b53e25059830e"
          ]
        },
        "id": "ErrYfJwaX5de",
        "outputId": "331838cb-e669-4281-cf7f-680da2ccdb2a"
      },
      "execution_count": 19,
      "outputs": [
        {
          "output_type": "display_data",
          "data": {
            "application/vnd.jupyter.widget-view+json": {
              "model_id": "c59d84edc2c546ea8ff3800394dc950c",
              "version_minor": 0,
              "version_major": 2
            },
            "text/plain": [
              "Downloading:   0%|          | 0.00/232k [00:00<?, ?B/s]"
            ]
          },
          "metadata": {}
        }
      ]
    },
    {
      "cell_type": "code",
      "source": [
        "history = model.fit(\n",
        "    train_data,\n",
        "    validation_data=val_data,\n",
        "    epochs=1,\n",
        "     use_multiprocessing=True,\n",
        "    workers=-1,\n",
        ")"
      ],
      "metadata": {
        "colab": {
          "base_uri": "https://localhost:8080/"
        },
        "id": "KVD8T4glYIe6",
        "outputId": "eed7018c-01aa-4d15-b8f2-2ba46d484a8a"
      },
      "execution_count": 20,
      "outputs": [
        {
          "output_type": "stream",
          "name": "stdout",
          "text": [
            "INFO:tensorflow:Reduce to /job:localhost/replica:0/task:0/device:CPU:0 then broadcast to ('/job:localhost/replica:0/task:0/device:CPU:0',).\n",
            "INFO:tensorflow:Reduce to /job:localhost/replica:0/task:0/device:CPU:0 then broadcast to ('/job:localhost/replica:0/task:0/device:CPU:0',).\n",
            "INFO:tensorflow:Reduce to /job:localhost/replica:0/task:0/device:CPU:0 then broadcast to ('/job:localhost/replica:0/task:0/device:CPU:0',).\n",
            "INFO:tensorflow:Reduce to /job:localhost/replica:0/task:0/device:CPU:0 then broadcast to ('/job:localhost/replica:0/task:0/device:CPU:0',).\n",
            "INFO:tensorflow:Reduce to /job:localhost/replica:0/task:0/device:CPU:0 then broadcast to ('/job:localhost/replica:0/task:0/device:CPU:0',).\n",
            "INFO:tensorflow:Reduce to /job:localhost/replica:0/task:0/device:CPU:0 then broadcast to ('/job:localhost/replica:0/task:0/device:CPU:0',).\n",
            "882/882 [==============================] - 808s 891ms/step - loss: 0.4825 - acc: 0.7509 - val_loss: 0.4383 - val_acc: 0.7958\n"
          ]
        }
      ]
    },
    {
      "cell_type": "code",
      "source": [
        "bert_model.trainable = True\n",
        "# Recompile the model to make the change effective.\n",
        "model.compile(\n",
        "    optimizer=tf.keras.optimizers.Adam(1e-5),\n",
        "    loss=\"categorical_crossentropy\",\n",
        "    metrics=[\"accuracy\"],\n",
        ")\n",
        "model.summary()"
      ],
      "metadata": {
        "colab": {
          "base_uri": "https://localhost:8080/"
        },
        "id": "Pl9MECViYM3g",
        "outputId": "1f8647c5-38a7-4b59-b5d0-cf871e7066d9"
      },
      "execution_count": 21,
      "outputs": [
        {
          "output_type": "stream",
          "name": "stdout",
          "text": [
            "Model: \"model\"\n",
            "__________________________________________________________________________________________________\n",
            " Layer (type)                   Output Shape         Param #     Connected to                     \n",
            "==================================================================================================\n",
            " input_ids (InputLayer)         [(None, 128)]        0           []                               \n",
            "                                                                                                  \n",
            " attention_masks (InputLayer)   [(None, 128)]        0           []                               \n",
            "                                                                                                  \n",
            " token_type_ids (InputLayer)    [(None, 128)]        0           []                               \n",
            "                                                                                                  \n",
            " tf_bert_model (TFBertModel)    ((None, 128, 768),   109482240   ['input_ids[0][0]',              \n",
            "                                 (None, 768))                     'attention_masks[0][0]',        \n",
            "                                                                  'token_type_ids[0][0]']         \n",
            "                                                                                                  \n",
            " bidirectional (Bidirectional)  (None, 128, 128)     426496      ['tf_bert_model[0][0]']          \n",
            "                                                                                                  \n",
            " global_average_pooling1d (Glob  (None, 128)         0           ['bidirectional[0][0]']          \n",
            " alAveragePooling1D)                                                                              \n",
            "                                                                                                  \n",
            " global_max_pooling1d (GlobalMa  (None, 128)         0           ['bidirectional[0][0]']          \n",
            " xPooling1D)                                                                                      \n",
            "                                                                                                  \n",
            " concatenate (Concatenate)      (None, 256)          0           ['global_average_pooling1d[0][0]'\n",
            "                                                                 , 'global_max_pooling1d[0][0]']  \n",
            "                                                                                                  \n",
            " dropout_37 (Dropout)           (None, 256)          0           ['concatenate[0][0]']            \n",
            "                                                                                                  \n",
            " dense (Dense)                  (None, 2)            514         ['dropout_37[0][0]']             \n",
            "                                                                                                  \n",
            "==================================================================================================\n",
            "Total params: 109,909,250\n",
            "Trainable params: 109,909,250\n",
            "Non-trainable params: 0\n",
            "__________________________________________________________________________________________________\n"
          ]
        }
      ]
    },
    {
      "cell_type": "code",
      "source": [
        "history = model.fit(\n",
        "    train_data,\n",
        "    validation_data=val_data,\n",
        "    epochs=1,\n",
        "    use_multiprocessing=True,\n",
        "    workers=-1,\n",
        ")"
      ],
      "metadata": {
        "colab": {
          "base_uri": "https://localhost:8080/"
        },
        "id": "nOYXyAz7ZVQj",
        "outputId": "9db3315b-3b18-4b22-cf4f-57824ff86471"
      },
      "execution_count": 22,
      "outputs": [
        {
          "output_type": "stream",
          "name": "stdout",
          "text": [
            "WARNING:tensorflow:Gradients do not exist for variables ['tf_bert_model/bert/pooler/dense/kernel:0', 'tf_bert_model/bert/pooler/dense/bias:0'] when minimizing the loss. If you're using `model.compile()`, did you forget to provide a `loss`argument?\n",
            "WARNING:tensorflow:Gradients do not exist for variables ['tf_bert_model/bert/pooler/dense/kernel:0', 'tf_bert_model/bert/pooler/dense/bias:0'] when minimizing the loss. If you're using `model.compile()`, did you forget to provide a `loss`argument?\n",
            "882/882 [==============================] - 1855s 2s/step - loss: 0.3792 - accuracy: 0.8188 - val_loss: 0.3346 - val_accuracy: 0.8496\n"
          ]
        }
      ]
    },
    {
      "cell_type": "code",
      "source": [
        "test_data = BertSemanticDataGenerator(\n",
        "    test_df[[\"question1\", \"question2\"]].values.astype(\"str\"),\n",
        "    y_test,\n",
        "    batch_size=batch_size,\n",
        "    shuffle=False,\n",
        ")\n",
        "model.evaluate(test_data, verbose=1)"
      ],
      "metadata": {
        "colab": {
          "base_uri": "https://localhost:8080/"
        },
        "id": "9r4JEqqCZ9-o",
        "outputId": "f1f2bb13-46ab-4c09-9a82-280695823ed8"
      },
      "execution_count": 23,
      "outputs": [
        {
          "output_type": "stream",
          "name": "stdout",
          "text": [
            "189/189 [==============================] - 125s 661ms/step - loss: 0.3475 - accuracy: 0.8438\n"
          ]
        },
        {
          "output_type": "execute_result",
          "data": {
            "text/plain": [
              "[0.3474774658679962, 0.84375]"
            ]
          },
          "metadata": {},
          "execution_count": 23
        }
      ]
    },
    {
      "cell_type": "code",
      "source": [
        "def check_similarity(sentence1, sentence2):\n",
        "  sentence_pairs = np.array([[str(sentence1), str(sentence2)]])\n",
        "  test_data = BertSemanticDataGenerator(\n",
        "      sentence_pairs, labels=None, batch_size=1, shuffle=False, include_targets=False,\n",
        "  )\n",
        "\n",
        "  proba = model.predict(test_data)[0]\n",
        "  idx = np.argmax(proba)\n",
        "  proba = f\"{proba[idx]: .2f}%\"\n",
        "  pred = labels[idx]\n",
        "  return pred, proba"
      ],
      "metadata": {
        "id": "pWQ3G-hRk42I"
      },
      "execution_count": 30,
      "outputs": []
    },
    {
      "cell_type": "code",
      "source": [
        ""
      ],
      "metadata": {
        "id": "YQjBD24DmtUC"
      },
      "execution_count": null,
      "outputs": []
    }
  ]
}